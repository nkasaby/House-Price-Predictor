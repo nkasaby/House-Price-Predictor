{
 "cells": [
  {
   "cell_type": "code",
   "execution_count": 1,
   "id": "initial_id",
   "metadata": {
    "collapsed": true,
    "ExecuteTime": {
     "end_time": "2024-05-02T14:00:11.295060Z",
     "start_time": "2024-05-02T14:00:10.369645Z"
    }
   },
   "outputs": [],
   "source": [
    "import tkinter as tk\n",
    "from tkinter import messagebox\n",
    "from tkinter import OptionMenu\n",
    "from tkinter import StringVar\n",
    "from tkinter import ttk\n",
    "from decimal import Decimal\n",
    "import mysql.connector\n",
    "import pandas as pd"
   ]
  },
  {
   "cell_type": "code",
   "execution_count": 2,
   "outputs": [],
   "source": [
    "conn = mysql.connector.connect(host = \"localhost\", user = \"root\", password = \"Heggi_2002\", database = \"Home_Scout\")\n",
    "\n",
    "CS_df = pd.read_csv(\"city_state.csv\")\n",
    "CS_df.drop(['Unnamed: 0'], axis=1, inplace=True)"
   ],
   "metadata": {
    "collapsed": false,
    "ExecuteTime": {
     "end_time": "2024-05-02T14:00:11.700520Z",
     "start_time": "2024-05-02T14:00:11.300291Z"
    }
   },
   "id": "b95b75728b1b6925"
  },
  {
   "cell_type": "code",
   "execution_count": 3,
   "outputs": [],
   "source": [
    "def End():\n",
    "    Main.destroy()"
   ],
   "metadata": {
    "collapsed": false,
    "ExecuteTime": {
     "end_time": "2024-05-02T14:00:11.710804Z",
     "start_time": "2024-05-02T14:00:11.700982Z"
    }
   },
   "id": "7c9d204c7542c69b"
  },
  {
   "cell_type": "code",
   "execution_count": 4,
   "outputs": [],
   "source": [
    "def Back_Main():\n",
    "    Main.deiconify()\n",
    "    if c == 2:\n",
    "        Signin.withdraw()\n",
    "    else:\n",
    "        Signup.withdraw()"
   ],
   "metadata": {
    "collapsed": false,
    "ExecuteTime": {
     "end_time": "2024-05-02T14:00:11.712666Z",
     "start_time": "2024-05-02T14:00:11.707666Z"
    }
   },
   "id": "36725e5c027c31a"
  },
  {
   "cell_type": "code",
   "execution_count": 5,
   "outputs": [],
   "source": [
    "def Back_Menus():\n",
    "    Menus.deiconify()\n",
    "    if k == 1:\n",
    "        if z == 1:\n",
    "            Pred_View.withdraw()\n",
    "        else:\n",
    "            New_Pred.withdraw()\n",
    "    else:\n",
    "        ViewPast.withdraw()"
   ],
   "metadata": {
    "collapsed": false,
    "ExecuteTime": {
     "end_time": "2024-05-02T14:00:11.721320Z",
     "start_time": "2024-05-02T14:00:11.716824Z"
    }
   },
   "id": "f732b935dca9d775"
  },
  {
   "cell_type": "code",
   "execution_count": 6,
   "outputs": [],
   "source": [
    "def Start():\n",
    "    global Main\n",
    "    Main = tk.Tk()\n",
    "    Main.title(\"Home_Scout\")\n",
    "    Main.geometry(\"600x450\")\n",
    "    \n",
    "    label = tk.Label(Main, text = \"Home Scout\", font = ('Arial', 28))\n",
    "    label.pack(pady = 20)\n",
    "\n",
    "    button_frame = tk.Frame(Main)\n",
    "\n",
    "    button_frame.columnconfigure(0, weight=1)\n",
    "\n",
    "    btn1 = tk.Button(button_frame, text=\"Sign in\", font=('Arial', 22), command=Sign_In_Page)\n",
    "    btn2 = tk.Button(button_frame, text=\"Sign up\", font=('Arial', 22), command=Sign_Up_Page)\n",
    "\n",
    "    btn1.grid(row = 0, column = 0, sticky = \"news\")\n",
    "    btn2.grid(row = 1, column = 0, sticky = \"news\")\n",
    "\n",
    "    button_frame.pack(pady=100)\n",
    "    Main.mainloop()"
   ],
   "metadata": {
    "collapsed": false,
    "ExecuteTime": {
     "end_time": "2024-05-02T14:00:11.733349Z",
     "start_time": "2024-05-02T14:00:11.725390Z"
    }
   },
   "id": "30c0bfc7aa8fafd"
  },
  {
   "cell_type": "code",
   "execution_count": 7,
   "outputs": [],
   "source": [
    "def Sign_Up_Page():\n",
    "    global c\n",
    "    c = 1\n",
    "    global Signup, USN\n",
    "    Signup = tk.Toplevel()\n",
    "    Signup.title(\"Home_Scout\")\n",
    "    Signup.geometry(\"600x450\")\n",
    "    Main.withdraw()\n",
    "\n",
    "    labelS = tk.Label(Signup, text=\"Sign Up Page\", font=('Arial', 24))\n",
    "    labelS.pack(pady=20)\n",
    "\n",
    "    labelS2 = tk.Label(Signup, text=\"Please Enter Your New Username\", font=('Arial', 20))\n",
    "    labelS2.pack(pady=20)\n",
    "\n",
    "    USN = tk.Entry(Signup, bd=10)\n",
    "    USN.place(x=195, y=160)\n",
    "\n",
    "    btnl = tk.Button(Signup, text=\"Enter\", font=('Arial', 22), command=Sign_Up)\n",
    "    btnl.pack(pady=80)\n",
    "    \n",
    "    back_button = tk.Button(Signup, text=\"Back\", font=('Arial', 22), command=Back_Main)\n",
    "    back_button.pack()"
   ],
   "metadata": {
    "collapsed": false,
    "ExecuteTime": {
     "end_time": "2024-05-02T14:00:11.743553Z",
     "start_time": "2024-05-02T14:00:11.733087Z"
    }
   },
   "id": "98ff14aaafcda1cc"
  },
  {
   "cell_type": "code",
   "execution_count": 8,
   "outputs": [],
   "source": [
    "def Sign_In_Page():\n",
    "    global Signin\n",
    "    global c\n",
    "    c = 2\n",
    "    Signin = tk.Toplevel()\n",
    "    Signin.title(\"Home_Scout\")\n",
    "    Signin.geometry(\"600x450\")\n",
    "    Main.withdraw()\n",
    "\n",
    "    label = tk.Label(Signin, text=\"Sign in Page\", font=('Arial', 24))\n",
    "    label.pack(pady=20)\n",
    "\n",
    "    label = tk.Label(Signin, text=\"Please Enter Your Username\", font=('Arial', 24))\n",
    "    label.pack(pady=50)\n",
    "\n",
    "    global input\n",
    "    input = tk.Entry(Signin, bd=10)\n",
    "    input.place(x=195,y=200)\n",
    "    \n",
    "    btnl = tk.Button(Signin, text=\"Enter\", font=('Arial', 22), command=Sign_In)\n",
    "    btnl.pack(pady=50)\n",
    "    \n",
    "    back_button = tk.Button(Signin, text=\"Back\", font=('Arial', 22), command=Back_Main)\n",
    "    back_button.pack()"
   ],
   "metadata": {
    "collapsed": false,
    "ExecuteTime": {
     "end_time": "2024-05-02T14:00:11.753202Z",
     "start_time": "2024-05-02T14:00:11.740318Z"
    }
   },
   "id": "a25cf99136017b0f"
  },
  {
   "cell_type": "code",
   "execution_count": 9,
   "outputs": [],
   "source": [
    "def Validate_User():\n",
    "    Users = []\n",
    "    QE = \"SELECT Username FROM Users;\"\n",
    "    cursor = conn.cursor()\n",
    "    cursor.execute(QE,)\n",
    "    values = cursor.fetchall()\n",
    "    for x in values:\n",
    "        for y in x:\n",
    "            Users.append(y)\n",
    "    cursor.close()\n",
    "    return Users\n",
    "\n",
    "def Sign_In():\n",
    "    global Username\n",
    "    Username = input.get()\n",
    "    if Username not in Validate_User():\n",
    "        messagebox.showerror(\"Error\", \"Username Not Found, Please Try Again\")\n",
    "    else:\n",
    "        Signin.withdraw()\n",
    "        Menu()"
   ],
   "metadata": {
    "collapsed": false,
    "ExecuteTime": {
     "end_time": "2024-05-02T14:00:11.753521Z",
     "start_time": "2024-05-02T14:00:11.747999Z"
    }
   },
   "id": "1131fc60911bbed7"
  },
  {
   "cell_type": "code",
   "execution_count": 10,
   "outputs": [],
   "source": [
    "def Sign_Up():\n",
    "    name = USN.get()\n",
    "    \n",
    "    if name in Validate_User() or len(name)>50:\n",
    "        messagebox.showerror(\"Error\", \"Username Not Eligible, Please Try Again\")\n",
    "\n",
    "    else:\n",
    "        cursor = conn.cursor()\n",
    "        QI = \"INSERT INTO Users (Username) VALUES (%s);\"\n",
    "        val = (name,)\n",
    "        cursor.execute(QI, val)\n",
    "        conn.commit()\n",
    "        cursor.close()\n",
    "        messagebox.showinfo(\"\", \"Successfully Signed Up, Please Sign In to Continue\")\n",
    "        \n",
    "        Main.deiconify()\n",
    "        Signup.withdraw()"
   ],
   "metadata": {
    "collapsed": false,
    "ExecuteTime": {
     "end_time": "2024-05-02T14:00:11.773123Z",
     "start_time": "2024-05-02T14:00:11.755549Z"
    }
   },
   "id": "6299802c5162ed75"
  },
  {
   "cell_type": "code",
   "execution_count": 11,
   "outputs": [],
   "source": [
    "def Menu():\n",
    "    global Menus\n",
    "    Menus = tk.Toplevel()\n",
    "    Menus.title(\"Home_Scout\")\n",
    "    Menus.geometry(\"600x450\")\n",
    "\n",
    "    label = tk.Label(Menus, text=\"Welcome, What do you want to do?\", font=('Arial', 24))\n",
    "    label.pack(pady=20)\n",
    "\n",
    "    button_f = tk.Frame(Menus)\n",
    "\n",
    "    button_f.columnconfigure(0, weight=1)\n",
    "\n",
    "    btn1 = tk.Button(button_f, text=\"New Price Prediction\", font=('Arial', 22), command=New_Predict)\n",
    "    btn2 = tk.Button(button_f, text=\"View Past Predictions\", font=('Arial', 22), command=View_Past)\n",
    "    btn3 = tk.Button(button_f, text=\"Exit\", font=('Arial', 22), command=End)\n",
    "\n",
    "    btn1.grid(row=0, column=0, sticky=\"news\")\n",
    "    btn2.grid(row=1, column=0, sticky=\"news\")\n",
    "    btn3.grid(row=2, column=0, sticky=\"news\")\n",
    "    \n",
    "    button_f.pack(pady=70)"
   ],
   "metadata": {
    "collapsed": false,
    "ExecuteTime": {
     "end_time": "2024-05-02T14:00:11.773595Z",
     "start_time": "2024-05-02T14:00:11.761189Z"
    }
   },
   "id": "ac92e03727033cb"
  },
  {
   "cell_type": "code",
   "execution_count": 12,
   "outputs": [],
   "source": [
    "def New_Predict():\n",
    "    global k\n",
    "    k = 1\n",
    "    global z\n",
    "    z = 2\n",
    "    global New_Pred\n",
    "    New_Pred = tk.Toplevel()\n",
    "    New_Pred.title(\"Home_Scout\")\n",
    "    New_Pred.geometry(\"800x800\")\n",
    "    Menus.withdraw()\n",
    "\n",
    "    labelS = tk.Label(New_Pred, text=\"Please Enter Home Info\", font=('Arial', 24))\n",
    "    labelS.pack(pady=20)\n",
    "    \n",
    "    tk.Label(New_Pred, text=\"Status\", font=('Arial', 20)).place(x=120,y=150)\n",
    "    tk.Label(New_Pred, text=\"Sold\", font=('Arial', 20)).place(x=120,y=200)\n",
    "    tk.Label(New_Pred, text=\"State\", font=('Arial', 20)).place(x=120,y=250)\n",
    "    tk.Label(New_Pred, text=\"City\", font=('Arial', 20)).place(x=120,y=300)\n",
    "    tk.Label(New_Pred, text=\"Zip Code\", font=('Arial', 20)).place(x=120,y=350)\n",
    "    tk.Label(New_Pred, text=\"Bedrooms\", font=('Arial', 20)).place(x=120, y=405)\n",
    "    tk.Label(New_Pred, text=\"Bathrooms\", font=('Arial', 20)).place(x=120, y=455)\n",
    "    tk.Label(New_Pred, text=\"House Size\", font=('Arial', 20)).place(x=120, y=505)\n",
    "    tk.Label(New_Pred, text=\"Acre Lot\", font=('Arial', 20)).place(x=120, y=555)\n",
    "    \n",
    "    global clicked1, clicked2, clicked3, clicked4, clicked5, BA, BD, HS, AL\n",
    "    \n",
    "    clicked1 = StringVar()\n",
    "    clicked1.set(\"None\")\n",
    "    \n",
    "    clicked2 = StringVar()\n",
    "    clicked2.set(\"None\")\n",
    "    \n",
    "    clicked3 = StringVar()\n",
    "    clicked3.set(\"None\")\n",
    "    \n",
    "    clicked4 = StringVar()\n",
    "    clicked4.set(\"None\")\n",
    "    \n",
    "    clicked5 = StringVar()\n",
    "    clicked5.set(\"None\")\n",
    "    \n",
    "    status_list = [\"for_sale\", \"ready_to_build\"] \n",
    "    sold_list = [\"yes\", \"no\"]\n",
    "    zipcode_list = list(range(1, 100))\n",
    "    city_list = CS_df['city'].unique()\n",
    "    state_list = CS_df['state'].unique()\n",
    "    \n",
    "    OptionMenu(New_Pred, clicked1, *status_list).place(x=360, y=158)\n",
    "    OptionMenu(New_Pred, clicked2, *sold_list).place(x=360, y=208)\n",
    "    OptionMenu(New_Pred, clicked3, *state_list).place(x=360, y=258)\n",
    "    OptionMenu(New_Pred, clicked4, *city_list).place(x=360, y=308)\n",
    "    OptionMenu(New_Pred, clicked5, *zipcode_list).place(x=360, y=358)\n",
    "\n",
    "    BD = tk.Entry(New_Pred, bd=10)\n",
    "    BD.place(x=300, y=400)\n",
    "    \n",
    "    BA = tk.Entry(New_Pred, bd=10)\n",
    "    BA.place(x=300, y=450)\n",
    "    \n",
    "    HS = tk.Entry(New_Pred, bd=10)\n",
    "    HS.place(x=300, y=500)\n",
    "    \n",
    "    AL = tk.Entry(New_Pred, bd=10)\n",
    "    AL.place(x=300, y=550)\n",
    "            \n",
    "    tk.Button(New_Pred, text=\"Enter\", font=('Arial', 22), command=Validate).place(x=340,y=620)\n",
    "    tk.Button(New_Pred, text=\"Back\", font=('Arial', 22), command=Back_Menus).place(x=340,y=700)\n",
    "    \n",
    "def Validate():\n",
    "    Predict()\n",
    "    # status = clicked1.get() \n",
    "    # sold = clicked2.get()\n",
    "    # zipcode = clicked5.get()\n",
    "    # city = clicked4.get()\n",
    "    # state = clicked3.get()\n",
    "    # bed = BD.get()\n",
    "    # bath = BA.get()\n",
    "    # house = HS.get()\n",
    "    # acre = AL.get()\n",
    "    # \n",
    "    # if all(x != \"None\" for x in [status, sold, zipcode, city, state]) and all(field != \"\" for field in [bed, bath, house, acre]):\n",
    "    #     Predict()\n",
    "    # else:\n",
    "    #     messagebox.showinfo(\"Error\", \"Please select a value for all fields\")\n",
    "    "
   ],
   "metadata": {
    "collapsed": false,
    "ExecuteTime": {
     "end_time": "2024-05-02T14:00:11.785289Z",
     "start_time": "2024-05-02T14:00:11.771776Z"
    }
   },
   "id": "369f8ad48a316f75"
  },
  {
   "cell_type": "code",
   "execution_count": 13,
   "outputs": [],
   "source": [
    "def Validate_Pred():\n",
    "    QP = \"SELECT Username, status, bed, bath, hsize, acre, city, state, sold, zip, price FROM Predictions;\"\n",
    "    cursor = conn.cursor()\n",
    "    cursor.execute(QP,)\n",
    "    Preds = cursor.fetchall()\n",
    "    cursor.close()\n",
    "    return Preds\n",
    "\n",
    "def Predict():\n",
    "    # status = clicked1.get() \n",
    "    # sold = clicked2.get()\n",
    "    # zipcode = clicked5.get()\n",
    "    # city = clicked4.get()\n",
    "    # state = clicked3.get()\n",
    "    # bed = BD.get()\n",
    "    # bath = BA.get()\n",
    "    # house = HS.get()\n",
    "    # acre = AL.get()\n",
    "    \n",
    "    # #PreProcessing & Model Here\n",
    "    \n",
    "    label = \"188k-373k\"\n",
    "    # val = (Username, status, bed, bath, house, acre, city, state, sold, zipcode, label) \n",
    "    # \n",
    "    # if val in Validate_Pred():\n",
    "    #     messagebox.showerror(\"Error\", \"Already Made this Prediction\")\n",
    "    # else:\n",
    "    #     cursor = conn.cursor()\n",
    "    #     QI = \"INSERT INTO Predictions (Username, status, bed, bath, hsize, acre, city, state, sold, zip, price) VALUES (%s,%s,%s,%s,%s,%s,%s,%s,%s,%s,%s);\"       \n",
    "    #     cursor.execute(QI, val)\n",
    "    #     conn.commit()\n",
    "    #     cursor.close()\n",
    "    \n",
    "    global z\n",
    "    z = 1\n",
    "    \n",
    "    global Pred_View\n",
    "    Pred_View = tk.Toplevel()\n",
    "    Pred_View.title(\"Home_Scout\")\n",
    "    Pred_View.geometry(\"800x500\")\n",
    "    New_Pred.withdraw()\n",
    "    \n",
    "    labelS = tk.Label(Pred_View, text=\"Predicted Price Range\", font=('Arial', 24))\n",
    "    labelS.pack(pady=20)\n",
    "    \n",
    "    labelP = tk.Label(Pred_View, text=label, font=('Arial', 24), foreground=\"green\")\n",
    "    labelP.pack(pady=20)\n",
    "    \n",
    "    labelC = tk.Label(Pred_View, text=\"Please Provide Your Feedback\", font=('Arial', 24))\n",
    "    labelC.pack(pady=20)\n",
    "    \n",
    "    \n",
    "    tk.Button(Pred_View, text=\"Correct\", font=('Arial', 22), command=Correct).place(x=400, y=300)\n",
    "    tk.Button(Pred_View, text=\"Report\", font=('Arial', 22), command=Report).place(x=300, y=300)\n",
    "    tk.Button(Pred_View, text=\"Back\", font=('Arial', 22), command=Back_Menus).place(x=360, y=360)\n",
    "    \n",
    "def Correct():\n",
    "    print(\"a7a\")\n",
    "    \n",
    "def Report():\n",
    "    print(\"a7a\")\n",
    "    "
   ],
   "metadata": {
    "collapsed": false,
    "ExecuteTime": {
     "end_time": "2024-05-02T14:00:11.800347Z",
     "start_time": "2024-05-02T14:00:11.788346Z"
    }
   },
   "id": "45076af1191ab95f"
  },
  {
   "cell_type": "code",
   "execution_count": 14,
   "outputs": [],
   "source": [
    "def Validate_Report():\n",
    "    QR = \"SELECT * FROM Reported;\"\n",
    "    cursor = conn.cursor()\n",
    "    cursor.execute(QR,)\n",
    "    reports = cursor.fetchall()\n",
    "    cursor.close()\n",
    "    return reports\n",
    "\n",
    "def View_Past():\n",
    "    global k\n",
    "    k = 2\n",
    "    global ViewPast\n",
    "    ViewPast = tk.Toplevel()\n",
    "    ViewPast.title(\"Home_Scout\")\n",
    "    ViewPast.geometry(\"1200x400\")\n",
    "    Menus.withdraw()\n",
    "        \n",
    "    QS = \"Select bed, bath, hsize, acre, city, state, zip, price FROM Predictions WHERE Username = %s\"\n",
    "    val = (Username,)\n",
    "    cursor = conn.cursor()\n",
    "    cursor.execute(QS, val)\n",
    "    values = cursor.fetchall()\n",
    "    cursor.close()\n",
    "    \n",
    "    if len(values) == 0:\n",
    "        messagebox.showerror(\"\", \"No Past Predictions Found\")\n",
    "        Back_Menus()\n",
    "    else:\n",
    "        \n",
    "        def Report_Selected():\n",
    "            selected_item = tree.focus()\n",
    "            if selected_item == '':\n",
    "                messagebox.showerror(\"Error\", \"Please select a row to report!\")\n",
    "                return\n",
    "            else:\n",
    "                selected_data = tree.item(selected_item, 'values')\n",
    "                Val = (Username,) + selected_data\n",
    "                \n",
    "                LVal = list(Val)\n",
    "                LVal[1] = int(LVal[1])  \n",
    "                LVal[2] = int(LVal[2])  \n",
    "                LVal[3] = Decimal(LVal[3])\n",
    "                LVal[4] = Decimal(LVal[4])\n",
    "                LVal = tuple(LVal)\n",
    "                \n",
    "                if LVal in Validate_Report():\n",
    "                    messagebox.showerror(\"Error\", \"Already Reported this Prediction\")\n",
    "\n",
    "                else:\n",
    "                    QU = \"UPDATE Predictions SET report = report + 1 WHERE bed = %s AND bath = %s AND hsize = %s AND acre = %s AND city = %s AND state = %s AND zip = %s AND price = %s\"\n",
    "\n",
    "                    cursor = conn.cursor()\n",
    "                    cursor.execute(QU, selected_data)\n",
    "                    conn.commit()\n",
    "                    cursor.close()\n",
    "                    \n",
    "                    cursor = conn.cursor()\n",
    "                    QI = \"INSERT INTO Reported (Username, bed, bath, hsize, acre, city, state, zip, price) VALUES (%s,%s,%s,%s,%s,%s,%s,%s,%s);\"\n",
    "                    cursor.execute(QI, Val)\n",
    "                    conn.commit()\n",
    "                    cursor.close()\n",
    "  \n",
    "        tree = ttk.Treeview(ViewPast, selectmode='browse')\n",
    "        tree[\"columns\"] = (\"bed\", \"bath\", \"size\", \"acre\", \"city\", \"state\", \"zipcode\", \"price\")\n",
    "            \n",
    "        tree.column(\"#0\", width=0, minwidth=0)\n",
    "        tree.column(\"bed\", width=150, minwidth=150, anchor='center')\n",
    "        tree.column(\"bath\", width=150, minwidth=150, anchor='center')\n",
    "        tree.column(\"size\", width=150, minwidth=150, anchor='center')\n",
    "        tree.column(\"acre\", width=150, minwidth=150, anchor='center')\n",
    "        tree.column(\"city\", width=150, minwidth=150, anchor='center')\n",
    "        tree.column(\"state\", width=150, minwidth=150, anchor='center')\n",
    "        tree.column(\"zipcode\", width=150, minwidth=150, anchor='center')\n",
    "        tree.column(\"price\", width=150, minwidth=150, anchor='center')\n",
    "        \n",
    "        tree.heading(\"bed\", text=\"Beds\", anchor='center')\n",
    "        tree.heading(\"bath\", text=\"Baths\", anchor='center')\n",
    "        tree.heading(\"size\", text=\"House_Size\", anchor='center')\n",
    "        tree.heading(\"acre\", text=\"Acre_Lot\", anchor='center')\n",
    "        tree.heading(\"city\", text=\"City\", anchor='center')\n",
    "        tree.heading(\"state\", text=\"State\", anchor='center')\n",
    "        tree.heading(\"zipcode\", text=\"Zip_Code\", anchor='center')\n",
    "        tree.heading(\"price\", text=\"Price_Range\", anchor='center')\n",
    "            \n",
    "        i = 0\n",
    "        for j in values:\n",
    "            tree.insert('', i, text=\"\", values=(j[0], j[1], j[2], j[3], j[4], j[5], j[6], j[7]))\n",
    "            i = i + 1\n",
    "        tree.pack()\n",
    "        \n",
    "        tk.Button(ViewPast, text=\"Report\", font=('Arial', 22), command=Report_Selected).place(x=550,y=300)\n",
    "        tk.Button(ViewPast, text=\"Back\", font=('Arial', 22), command=Back_Menus).place(x=560,y=350)\n",
    "        "
   ],
   "metadata": {
    "collapsed": false,
    "ExecuteTime": {
     "end_time": "2024-05-02T14:00:11.812941Z",
     "start_time": "2024-05-02T14:00:11.802741Z"
    }
   },
   "id": "ed96cab74577278d"
  },
  {
   "cell_type": "code",
   "execution_count": 15,
   "outputs": [
    {
     "name": "stderr",
     "output_type": "stream",
     "text": [
      "2024-05-02 17:00:11.952 Python[5054:408076] WARNING: Secure coding is not enabled for restorable state! Enable secure coding by implementing NSApplicationDelegate.applicationSupportsSecureRestorableState: and returning YES.\n"
     ]
    },
    {
     "name": "stdout",
     "output_type": "stream",
     "text": [
      "a7a\n",
      "a7a\n"
     ]
    }
   ],
   "source": [
    "Start()"
   ],
   "metadata": {
    "collapsed": false,
    "ExecuteTime": {
     "end_time": "2024-05-02T14:00:38.798400Z",
     "start_time": "2024-05-02T14:00:12.054604Z"
    }
   },
   "id": "fa334ef8fd0d3be6"
  }
 ],
 "metadata": {
  "kernelspec": {
   "display_name": "Python 3",
   "language": "python",
   "name": "python3"
  },
  "language_info": {
   "codemirror_mode": {
    "name": "ipython",
    "version": 2
   },
   "file_extension": ".py",
   "mimetype": "text/x-python",
   "name": "python",
   "nbconvert_exporter": "python",
   "pygments_lexer": "ipython2",
   "version": "2.7.6"
  }
 },
 "nbformat": 4,
 "nbformat_minor": 5
}
