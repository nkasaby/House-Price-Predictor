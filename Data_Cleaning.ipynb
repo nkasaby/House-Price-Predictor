{
 "cells": [
  {
   "cell_type": "code",
   "execution_count": 148,
   "metadata": {
    "ExecuteTime": {
     "end_time": "2024-03-10T23:37:24.756157Z",
     "start_time": "2024-03-10T23:37:19.370569Z"
    }
   },
   "outputs": [],
   "source": [
    "import numpy as np\n",
    "import pandas as pd\n",
    "import matplotlib.pyplot as plt \n",
    "%matplotlib inline\n",
    "from sklearn.preprocessing import OneHotEncoder\n",
    "from sklearn.impute import KNNImputer\n",
    "from sklearn.preprocessing import MinMaxScaler\n",
    "from sklearn.preprocessing import StandardScaler\n",
    "import seaborn as sns\n",
    "from scipy.stats import beta, gamma, lognorm, norm\n",
    "import warnings\n",
    "\n",
    "warnings.filterwarnings(\"ignore\", message=\"divide by zero encountered in log\")\n",
    "warnings.filterwarnings(\"ignore\", message=\"invalid value encountered in divide\")\n",
    "warnings.filterwarnings(\"ignore\", message=\"divide by zero encountered in divide\")"
   ]
  },
  {
   "cell_type": "code",
   "execution_count": 154,
   "metadata": {
    "collapsed": false
   },
   "outputs": [
    {
     "name": "stdout",
     "output_type": "stream",
     "text": [
      "<class 'pandas.core.frame.DataFrame'>\n",
      "RangeIndex: 2001666 entries, 0 to 2001665\n",
      "Data columns (total 10 columns):\n",
      " #   Column          Dtype  \n",
      "---  ------          -----  \n",
      " 0   status          object \n",
      " 1   bed             float64\n",
      " 2   bath            float64\n",
      " 3   acre_lot        float64\n",
      " 4   city            object \n",
      " 5   state           object \n",
      " 6   zip_code        float64\n",
      " 7   house_size      float64\n",
      " 8   prev_sold_date  object \n",
      " 9   price           float64\n",
      "dtypes: float64(6), object(4)\n",
      "memory usage: 152.7+ MB\n"
     ]
    }
   ],
   "source": [
    "df = pd.read_csv('Old_Dataset.csv')\n",
    "df.info()"
   ]
  },
  {
   "cell_type": "code",
   "execution_count": 156,
   "metadata": {},
   "outputs": [
    {
     "name": "stdout",
     "output_type": "stream",
     "text": [
      "status             0.000\n",
      "bed               16.914\n",
      "bath              17.122\n",
      "acre_lot          20.921\n",
      "city               0.015\n",
      "state              0.000\n",
      "zip_code           0.026\n",
      "house_size        32.233\n",
      "prev_sold_date    49.691\n",
      "price              0.014\n",
      "dtype: float64\n"
     ]
    }
   ],
   "source": [
    "nulls_percent = df.isnull().sum()*100 / df.shape[0]\n",
    "print(nulls_percent.round(3))"
   ]
  },
  {
   "cell_type": "code",
   "execution_count": 157,
   "metadata": {
    "ExecuteTime": {
     "end_time": "2024-03-10T23:05:01.059435Z",
     "start_time": "2024-03-10T23:04:59.882799Z"
    },
    "collapsed": false
   },
   "outputs": [
    {
     "name": "stderr",
     "output_type": "stream",
     "text": [
      "C:\\Users\\nkasa\\AppData\\Local\\Temp\\ipykernel_22392\\2262356570.py:14: FutureWarning: The default of observed=False is deprecated and will be changed to True in a future version of pandas. Pass observed=False to retain current behavior or observed=True to adopt the future default and silence this warning.\n",
      "  price_category_bed_means = df.groupby('price_category')['bed'].mean().astype(int)\n",
      "C:\\Users\\nkasa\\AppData\\Local\\Temp\\ipykernel_22392\\2262356570.py:15: FutureWarning: The default of observed=False is deprecated and will be changed to True in a future version of pandas. Pass observed=False to retain current behavior or observed=True to adopt the future default and silence this warning.\n",
      "  price_category_bath_means = df.groupby('price_category')['bath'].mean().astype(int)\n"
     ]
    }
   ],
   "source": [
    "df.dropna(subset=[\"price\"], axis = 0, inplace=True)\n",
    "df.drop(df[df[\"price\"] <= 1000].index, axis = 0, inplace=True)\n",
    "\n",
    "n_bins = 50\n",
    "quantiles = df['price'].quantile(np.linspace(0, 1, n_bins + 1)[1:])\n",
    "min_price = df['price'].min() \n",
    "\n",
    "bins = quantiles.tolist()\n",
    "bins.insert(0, min_price)\n",
    "\n",
    "price_categories = pd.cut(df['price'], bins=bins, include_lowest=True)\n",
    "df['price_category'] = price_categories\n",
    "\n",
    "price_category_bed_means = df.groupby('price_category')['bed'].mean().astype(int)\n",
    "price_category_bath_means = df.groupby('price_category')['bath'].mean().astype(int)\n"
   ]
  },
  {
   "cell_type": "code",
   "execution_count": 159,
   "metadata": {
    "ExecuteTime": {
     "end_time": "2024-03-10T23:06:35.573440Z",
     "start_time": "2024-03-10T23:05:10.455524Z"
    },
    "collapsed": false
   },
   "outputs": [],
   "source": [
    "def fill_bed(row):\n",
    "    category = row['price_category']\n",
    "    if pd.isna(row['bed']):\n",
    "      return price_category_bed_means.loc[category]\n",
    "    else:\n",
    "      return row['bed']\n",
    "\n",
    "df[\"bed\"] = df.apply(fill_bed, axis=1)\n",
    "\n",
    "def fill_bath(row):\n",
    "    category = row['price_category']\n",
    "    if pd.isna(row['bath']):\n",
    "      return price_category_bath_means.loc[category]\n",
    "    else:\n",
    "      return row['bath']\n",
    "    \n",
    "df[\"bath\"] = df.apply(fill_bath, axis=1)\n",
    "\n",
    "df.drop([\"price_category\"], axis=1, inplace=True)"
   ]
  },
  {
   "cell_type": "code",
   "execution_count": null,
   "metadata": {
    "ExecuteTime": {
     "start_time": "2024-03-10T23:45:57.853709Z"
    },
    "collapsed": false,
    "is_executing": true
   },
   "outputs": [],
   "source": [
    "# numeric_df = df.select_dtypes(include=['int64', 'float64'])\n",
    "# numeric_df_copy = numeric_df.copy()\n",
    "# # numeric_df_copy['combined'] = numeric_df_copy[['bed', 'bath', 'price']].astype(str).sum(axis=1)\n",
    "# # mean_size_by_group = numeric_df_copy.groupby('combined')['house_size'].mean()\n",
    "\n",
    "# numeric_df_copy.drop([\"zip_code\"], axis=1, inplace=True)\n",
    "\n",
    "# Imputer = KNNImputer(n_neighbors=3)\n",
    "# df_filled = Imputer.fit_transform(numeric_df_copy)\n",
    "# df_filled = pd.DataFrame(df_filled, columns = numeric_df_copy.columns)\n"
   ]
  },
  {
   "cell_type": "markdown",
   "metadata": {
    "collapsed": false
   },
   "source": [
    "## Null Percentage:"
   ]
  },
  {
   "cell_type": "code",
   "execution_count": 160,
   "metadata": {
    "ExecuteTime": {
     "end_time": "2024-03-10T23:18:05.326326Z",
     "start_time": "2024-03-10T23:18:05.218487Z"
    },
    "collapsed": false
   },
   "outputs": [
    {
     "name": "stdout",
     "output_type": "stream",
     "text": [
      "status             0.000\n",
      "bed                0.000\n",
      "bath               0.000\n",
      "acre_lot          20.902\n",
      "city               0.012\n",
      "state              0.000\n",
      "zip_code           0.024\n",
      "house_size        32.215\n",
      "prev_sold_date    49.679\n",
      "price              0.000\n",
      "dtype: float64\n"
     ]
    }
   ],
   "source": [
    "nulls_percent = df.isnull().sum()*100 / df.shape[0]\n",
    "print(nulls_percent.round(3))"
   ]
  },
  {
   "cell_type": "code",
   "execution_count": 236,
   "metadata": {
    "ExecuteTime": {
     "end_time": "2024-03-10T23:21:42.581520Z",
     "start_time": "2024-03-10T23:21:42.501728Z"
    },
    "collapsed": false
   },
   "outputs": [
    {
     "name": "stdout",
     "output_type": "stream",
     "text": [
      "         bed  bath  acre_lot  zip_code  house_size      price  \\\n",
      "82       3.0   1.0      0.25     602.0         NaN    94770.0   \n",
      "96       2.0   1.0      0.13     603.0         NaN    31179.0   \n",
      "106      2.0   1.0      0.18     603.0         NaN    44720.0   \n",
      "110      2.0   1.0      0.22     603.0         NaN    37359.0   \n",
      "113      2.0   1.0      0.33     603.0         NaN    56406.0   \n",
      "...      ...   ...       ...       ...         ...        ...   \n",
      "2000218  3.0   2.0      2.50   19440.0         NaN   316000.0   \n",
      "2000639  3.0   2.0      1.97   19002.0         NaN   755000.0   \n",
      "2000978  3.0   3.0      0.01   19125.0         NaN   491500.0   \n",
      "2001226  5.0   5.0       NaN   19044.0         NaN  1189750.0   \n",
      "2001404  3.0   3.0       NaN   19128.0         NaN   651100.0   \n",
      "\n",
      "                  combined  \n",
      "82         3.0-1.0-94770.0  \n",
      "96         2.0-1.0-31179.0  \n",
      "106        2.0-1.0-44720.0  \n",
      "110        2.0-1.0-37359.0  \n",
      "113        2.0-1.0-56406.0  \n",
      "...                    ...  \n",
      "2000218   3.0-2.0-316000.0  \n",
      "2000639   3.0-2.0-755000.0  \n",
      "2000978   3.0-3.0-491500.0  \n",
      "2001226  5.0-5.0-1189750.0  \n",
      "2001404   3.0-3.0-651100.0  \n",
      "\n",
      "[71267 rows x 7 columns]\n"
     ]
    }
   ],
   "source": [
    "rows_with_null = numeric_df_copy[numeric_df_copy['house_size'].isnull()]\n",
    "print(rows_with_null)"
   ]
  },
  {
   "cell_type": "markdown",
   "metadata": {
    "collapsed": false
   },
   "source": [
    "## Correlation:"
   ]
  },
  {
   "cell_type": "code",
   "execution_count": null,
   "metadata": {
    "collapsed": false
   },
   "outputs": [],
   "source": [
    "for i in df.columns[:9] :\n",
    "    if df[i].dtype != \"object\":\n",
    "        print(\"Correlation between\",i, \"and the label \\\"price\\\": \", round(df[i].corr(df[\"price\"])*100,2))"
   ]
  },
  {
   "cell_type": "markdown",
   "metadata": {
    "collapsed": false
   },
   "source": [
    "There are no high correlations between the features and the label, so none will be redundant features. It is important to note that there exists a high correlation between the city,state and the zipcode as the city and the state are could be determined through the zip code."
   ]
  },
  {
   "cell_type": "markdown",
   "metadata": {
    "collapsed": false
   },
   "source": [
    "## Fixing Data Types"
   ]
  },
  {
   "cell_type": "code",
   "execution_count": null,
   "metadata": {
    "collapsed": false
   },
   "outputs": [],
   "source": [
    "df[\"bed\"] = df[\"bed\"].convert_dtypes(int)\n",
    "df[\"bath\"] = df[\"bath\"].convert_dtypes(int)\n",
    "df[\"zip_code\"] = df[\"zip_code\"].convert_dtypes(int)\n",
    "\n",
    "df['zip_code'] = df['zip_code'].astype(str).fillna('')\n",
    "df['zip_code'] = df['zip_code'].apply(lambda x: x.zfill(5))  \n",
    "\n",
    "df.head()"
   ]
  },
  {
   "cell_type": "markdown",
   "metadata": {
    "collapsed": false
   },
   "source": [
    "## Zip_Code\n",
    "Preparing the Zip_code by shortening it to two digits since we don't need the first three digits as they indicate the state and city which are already present in the dataset. We will also set the null values to 100"
   ]
  },
  {
   "cell_type": "code",
   "execution_count": null,
   "metadata": {
    "collapsed": false
   },
   "outputs": [],
   "source": [
    "df['zip_code'] = df['zip_code'].str[3:]\n",
    "df['zip_code'] = df['zip_code'].replace(\"A>\", \"100\")\n",
    "df.head()"
   ]
  },
  {
   "cell_type": "markdown",
   "metadata": {
    "collapsed": false
   },
   "source": [
    "## Prev_Sold_Date\n",
    "Changing the prev_sold_date into a boolean sold feature indicating whether the house was sold or not\n"
   ]
  },
  {
   "cell_type": "code",
   "execution_count": null,
   "metadata": {
    "collapsed": false
   },
   "outputs": [],
   "source": [
    "df['sold'] = df['prev_sold_date'].notnull().map({True: 'yes', False: 'no'})\n",
    "df.drop([\"prev_sold_date\"], axis=1, inplace=True)\n",
    "df.head()"
   ]
  },
  {
   "cell_type": "markdown",
   "metadata": {
    "collapsed": false
   },
   "source": [
    "## Handling the NULLs\n",
    "We will handle the Nulls in the numerical features by setting them to the mean value. However, we will drop the rows with null price as each row needs a label"
   ]
  },
  {
   "cell_type": "code",
   "execution_count": 178,
   "metadata": {
    "collapsed": false
   },
   "outputs": [
    {
     "data": {
      "text/html": [
       "<div>\n",
       "<style scoped>\n",
       "    .dataframe tbody tr th:only-of-type {\n",
       "        vertical-align: middle;\n",
       "    }\n",
       "\n",
       "    .dataframe tbody tr th {\n",
       "        vertical-align: top;\n",
       "    }\n",
       "\n",
       "    .dataframe thead th {\n",
       "        text-align: right;\n",
       "    }\n",
       "</style>\n",
       "<table border=\"1\" class=\"dataframe\">\n",
       "  <thead>\n",
       "    <tr style=\"text-align: right;\">\n",
       "      <th></th>\n",
       "      <th>bed</th>\n",
       "      <th>bath</th>\n",
       "      <th>acre_lot</th>\n",
       "      <th>zip_code</th>\n",
       "      <th>house_size</th>\n",
       "      <th>price</th>\n",
       "      <th>combined</th>\n",
       "    </tr>\n",
       "  </thead>\n",
       "  <tbody>\n",
       "    <tr>\n",
       "      <th>0</th>\n",
       "      <td>3.0</td>\n",
       "      <td>2.0</td>\n",
       "      <td>0.12</td>\n",
       "      <td>601.0</td>\n",
       "      <td>920.0</td>\n",
       "      <td>105000.0</td>\n",
       "      <td>3.02.0105000.0</td>\n",
       "    </tr>\n",
       "    <tr>\n",
       "      <th>1</th>\n",
       "      <td>4.0</td>\n",
       "      <td>2.0</td>\n",
       "      <td>0.08</td>\n",
       "      <td>601.0</td>\n",
       "      <td>1527.0</td>\n",
       "      <td>80000.0</td>\n",
       "      <td>4.02.080000.0</td>\n",
       "    </tr>\n",
       "    <tr>\n",
       "      <th>2</th>\n",
       "      <td>2.0</td>\n",
       "      <td>1.0</td>\n",
       "      <td>0.15</td>\n",
       "      <td>795.0</td>\n",
       "      <td>748.0</td>\n",
       "      <td>67000.0</td>\n",
       "      <td>2.01.067000.0</td>\n",
       "    </tr>\n",
       "    <tr>\n",
       "      <th>3</th>\n",
       "      <td>4.0</td>\n",
       "      <td>2.0</td>\n",
       "      <td>0.10</td>\n",
       "      <td>731.0</td>\n",
       "      <td>1800.0</td>\n",
       "      <td>145000.0</td>\n",
       "      <td>4.02.0145000.0</td>\n",
       "    </tr>\n",
       "    <tr>\n",
       "      <th>4</th>\n",
       "      <td>6.0</td>\n",
       "      <td>2.0</td>\n",
       "      <td>0.05</td>\n",
       "      <td>680.0</td>\n",
       "      <td>NaN</td>\n",
       "      <td>65000.0</td>\n",
       "      <td>6.02.065000.0</td>\n",
       "    </tr>\n",
       "  </tbody>\n",
       "</table>\n",
       "</div>"
      ],
      "text/plain": [
       "   bed  bath  acre_lot  zip_code  house_size     price        combined\n",
       "0  3.0   2.0      0.12     601.0       920.0  105000.0  3.02.0105000.0\n",
       "1  4.0   2.0      0.08     601.0      1527.0   80000.0   4.02.080000.0\n",
       "2  2.0   1.0      0.15     795.0       748.0   67000.0   2.01.067000.0\n",
       "3  4.0   2.0      0.10     731.0      1800.0  145000.0  4.02.0145000.0\n",
       "4  6.0   2.0      0.05     680.0         NaN   65000.0   6.02.065000.0"
      ]
     },
     "execution_count": 178,
     "metadata": {},
     "output_type": "execute_result"
    }
   ],
   "source": [
    "numeric_df = df.select_dtypes(include=['int64', 'float64'])\n",
    "numeric_df_copy = numeric_df.copy()\n",
    "numeric_df_copy['price'] = df['price']\n",
    "numeric_df_copy['combined'] = numeric_df_copy[['bed', 'bath' ,'price']].astype(str).sum(axis=1)\n",
    "numeric_df_copy.head()"
   ]
  },
  {
   "cell_type": "code",
   "execution_count": 179,
   "metadata": {
    "collapsed": false
   },
   "outputs": [
    {
     "name": "stdout",
     "output_type": "stream",
     "text": [
      "combined\n",
      "1.01.010000.0           728.472727\n",
      "1.01.0100000.0          653.732394\n",
      "1.01.01000000.0         733.375000\n",
      "1.01.01001696.0         696.000000\n",
      "1.01.01006975.0         625.000000\n",
      "                          ...     \n",
      "9.09.0875000.0         6232.000000\n",
      "9.09.09450000.0        7738.000000\n",
      "9.09.0950000.0         4982.000000\n",
      "9.09.0999000.0         5986.000000\n",
      "99.0198.05300000.0    14462.000000\n",
      "Name: house_size, Length: 40609, dtype: float64\n",
      "13.309857420768795\n"
     ]
    }
   ],
   "source": [
    "mean_size_by_group = numeric_df_copy.groupby('combined')['house_size'].mean()\n",
    "print(mean_size_by_group)\n",
    "print(mean_size_by_group.isnull().sum() *100/ len(mean_size_by_group))\n"
   ]
  },
  {
   "cell_type": "code",
   "execution_count": 183,
   "metadata": {
    "collapsed": false
   },
   "outputs": [
    {
     "name": "stdout",
     "output_type": "stream",
     "text": [
      "1.0317554739526733\n"
     ]
    }
   ],
   "source": [
    "def impute_size(row):\n",
    "  if pd.isna(row['house_size']):\n",
    "    group = row['combined']\n",
    "    return mean_size_by_group[group]\n",
    "  else:\n",
    "    return row['house_size']\n",
    "\n",
    "# Apply imputation function to all rows\n",
    "numeric_df_copy['house_size'] = numeric_df_copy.apply(impute_size, axis=1)\n",
    "print(numeric_df_copy['house_size'].isnull().sum() *100/ len(numeric_df_copy['house_size']))"
   ]
  },
  {
   "cell_type": "code",
   "execution_count": 181,
   "metadata": {},
   "outputs": [
    {
     "name": "stdout",
     "output_type": "stream",
     "text": [
      "combined\n",
      "1.01.010000.0         4.206111\n",
      "1.01.0100000.0        0.333243\n",
      "1.01.01000000.0       0.941000\n",
      "1.01.01001696.0            NaN\n",
      "1.01.01006975.0            NaN\n",
      "                        ...   \n",
      "9.09.0875000.0        1.100000\n",
      "9.09.09450000.0       1.370000\n",
      "9.09.0950000.0        0.450000\n",
      "9.09.0999000.0        0.120000\n",
      "99.0198.05300000.0    0.290000\n",
      "Name: acre_lot, Length: 40609, dtype: float64\n",
      "22.593513753108915\n",
      "5.608420804269388\n"
     ]
    }
   ],
   "source": [
    "numeric_df = df.select_dtypes(include=['int64', 'float64'])\n",
    "numeric_df_copy = numeric_df.copy()\n",
    "numeric_df_copy['price'] = df['price']\n",
    "numeric_df_copy['combined'] = numeric_df_copy[['bed', 'bath' ,'price']].astype(str).sum(axis=1)\n",
    "numeric_df_copy.head()\n",
    "mean_size_by_group = numeric_df_copy.groupby('combined')['acre_lot'].mean()\n",
    "print(mean_size_by_group)\n",
    "print(mean_size_by_group.isnull().sum() *100/ len(mean_size_by_group))\n",
    "def impute_size(row):\n",
    "  if pd.isna(row['acre_lot']):\n",
    "    group = row['combined']\n",
    "    return mean_size_by_group[group]\n",
    "  else:\n",
    "    return row['acre_lot']\n",
    "\n",
    "# Apply imputation function to all rows\n",
    "numeric_df_copy['acre_lot'] = numeric_df_copy.apply(impute_size, axis=1)\n",
    "print(numeric_df_copy['acre_lot'].isnull().sum() *100/ len(numeric_df_copy['acre_lot']))\n"
   ]
  },
  {
   "cell_type": "code",
   "execution_count": 184,
   "metadata": {},
   "outputs": [
    {
     "name": "stdout",
     "output_type": "stream",
     "text": [
      "bed           0.000000\n",
      "bath          0.000000\n",
      "acre_lot      5.608421\n",
      "zip_code      0.024144\n",
      "house_size    1.031755\n",
      "price         0.000000\n",
      "combined      0.000000\n",
      "dtype: float64\n"
     ]
    }
   ],
   "source": [
    "print(numeric_df_copy.isna().sum()*100 / numeric_df_copy.shape[0])"
   ]
  },
  {
   "cell_type": "code",
   "execution_count": 187,
   "metadata": {},
   "outputs": [
    {
     "name": "stdout",
     "output_type": "stream",
     "text": [
      "bed           0.000000\n",
      "bath          0.000000\n",
      "acre_lot      0.000000\n",
      "zip_code      0.024144\n",
      "house_size    0.000000\n",
      "price         0.000000\n",
      "combined      0.000000\n",
      "dtype: float64\n"
     ]
    }
   ],
   "source": [
    "numeric_df_copy[\"acre_lot\"].fillna(numeric_df_copy[\"acre_lot\"].mean(), inplace=True)\n",
    "numeric_df_copy[\"house_size\"].fillna(numeric_df_copy[\"house_size\"].mean(), inplace=True)\n",
    "print(numeric_df_copy.isna().sum()*100 / numeric_df_copy.shape[0])"
   ]
  },
  {
   "cell_type": "code",
   "execution_count": 190,
   "metadata": {},
   "outputs": [
    {
     "data": {
      "image/png": "[encoded data removed]",
      "text/plain": [
       "<Figure size 500x500 with 1 Axes>"
      ]
     },
     "metadata": {},
     "output_type": "display_data"
    },
    {
     "data": {
      "image/png": "[encoded data removed]",
      "text/plain": [
       "<Figure size 500x500 with 1 Axes>"
      ]
     },
     "metadata": {},
     "output_type": "display_data"
    },
    {
     "data": {
      "image/png": "[encoded data removed]",
      "text/plain": [
       "<Figure size 500x500 with 1 Axes>"
      ]
     },
     "metadata": {},
     "output_type": "display_data"
    },
    {
     "data": {
      "image/png": "[encoded data removed]",
      "text/plain": [
       "<Figure size 500x500 with 1 Axes>"
      ]
     },
     "metadata": {},
     "output_type": "display_data"
    },
    {
     "data": {
      "image/png": "[encoded data removed]",
      "text/plain": [
       "<Figure size 500x500 with 1 Axes>"
      ]
     },
     "metadata": {},
     "output_type": "display_data"
    }
   ],
   "source": [
    "\n",
    "\n",
    "for i in numeric_df_copy:\n",
    "  sns.displot(data=numeric_df, x=i, bins=100, log_scale=True)"
   ]
  },
  {
   "cell_type": "code",
   "execution_count": 201,
   "metadata": {},
   "outputs": [
    {
     "name": "stdout",
     "output_type": "stream",
     "text": [
      "bed           0\n",
      "bath          0\n",
      "acre_lot      0\n",
      "house_size    0\n",
      "dtype: int64\n"
     ]
    }
   ],
   "source": [
    "numeric_df_copy.head()\n",
    "print(numeric_df_copy.isna().sum())"
   ]
  },
  {
   "cell_type": "code",
   "execution_count": 202,
   "metadata": {},
   "outputs": [
    {
     "name": "stdout",
     "output_type": "stream",
     "text": [
      "###### bed ######\n"
     ]
    },
    {
     "name": "stderr",
     "output_type": "stream",
     "text": [
      "\u001b[32m2024-03-11 03:28:40.188\u001b[0m | \u001b[1mINFO    \u001b[0m | \u001b[36mfitter.fitter\u001b[0m:\u001b[36m_fit_single_distribution\u001b[0m:\u001b[36m337\u001b[0m - \u001b[1mFitted uniform distribution with error=0.146776)\u001b[0m\n",
      "\u001b[32m2024-03-11 03:28:40.237\u001b[0m | \u001b[1mINFO    \u001b[0m | \u001b[36mfitter.fitter\u001b[0m:\u001b[36m_fit_single_distribution\u001b[0m:\u001b[36m337\u001b[0m - \u001b[1mFitted norm distribution with error=0.007771)\u001b[0m\n",
      "\u001b[32m2024-03-11 03:28:49.111\u001b[0m | \u001b[1mINFO    \u001b[0m | \u001b[36mfitter.fitter\u001b[0m:\u001b[36m_fit_single_distribution\u001b[0m:\u001b[36m337\u001b[0m - \u001b[1mFitted lognorm distribution with error=0.003227)\u001b[0m\n",
      "\u001b[32m2024-03-11 03:29:09.749\u001b[0m | \u001b[33m\u001b[1mWARNING \u001b[0m | \u001b[36mfitter.fitter\u001b[0m:\u001b[36m_fit_single_distribution\u001b[0m:\u001b[36m347\u001b[0m - \u001b[33m\u001b[1mSKIPPED beta distribution (taking more than 30 seconds)\u001b[0m\n",
      "\u001b[32m2024-03-11 03:29:09.752\u001b[0m | \u001b[33m\u001b[1mWARNING \u001b[0m | \u001b[36mfitter.fitter\u001b[0m:\u001b[36m_fit_single_distribution\u001b[0m:\u001b[36m347\u001b[0m - \u001b[33m\u001b[1mSKIPPED gamma distribution (taking more than 30 seconds)\u001b[0m\n"
     ]
    },
    {
     "name": "stdout",
     "output_type": "stream",
     "text": [
      "bed\n",
      "Best Distribution: lognorm\n",
      "\n",
      "###### bath ######\n"
     ]
    },
    {
     "name": "stderr",
     "output_type": "stream",
     "text": [
      "\u001b[32m2024-03-11 03:29:10.344\u001b[0m | \u001b[1mINFO    \u001b[0m | \u001b[36mfitter.fitter\u001b[0m:\u001b[36m_fit_single_distribution\u001b[0m:\u001b[36m337\u001b[0m - \u001b[1mFitted norm distribution with error=0.010723)\u001b[0m\n",
      "\u001b[32m2024-03-11 03:29:10.356\u001b[0m | \u001b[1mINFO    \u001b[0m | \u001b[36mfitter.fitter\u001b[0m:\u001b[36m_fit_single_distribution\u001b[0m:\u001b[36m337\u001b[0m - \u001b[1mFitted uniform distribution with error=0.134604)\u001b[0m\n",
      "\u001b[32m2024-03-11 03:29:26.953\u001b[0m | \u001b[1mINFO    \u001b[0m | \u001b[36mfitter.fitter\u001b[0m:\u001b[36m_fit_single_distribution\u001b[0m:\u001b[36m337\u001b[0m - \u001b[1mFitted lognorm distribution with error=0.122806)\u001b[0m\n",
      "\u001b[32m2024-03-11 03:29:39.852\u001b[0m | \u001b[33m\u001b[1mWARNING \u001b[0m | \u001b[36mfitter.fitter\u001b[0m:\u001b[36m_fit_single_distribution\u001b[0m:\u001b[36m347\u001b[0m - \u001b[33m\u001b[1mSKIPPED gamma distribution (taking more than 30 seconds)\u001b[0m\n",
      "\u001b[32m2024-03-11 03:29:39.855\u001b[0m | \u001b[33m\u001b[1mWARNING \u001b[0m | \u001b[36mfitter.fitter\u001b[0m:\u001b[36m_fit_single_distribution\u001b[0m:\u001b[36m347\u001b[0m - \u001b[33m\u001b[1mSKIPPED beta distribution (taking more than 30 seconds)\u001b[0m\n"
     ]
    },
    {
     "name": "stdout",
     "output_type": "stream",
     "text": [
      "bath\n",
      "Best Distribution: norm\n",
      "\n",
      "###### acre_lot ######\n"
     ]
    },
    {
     "name": "stderr",
     "output_type": "stream",
     "text": [
      "\u001b[32m2024-03-11 03:29:40.638\u001b[0m | \u001b[1mINFO    \u001b[0m | \u001b[36mfitter.fitter\u001b[0m:\u001b[36m_fit_single_distribution\u001b[0m:\u001b[36m337\u001b[0m - \u001b[1mFitted norm distribution with error=0.0)\u001b[0m\n",
      "\u001b[32m2024-03-11 03:29:40.686\u001b[0m | \u001b[1mINFO    \u001b[0m | \u001b[36mfitter.fitter\u001b[0m:\u001b[36m_fit_single_distribution\u001b[0m:\u001b[36m337\u001b[0m - \u001b[1mFitted uniform distribution with error=1e-06)\u001b[0m\n",
      "\u001b[32m2024-03-11 03:30:09.986\u001b[0m | \u001b[33m\u001b[1mWARNING \u001b[0m | \u001b[36mfitter.fitter\u001b[0m:\u001b[36m_fit_single_distribution\u001b[0m:\u001b[36m347\u001b[0m - \u001b[33m\u001b[1mSKIPPED lognorm distribution (taking more than 30 seconds)\u001b[0m\n",
      "\u001b[32m2024-03-11 03:30:09.989\u001b[0m | \u001b[33m\u001b[1mWARNING \u001b[0m | \u001b[36mfitter.fitter\u001b[0m:\u001b[36m_fit_single_distribution\u001b[0m:\u001b[36m347\u001b[0m - \u001b[33m\u001b[1mSKIPPED gamma distribution (taking more than 30 seconds)\u001b[0m\n",
      "\u001b[32m2024-03-11 03:30:09.989\u001b[0m | \u001b[33m\u001b[1mWARNING \u001b[0m | \u001b[36mfitter.fitter\u001b[0m:\u001b[36m_fit_single_distribution\u001b[0m:\u001b[36m347\u001b[0m - \u001b[33m\u001b[1mSKIPPED beta distribution (taking more than 30 seconds)\u001b[0m\n"
     ]
    },
    {
     "name": "stdout",
     "output_type": "stream",
     "text": [
      "acre_lot\n",
      "Best Distribution: norm\n",
      "\n",
      "###### house_size ######\n"
     ]
    },
    {
     "name": "stderr",
     "output_type": "stream",
     "text": [
      "\u001b[32m2024-03-11 03:30:11.082\u001b[0m | \u001b[1mINFO    \u001b[0m | \u001b[36mfitter.fitter\u001b[0m:\u001b[36m_fit_single_distribution\u001b[0m:\u001b[36m337\u001b[0m - \u001b[1mFitted norm distribution with error=0.0)\u001b[0m\n",
      "\u001b[32m2024-03-11 03:30:11.104\u001b[0m | \u001b[1mINFO    \u001b[0m | \u001b[36mfitter.fitter\u001b[0m:\u001b[36m_fit_single_distribution\u001b[0m:\u001b[36m337\u001b[0m - \u001b[1mFitted uniform distribution with error=0.0)\u001b[0m\n",
      "\u001b[32m2024-03-11 03:30:40.216\u001b[0m | \u001b[33m\u001b[1mWARNING \u001b[0m | \u001b[36mfitter.fitter\u001b[0m:\u001b[36m_fit_single_distribution\u001b[0m:\u001b[36m347\u001b[0m - \u001b[33m\u001b[1mSKIPPED beta distribution (taking more than 30 seconds)\u001b[0m\n",
      "\u001b[32m2024-03-11 03:30:40.222\u001b[0m | \u001b[33m\u001b[1mWARNING \u001b[0m | \u001b[36mfitter.fitter\u001b[0m:\u001b[36m_fit_single_distribution\u001b[0m:\u001b[36m347\u001b[0m - \u001b[33m\u001b[1mSKIPPED gamma distribution (taking more than 30 seconds)\u001b[0m\n",
      "\u001b[32m2024-03-11 03:30:40.276\u001b[0m | \u001b[33m\u001b[1mWARNING \u001b[0m | \u001b[36mfitter.fitter\u001b[0m:\u001b[36m_fit_single_distribution\u001b[0m:\u001b[36m347\u001b[0m - \u001b[33m\u001b[1mSKIPPED lognorm distribution (taking more than 30 seconds)\u001b[0m\n"
     ]
    },
    {
     "name": "stdout",
     "output_type": "stream",
     "text": [
      "house_size\n",
      "Best Distribution: norm\n",
      "\n"
     ]
    },
    {
     "data": {
      "text/plain": [
       "{'bed': 'lognorm', 'bath': 'norm', 'acre_lot': 'norm', 'house_size': 'norm'}"
      ]
     },
     "execution_count": 202,
     "metadata": {},
     "output_type": "execute_result"
    }
   ],
   "source": [
    "from fitter import Fitter , get_common_distributions\n",
    "\n",
    "def get_best_distribution():\n",
    "    numeric_columns = ['bed', 'bath',\"acre_lot\",  'house_size']\n",
    "\n",
    "    columns_distributions_dict = {column: \"\" for column in numeric_columns}\n",
    "\n",
    "    for column in numeric_columns:\n",
    "        print(\"###### \" + column + \" ######\")\n",
    "\n",
    "        data = numeric_df_copy[column].values\n",
    "\n",
    "        f = Fitter(data,distributions=[\"beta\", \"gamma\", \"lognorm\", \"norm\", \"uniform\"])\n",
    "        f.fit()\n",
    "        f.summary(plot=False)\n",
    "        dist = f.get_best(method=\"sumsquare_error\")\n",
    "        best_dist = \"\"\n",
    "        for key in dist.keys():\n",
    "            best_dist = key\n",
    "\n",
    "        columns_distributions_dict[column] = str(best_dist)\n",
    "        print(column)\n",
    "        print(f\"Best Distribution: {best_dist}\")\n",
    "        print()\n",
    "\n",
    "    return columns_distributions_dict\n",
    "\n",
    "get_best_distribution()"
   ]
  },
  {
   "cell_type": "markdown",
   "metadata": {
    "collapsed": false
   },
   "source": [
    "## Outliers\n",
    "Scatter Plots"
   ]
  },
  {
   "cell_type": "code",
   "execution_count": null,
   "metadata": {
    "collapsed": false
   },
   "outputs": [],
   "source": [
    "numeric_df.drop([\"price\"], axis=1, inplace=True)\n",
    "\n",
    "for i in numeric_df.columns:\n",
    "    plt.scatter(numeric_df[i], df[\"price\"], s = 20)\n",
    "    plt.title(i)\n",
    "    plt.show()"
   ]
  },
  {
   "cell_type": "markdown",
   "metadata": {
    "collapsed": false
   },
   "source": [
    "Box Plots"
   ]
  },
  {
   "cell_type": "code",
   "execution_count": null,
   "metadata": {
    "collapsed": false
   },
   "outputs": [],
   "source": [
    "for column in numeric_df.columns:\n",
    "    plt.figure(figsize=(8,6))\n",
    "    sns.boxplot(data=numeric_df[column], log_scale=True, orient='h')\n",
    "    plt.title(f'Box plot of {column}')\n",
    "    plt.xlabel('Values')\n",
    "    plt.ylabel('Frequency')\n",
    "    plt.show()"
   ]
  },
  {
   "cell_type": "markdown",
   "metadata": {
    "collapsed": false
   },
   "source": [
    "Interquartile range"
   ]
  },
  {
   "cell_type": "code",
   "execution_count": null,
   "metadata": {
    "collapsed": false
   },
   "outputs": [],
   "source": [
    "Q1 = numeric_df.quantile(0.25)\n",
    "Q3 = numeric_df.quantile(0.75)\n",
    "IQR = Q3 - Q1\n",
    "outlier = (numeric_df < (Q1 - 1.5 * IQR)) | (numeric_df > (Q3 + 1.5 * IQR))\n",
    "print(IQR)\n",
    "print()\n",
    "print(\"- Outlier lower bound:\")\n",
    "print(Q1- 1.5 * IQR)\n",
    "print()\n",
    "print(\"- Outlier upper bound:\")\n",
    "print(Q3 + 1.5 * IQR)\n",
    "\n",
    "print()\n",
    "print(\"- Number of outliers:\")\n",
    "for i in numeric_df.columns:\n",
    "    print(i, \":\", outlier[i].sum())\n",
    "print()\n",
    "print(\"- Percentage of outliers:\")\n",
    "for i in numeric_df.columns:\n",
    "    print(i, \":\", (outlier[i].sum()*100/len(outlier[i])))"
   ]
  },
  {
   "cell_type": "markdown",
   "metadata": {
    "collapsed": false
   },
   "source": [
    "## Distribution"
   ]
  },
  {
   "cell_type": "code",
   "execution_count": null,
   "metadata": {
    "collapsed": false
   },
   "outputs": [],
   "source": [
    "print(\"- Statistical Overview\")\n",
    "print(numeric_df.describe())\n",
    "print()\n",
    "print(\"- Mean\")\n",
    "print(numeric_df.mean())\n",
    "print()\n",
    "print(\"- Median\")\n",
    "print(numeric_df.median())\n",
    "print()\n",
    "print(\"- Mode\")\n",
    "print(numeric_df.mode())\n",
    "print()\n",
    "print(\"- Standard Deviation\")\n",
    "print(numeric_df.std())\n",
    "print()\n",
    "print(\"- Skewness\")\n",
    "print(numeric_df.skew())\n",
    "\n",
    "for i in numeric_df.columns:\n",
    "  sns.displot(data=numeric_df, x=i, bins=100, log_scale=True)"
   ]
  },
  {
   "cell_type": "markdown",
   "metadata": {
    "collapsed": false
   },
   "source": [
    "Histograms"
   ]
  },
  {
   "cell_type": "code",
   "execution_count": null,
   "metadata": {
    "collapsed": false
   },
   "outputs": [],
   "source": [
    "for i in numeric_df.columns:\n",
    "\n",
    "    mean = numeric_df[i].mean()\n",
    "    std = numeric_df[i].std()\n",
    "\n",
    "    b = ( (mean * (1-mean)**2)/(std**2) ) - mean - 1\n",
    "    a = (mean * b) / (1 - mean)\n",
    "    k = mean**2 / (std**2)\n",
    "\n",
    "    plt.figure(figsize=(10, 6))  \n",
    "    plt.title(f'Histogram of {i}')  \n",
    "    plt.xlabel('Value')  \n",
    "    plt.ylabel('Density')  \n",
    "\n",
    "    if (i == \"house_size\"):\n",
    "        plt.hist(data= numeric_df, x=i, bins=6000, density=True, color= \"blue\" ,alpha=0.7, edgecolor='black') \n",
    "        # plt.xlim(0,15000)\n",
    "        x = np.linspace(0, 15000, 1000)\n",
    "\n",
    "    elif (i == \"acre_lot\"):\n",
    "        plt.hist(data= numeric_df, x=i, bins=60000, density=True, color= \"blue\" ,alpha=0.7, edgecolor='black') \n",
    "        plt.xlim(0,50)\n",
    "        plt.ylim(0,1)\n",
    "        x = np.linspace(0,50,60)\n",
    "    else:\n",
    "        plt.hist(data= numeric_df, x=i, bins=500, density=True, color= \"blue\" ,alpha=0.7, edgecolor='black') \n",
    "        plt.xlim(0,20)\n",
    "        x = np.linspace(0,100, 300)\n",
    "\n",
    "    b_x = np.linspace(0,1,100)\n",
    "\n",
    "    pdf_norm = norm.pdf(x, np.mean(numeric_df[i]), np.std(numeric_df[i]))\n",
    "    plt.plot(x, pdf_norm, label='Normal', color='red')\n",
    "\n",
    "    pdf_beta = beta.pdf(x, abs(a),abs(b))  \n",
    "    plt.plot(x, pdf_beta, label='Beta', color='green', alpha=0.6)\n",
    "\n",
    "    pdf_gamma = gamma.pdf(x, k)  \n",
    "    plt.plot(x, pdf_gamma, label='Gamma', color='purple')\n",
    "\n",
    "    pdf_lognorm = lognorm.pdf(x, 1, loc=0, scale=np.exp(np.mean(np.log(numeric_df[i]))))\n",
    "    plt.plot(x, pdf_lognorm, label='Lognormal', color='orange')\n",
    "    plt.legend()\n",
    "    plt.show()"
   ]
  },
  {
   "cell_type": "markdown",
   "metadata": {
    "collapsed": false
   },
   "source": [
    "## Scaling"
   ]
  },
  {
   "cell_type": "code",
   "execution_count": null,
   "metadata": {
    "collapsed": false
   },
   "outputs": [],
   "source": [
    "scaler = StandardScaler()\n",
    "numeric_df = pd.DataFrame(scaler.fit_transform(numeric_df), columns=numeric_df.columns)\n",
    "\n",
    "df[\"bed\"] = numeric_df['bed']\n",
    "df[\"bath\"] = numeric_df['bath']\n",
    "df[\"house_size\"] = numeric_df['house_size']\n",
    "df[\"acre_lot\"] = numeric_df['acre_lot']\n",
    "\n",
    "df.head()"
   ]
  },
  {
   "cell_type": "markdown",
   "metadata": {
    "collapsed": false
   },
   "source": [
    "## One-Hot Encoding"
   ]
  },
  {
   "cell_type": "code",
   "execution_count": null,
   "metadata": {
    "collapsed": false
   },
   "outputs": [],
   "source": [
    "print(\"Num of status: \",len(df[\"status\"].unique()))\n",
    "print(\"Num of cities: \",len(df[\"city\"].unique()))\n",
    "print(\"Num of states: \",len(df[\"state\"].unique()))\n",
    "print(\"Num of zipcodes: \",len(df[\"zip_code\"].unique()))\n",
    "print(\"Num of sold: \",len(df[\"sold\"].unique()))"
   ]
  },
  {
   "cell_type": "code",
   "execution_count": null,
   "metadata": {
    "collapsed": false
   },
   "outputs": [],
   "source": [
    "OHE = OneHotEncoder(handle_unknown='ignore', sparse_output=False).set_output(transform='pandas')\n",
    "cols = [\"city\", \"state\", \"zip_code\", \"status\", \"sold\"]\n",
    "NewDF = OHE.fit_transform(df[cols])\n",
    "print(NewDF)"
   ]
  },
  {
   "cell_type": "markdown",
   "metadata": {
    "collapsed": false
   },
   "source": [
    "## Finalizing the Dataframe"
   ]
  },
  {
   "cell_type": "code",
   "execution_count": null,
   "metadata": {
    "collapsed": false
   },
   "outputs": [],
   "source": [
    "NewDF['bed'] = df['bed']\n",
    "NewDF['bath'] = df['bath']\n",
    "NewDF['acre_lot'] = df['acre_lot']\n",
    "NewDF['house_size'] = df['house_size']\n",
    "NewDF['price'] = df['price']\n",
    "\n",
    "NewDF.info()"
   ]
  }
 ],
 "metadata": {
  "kernelspec": {
   "display_name": "Python 3",
   "language": "python",
   "name": "python3"
  },
  "language_info": {
   "codemirror_mode": {
    "name": "ipython",
    "version": 3
   },
   "file_extension": ".py",
   "mimetype": "text/x-python",
   "name": "python",
   "nbconvert_exporter": "python",
   "pygments_lexer": "ipython3",
   "version": "3.11.4"
  }
 },
 "nbformat": 4,
 "nbformat_minor": 2
}
