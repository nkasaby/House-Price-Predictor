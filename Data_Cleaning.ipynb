{
 "cells": [
  {
   "cell_type": "code",
   "execution_count": 73,
   "metadata": {
    "ExecuteTime": {
     "end_time": "2024-03-08T09:38:11.370035Z",
     "start_time": "2024-03-08T09:38:04.996576Z"
    }
   },
   "outputs": [],
   "source": [
    "import numpy as np\n",
    "import pandas as pd\n",
    "import matplotlib.pyplot as plt\n",
    "from sklearn.preprocessing import OneHotEncoder"
   ]
  },
  {
   "cell_type": "code",
   "execution_count": 48,
   "outputs": [
    {
     "name": "stdout",
     "output_type": "stream",
     "text": [
      "<class 'pandas.core.frame.DataFrame'>\n",
      "RangeIndex: 2001666 entries, 0 to 2001665\n",
      "Data columns (total 10 columns):\n",
      " #   Column          Dtype  \n",
      "---  ------          -----  \n",
      " 0   status          object \n",
      " 1   bed             float64\n",
      " 2   bath            float64\n",
      " 3   acre_lot        float64\n",
      " 4   city            object \n",
      " 5   state           object \n",
      " 6   zip_code        float64\n",
      " 7   house_size      float64\n",
      " 8   prev_sold_date  object \n",
      " 9   price           float64\n",
      "dtypes: float64(6), object(4)\n",
      "memory usage: 152.7+ MB\n"
     ]
    }
   ],
   "source": [
    "df = pd.read_csv('Old_Dataset.csv')\n",
    "df.info()"
   ],
   "metadata": {
    "collapsed": false,
    "ExecuteTime": {
     "end_time": "2024-03-08T07:55:38.728427Z",
     "start_time": "2024-03-08T07:55:36.632987Z"
    }
   }
  },
  {
   "cell_type": "markdown",
   "source": [
    "Null Percentage:"
   ],
   "metadata": {
    "collapsed": false
   }
  },
  {
   "cell_type": "code",
   "execution_count": 49,
   "outputs": [
    {
     "name": "stdout",
     "output_type": "stream",
     "text": [
      "status             0.000000\n",
      "bed               16.914210\n",
      "bath              17.122037\n",
      "acre_lot          20.921372\n",
      "city               0.015037\n",
      "state              0.000000\n",
      "zip_code           0.025878\n",
      "house_size        32.233150\n",
      "prev_sold_date    49.691457\n",
      "price              0.013539\n",
      "dtype: float64\n"
     ]
    }
   ],
   "source": [
    "nulls_percent = df.isnull().sum()*100 / df.shape[0]\n",
    "print(nulls_percent)"
   ],
   "metadata": {
    "collapsed": false,
    "ExecuteTime": {
     "end_time": "2024-03-08T07:55:42.067439Z",
     "start_time": "2024-03-08T07:55:41.800461Z"
    }
   }
  },
  {
   "cell_type": "markdown",
   "source": [
    "There is no feature with a null percentage exceeding 70% which means that the missing values can be dealt with rather than eliminating the column from the dataset"
   ],
   "metadata": {
    "collapsed": false
   }
  },
  {
   "cell_type": "markdown",
   "source": [
    "These statistics will be useful for encoding the categorical data (OHE)"
   ],
   "metadata": {
    "collapsed": false
   }
  },
  {
   "cell_type": "markdown",
   "source": [
    "Correlation"
   ],
   "metadata": {
    "collapsed": false
   }
  },
  {
   "cell_type": "code",
   "execution_count": 51,
   "outputs": [
    {
     "name": "stdout",
     "output_type": "stream",
     "text": [
      "Correlation between bed and the label \"price\":  16.01\n",
      "Correlation between bath and the label \"price\":  27.79\n",
      "Correlation between acre_lot and the label \"price\":  -0.1\n",
      "Correlation between zip_code and the label \"price\":  -7.42\n",
      "Correlation between house_size and the label \"price\":  14.15\n"
     ]
    }
   ],
   "source": [
    "for i in df.columns[:9] :\n",
    "    if df[i].dtype != \"object\":\n",
    "        print(\"Correlation between\",i, \"and the label \\\"price\\\": \", round(df[i].corr(df[\"price\"])*100,2))"
   ],
   "metadata": {
    "collapsed": false,
    "ExecuteTime": {
     "end_time": "2024-03-08T07:57:11.468861Z",
     "start_time": "2024-03-08T07:57:11.263937Z"
    }
   }
  },
  {
   "cell_type": "markdown",
   "source": [
    "There are no high correlations exist between the features and the label, so none will be redundant features. It is important to note that there exists a high correlation between the city,state and the zipcode as the city and the state are could be determined through the zip code. This will be dealt with later on."
   ],
   "metadata": {
    "collapsed": false
   }
  },
  {
   "cell_type": "markdown",
   "source": [
    "Fixing Data Types"
   ],
   "metadata": {
    "collapsed": false
   }
  },
  {
   "cell_type": "code",
   "execution_count": 52,
   "outputs": [
    {
     "data": {
      "text/plain": "     status  bed  bath  acre_lot        city        state zip_code  \\\n0  for_sale    3     2      0.12    Adjuntas  Puerto Rico    00601   \n1  for_sale    4     2      0.08    Adjuntas  Puerto Rico    00601   \n2  for_sale    2     1      0.15  Juana Diaz  Puerto Rico    00795   \n3  for_sale    4     2       0.1       Ponce  Puerto Rico    00731   \n4  for_sale    6     2      0.05    Mayaguez  Puerto Rico    00680   \n\n   house_size prev_sold_date     price  \n0       920.0            NaN  105000.0  \n1      1527.0            NaN   80000.0  \n2       748.0            NaN   67000.0  \n3      1800.0            NaN  145000.0  \n4         NaN            NaN   65000.0  ",
      "text/html": "<div>\n<style scoped>\n    .dataframe tbody tr th:only-of-type {\n        vertical-align: middle;\n    }\n\n    .dataframe tbody tr th {\n        vertical-align: top;\n    }\n\n    .dataframe thead th {\n        text-align: right;\n    }\n</style>\n<table border=\"1\" class=\"dataframe\">\n  <thead>\n    <tr style=\"text-align: right;\">\n      <th></th>\n      <th>status</th>\n      <th>bed</th>\n      <th>bath</th>\n      <th>acre_lot</th>\n      <th>city</th>\n      <th>state</th>\n      <th>zip_code</th>\n      <th>house_size</th>\n      <th>prev_sold_date</th>\n      <th>price</th>\n    </tr>\n  </thead>\n  <tbody>\n    <tr>\n      <th>0</th>\n      <td>for_sale</td>\n      <td>3</td>\n      <td>2</td>\n      <td>0.12</td>\n      <td>Adjuntas</td>\n      <td>Puerto Rico</td>\n      <td>00601</td>\n      <td>920.0</td>\n      <td>NaN</td>\n      <td>105000.0</td>\n    </tr>\n    <tr>\n      <th>1</th>\n      <td>for_sale</td>\n      <td>4</td>\n      <td>2</td>\n      <td>0.08</td>\n      <td>Adjuntas</td>\n      <td>Puerto Rico</td>\n      <td>00601</td>\n      <td>1527.0</td>\n      <td>NaN</td>\n      <td>80000.0</td>\n    </tr>\n    <tr>\n      <th>2</th>\n      <td>for_sale</td>\n      <td>2</td>\n      <td>1</td>\n      <td>0.15</td>\n      <td>Juana Diaz</td>\n      <td>Puerto Rico</td>\n      <td>00795</td>\n      <td>748.0</td>\n      <td>NaN</td>\n      <td>67000.0</td>\n    </tr>\n    <tr>\n      <th>3</th>\n      <td>for_sale</td>\n      <td>4</td>\n      <td>2</td>\n      <td>0.1</td>\n      <td>Ponce</td>\n      <td>Puerto Rico</td>\n      <td>00731</td>\n      <td>1800.0</td>\n      <td>NaN</td>\n      <td>145000.0</td>\n    </tr>\n    <tr>\n      <th>4</th>\n      <td>for_sale</td>\n      <td>6</td>\n      <td>2</td>\n      <td>0.05</td>\n      <td>Mayaguez</td>\n      <td>Puerto Rico</td>\n      <td>00680</td>\n      <td>NaN</td>\n      <td>NaN</td>\n      <td>65000.0</td>\n    </tr>\n  </tbody>\n</table>\n</div>"
     },
     "execution_count": 52,
     "metadata": {},
     "output_type": "execute_result"
    }
   ],
   "source": [
    "df[\"bed\"] = df[\"bed\"].convert_dtypes(int)\n",
    "df[\"bath\"] = df[\"bath\"].convert_dtypes(int)\n",
    "df[\"zip_code\"] = df[\"zip_code\"].convert_dtypes(int)\n",
    "\n",
    "df['zip_code'] = df['zip_code'].astype(str).fillna('')\n",
    "df['zip_code'] = df['zip_code'].apply(lambda x: x.zfill(5))  \n",
    "\n",
    "df.head()"
   ],
   "metadata": {
    "collapsed": false,
    "ExecuteTime": {
     "end_time": "2024-03-08T07:57:18.867338Z",
     "start_time": "2024-03-08T07:57:16.324822Z"
    }
   }
  },
  {
   "cell_type": "markdown",
   "source": [
    "Preparing the Zip_code by shortening it to two digits since we don't need the first three digits as they indicate the state and city which are already present in the dataset. We will also set the null values to 100"
   ],
   "metadata": {
    "collapsed": false
   }
  },
  {
   "cell_type": "code",
   "execution_count": 68,
   "outputs": [
    {
     "data": {
      "text/plain": "   bed  bath  acre_lot  house_size    status        city        state  \\\n0    3     2      0.12      920.00  for_sale    Adjuntas  Puerto Rico   \n1    4     2      0.08     1527.00  for_sale    Adjuntas  Puerto Rico   \n2    2     1      0.15      748.00  for_sale  Juana Diaz  Puerto Rico   \n3    4     2       0.1     1800.00  for_sale       Ponce  Puerto Rico   \n4    6     2      0.05     2143.26  for_sale    Mayaguez  Puerto Rico   \n\n  zip_code  Sold     price  \n0       01     0  105000.0  \n1       01     0   80000.0  \n2       95     0   67000.0  \n3       31     0  145000.0  \n4       80     0   65000.0  ",
      "text/html": "<div>\n<style scoped>\n    .dataframe tbody tr th:only-of-type {\n        vertical-align: middle;\n    }\n\n    .dataframe tbody tr th {\n        vertical-align: top;\n    }\n\n    .dataframe thead th {\n        text-align: right;\n    }\n</style>\n<table border=\"1\" class=\"dataframe\">\n  <thead>\n    <tr style=\"text-align: right;\">\n      <th></th>\n      <th>bed</th>\n      <th>bath</th>\n      <th>acre_lot</th>\n      <th>house_size</th>\n      <th>status</th>\n      <th>city</th>\n      <th>state</th>\n      <th>zip_code</th>\n      <th>Sold</th>\n      <th>price</th>\n    </tr>\n  </thead>\n  <tbody>\n    <tr>\n      <th>0</th>\n      <td>3</td>\n      <td>2</td>\n      <td>0.12</td>\n      <td>920.00</td>\n      <td>for_sale</td>\n      <td>Adjuntas</td>\n      <td>Puerto Rico</td>\n      <td>01</td>\n      <td>0</td>\n      <td>105000.0</td>\n    </tr>\n    <tr>\n      <th>1</th>\n      <td>4</td>\n      <td>2</td>\n      <td>0.08</td>\n      <td>1527.00</td>\n      <td>for_sale</td>\n      <td>Adjuntas</td>\n      <td>Puerto Rico</td>\n      <td>01</td>\n      <td>0</td>\n      <td>80000.0</td>\n    </tr>\n    <tr>\n      <th>2</th>\n      <td>2</td>\n      <td>1</td>\n      <td>0.15</td>\n      <td>748.00</td>\n      <td>for_sale</td>\n      <td>Juana Diaz</td>\n      <td>Puerto Rico</td>\n      <td>95</td>\n      <td>0</td>\n      <td>67000.0</td>\n    </tr>\n    <tr>\n      <th>3</th>\n      <td>4</td>\n      <td>2</td>\n      <td>0.1</td>\n      <td>1800.00</td>\n      <td>for_sale</td>\n      <td>Ponce</td>\n      <td>Puerto Rico</td>\n      <td>31</td>\n      <td>0</td>\n      <td>145000.0</td>\n    </tr>\n    <tr>\n      <th>4</th>\n      <td>6</td>\n      <td>2</td>\n      <td>0.05</td>\n      <td>2143.26</td>\n      <td>for_sale</td>\n      <td>Mayaguez</td>\n      <td>Puerto Rico</td>\n      <td>80</td>\n      <td>0</td>\n      <td>65000.0</td>\n    </tr>\n  </tbody>\n</table>\n</div>"
     },
     "execution_count": 68,
     "metadata": {},
     "output_type": "execute_result"
    }
   ],
   "source": [
    "df['zip_code'] = df['zip_code'].str[3:]\n",
    "df['zip_code'] = df['zip_code'].replace(\"A>\", \"100\")\n",
    "df.head()"
   ],
   "metadata": {
    "collapsed": false,
    "ExecuteTime": {
     "end_time": "2024-03-08T08:46:05.339336Z",
     "start_time": "2024-03-08T08:46:05.193930Z"
    }
   }
  },
  {
   "cell_type": "markdown",
   "source": [
    "Changing the prev_sold_date into a boolean sold feature indicating whether the house was sold or not\n"
   ],
   "metadata": {
    "collapsed": false
   }
  },
  {
   "cell_type": "code",
   "execution_count": 61,
   "outputs": [
    {
     "data": {
      "text/plain": "   bed  bath  acre_lot  house_size    status        city        state  \\\n0    3     2      0.12       920.0  for_sale    Adjuntas  Puerto Rico   \n1    4     2      0.08      1527.0  for_sale    Adjuntas  Puerto Rico   \n2    2     1      0.15       748.0  for_sale  Juana Diaz  Puerto Rico   \n3    4     2       0.1      1800.0  for_sale       Ponce  Puerto Rico   \n4    6     2      0.05         NaN  for_sale    Mayaguez  Puerto Rico   \n\n  zip_code  Sold     price  \n0       01     0  105000.0  \n1       01     0   80000.0  \n2       95     0   67000.0  \n3       31     0  145000.0  \n4       80     0   65000.0  ",
      "text/html": "<div>\n<style scoped>\n    .dataframe tbody tr th:only-of-type {\n        vertical-align: middle;\n    }\n\n    .dataframe tbody tr th {\n        vertical-align: top;\n    }\n\n    .dataframe thead th {\n        text-align: right;\n    }\n</style>\n<table border=\"1\" class=\"dataframe\">\n  <thead>\n    <tr style=\"text-align: right;\">\n      <th></th>\n      <th>bed</th>\n      <th>bath</th>\n      <th>acre_lot</th>\n      <th>house_size</th>\n      <th>status</th>\n      <th>city</th>\n      <th>state</th>\n      <th>zip_code</th>\n      <th>Sold</th>\n      <th>price</th>\n    </tr>\n  </thead>\n  <tbody>\n    <tr>\n      <th>0</th>\n      <td>3</td>\n      <td>2</td>\n      <td>0.12</td>\n      <td>920.0</td>\n      <td>for_sale</td>\n      <td>Adjuntas</td>\n      <td>Puerto Rico</td>\n      <td>01</td>\n      <td>0</td>\n      <td>105000.0</td>\n    </tr>\n    <tr>\n      <th>1</th>\n      <td>4</td>\n      <td>2</td>\n      <td>0.08</td>\n      <td>1527.0</td>\n      <td>for_sale</td>\n      <td>Adjuntas</td>\n      <td>Puerto Rico</td>\n      <td>01</td>\n      <td>0</td>\n      <td>80000.0</td>\n    </tr>\n    <tr>\n      <th>2</th>\n      <td>2</td>\n      <td>1</td>\n      <td>0.15</td>\n      <td>748.0</td>\n      <td>for_sale</td>\n      <td>Juana Diaz</td>\n      <td>Puerto Rico</td>\n      <td>95</td>\n      <td>0</td>\n      <td>67000.0</td>\n    </tr>\n    <tr>\n      <th>3</th>\n      <td>4</td>\n      <td>2</td>\n      <td>0.1</td>\n      <td>1800.0</td>\n      <td>for_sale</td>\n      <td>Ponce</td>\n      <td>Puerto Rico</td>\n      <td>31</td>\n      <td>0</td>\n      <td>145000.0</td>\n    </tr>\n    <tr>\n      <th>4</th>\n      <td>6</td>\n      <td>2</td>\n      <td>0.05</td>\n      <td>NaN</td>\n      <td>for_sale</td>\n      <td>Mayaguez</td>\n      <td>Puerto Rico</td>\n      <td>80</td>\n      <td>0</td>\n      <td>65000.0</td>\n    </tr>\n  </tbody>\n</table>\n</div>"
     },
     "execution_count": 61,
     "metadata": {},
     "output_type": "execute_result"
    }
   ],
   "source": [
    "df['Sold'] = df['prev_sold_date'].notnull().map({True: 1, False: 0})\n",
    "df.drop([\"prev_sold_date\"], axis=1, inplace=True)\n",
    "df = df.iloc[:, [1, 2, 3, 7, 0, 4, 5, 6, 9, 8]]  \n",
    "df.head()"
   ],
   "metadata": {
    "collapsed": false,
    "ExecuteTime": {
     "end_time": "2024-03-08T08:21:02.752620Z",
     "start_time": "2024-03-08T08:21:02.498944Z"
    }
   }
  },
  {
   "cell_type": "markdown",
   "source": [
    "We will handle the Nulls in the numerical features by setting them to the mean value."
   ],
   "metadata": {
    "collapsed": false
   }
  },
  {
   "cell_type": "code",
   "execution_count": 66,
   "outputs": [
    {
     "name": "stdout",
     "output_type": "stream",
     "text": [
      "bed           0.000000\n",
      "bath          0.000000\n",
      "acre_lot      0.000000\n",
      "house_size    0.000000\n",
      "status        0.000000\n",
      "city          0.015037\n",
      "state         0.000000\n",
      "zip_code      0.000000\n",
      "Sold          0.000000\n",
      "price         0.013539\n",
      "dtype: float64\n"
     ]
    },
    {
     "data": {
      "text/plain": "   bed  bath  acre_lot  house_size    status        city        state  \\\n0    3     2      0.12      920.00  for_sale    Adjuntas  Puerto Rico   \n1    4     2      0.08     1527.00  for_sale    Adjuntas  Puerto Rico   \n2    2     1      0.15      748.00  for_sale  Juana Diaz  Puerto Rico   \n3    4     2       0.1     1800.00  for_sale       Ponce  Puerto Rico   \n4    6     2      0.05     2143.26  for_sale    Mayaguez  Puerto Rico   \n\n  zip_code  Sold     price  \n0       01     0  105000.0  \n1       01     0   80000.0  \n2       95     0   67000.0  \n3       31     0  145000.0  \n4       80     0   65000.0  ",
      "text/html": "<div>\n<style scoped>\n    .dataframe tbody tr th:only-of-type {\n        vertical-align: middle;\n    }\n\n    .dataframe tbody tr th {\n        vertical-align: top;\n    }\n\n    .dataframe thead th {\n        text-align: right;\n    }\n</style>\n<table border=\"1\" class=\"dataframe\">\n  <thead>\n    <tr style=\"text-align: right;\">\n      <th></th>\n      <th>bed</th>\n      <th>bath</th>\n      <th>acre_lot</th>\n      <th>house_size</th>\n      <th>status</th>\n      <th>city</th>\n      <th>state</th>\n      <th>zip_code</th>\n      <th>Sold</th>\n      <th>price</th>\n    </tr>\n  </thead>\n  <tbody>\n    <tr>\n      <th>0</th>\n      <td>3</td>\n      <td>2</td>\n      <td>0.12</td>\n      <td>920.00</td>\n      <td>for_sale</td>\n      <td>Adjuntas</td>\n      <td>Puerto Rico</td>\n      <td>01</td>\n      <td>0</td>\n      <td>105000.0</td>\n    </tr>\n    <tr>\n      <th>1</th>\n      <td>4</td>\n      <td>2</td>\n      <td>0.08</td>\n      <td>1527.00</td>\n      <td>for_sale</td>\n      <td>Adjuntas</td>\n      <td>Puerto Rico</td>\n      <td>01</td>\n      <td>0</td>\n      <td>80000.0</td>\n    </tr>\n    <tr>\n      <th>2</th>\n      <td>2</td>\n      <td>1</td>\n      <td>0.15</td>\n      <td>748.00</td>\n      <td>for_sale</td>\n      <td>Juana Diaz</td>\n      <td>Puerto Rico</td>\n      <td>95</td>\n      <td>0</td>\n      <td>67000.0</td>\n    </tr>\n    <tr>\n      <th>3</th>\n      <td>4</td>\n      <td>2</td>\n      <td>0.1</td>\n      <td>1800.00</td>\n      <td>for_sale</td>\n      <td>Ponce</td>\n      <td>Puerto Rico</td>\n      <td>31</td>\n      <td>0</td>\n      <td>145000.0</td>\n    </tr>\n    <tr>\n      <th>4</th>\n      <td>6</td>\n      <td>2</td>\n      <td>0.05</td>\n      <td>2143.26</td>\n      <td>for_sale</td>\n      <td>Mayaguez</td>\n      <td>Puerto Rico</td>\n      <td>80</td>\n      <td>0</td>\n      <td>65000.0</td>\n    </tr>\n  </tbody>\n</table>\n</div>"
     },
     "execution_count": 66,
     "metadata": {},
     "output_type": "execute_result"
    }
   ],
   "source": [
    "Bed_Mean = int(df['bed'].mean())\n",
    "Bath_Mean = int(df['bath'].mean())\n",
    "Acre_Mean = df['acre_lot'].mean()\n",
    "Size_Mean = df['house_size'].mean()\n",
    "\n",
    "df['bed'] = df['bed'].fillna(Bed_Mean)\n",
    "df['bath'] = df['bath'].fillna(Bath_Mean)\n",
    "df['acre_lot'] = df['acre_lot'].fillna(Acre_Mean)\n",
    "df['house_size'] = df['house_size'].fillna(Size_Mean)\n",
    "\n",
    "nulls_percent = df.isnull().sum()*100 / df.shape[0]\n",
    "print(nulls_percent)\n",
    "\n",
    "df['acre_lot'] = df['acre_lot'].round(2)\n",
    "df['house_size'] = df['house_size'].round(2)\n",
    "df.head()"
   ],
   "metadata": {
    "collapsed": false,
    "ExecuteTime": {
     "end_time": "2024-03-08T08:39:19.737622Z",
     "start_time": "2024-03-08T08:39:19.447477Z"
    }
   }
  },
  {
   "cell_type": "markdown",
   "source": [
    "One-Hot Encoding"
   ],
   "metadata": {
    "collapsed": false
   }
  },
  {
   "cell_type": "code",
   "execution_count": 54,
   "outputs": [
    {
     "name": "stdout",
     "output_type": "stream",
     "text": [
      "Num of cities:  5000\n",
      "Num of states:  24\n",
      "Num of zipcodes:  101\n"
     ]
    }
   ],
   "source": [
    "print(\"Num of cities: \",len(df[\"status\"].unique()))\n",
    "print(\"Num of cities: \",len(df[\"city\"].unique()))\n",
    "print(\"Num of states: \",len(df[\"state\"].unique()))\n",
    "print(\"Num of zipcodes: \",len(df[\"zip_code\"].unique()))"
   ],
   "metadata": {
    "collapsed": false,
    "ExecuteTime": {
     "end_time": "2024-03-08T07:57:46.489021Z",
     "start_time": "2024-03-08T07:57:46.348129Z"
    }
   }
  },
  {
   "cell_type": "code",
   "execution_count": null,
   "outputs": [],
   "source": [],
   "metadata": {
    "collapsed": false
   }
  }
 ],
 "metadata": {
  "kernelspec": {
   "display_name": "Python 3",
   "language": "python",
   "name": "python3"
  },
  "language_info": {
   "codemirror_mode": {
    "name": "ipython",
    "version": 3
   },
   "file_extension": ".py",
   "mimetype": "text/x-python",
   "name": "python",
   "nbconvert_exporter": "python",
   "pygments_lexer": "ipython3",
   "version": "3.11.4"
  }
 },
 "nbformat": 4,
 "nbformat_minor": 2
}
