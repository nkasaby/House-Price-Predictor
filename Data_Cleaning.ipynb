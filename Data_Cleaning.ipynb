{
 "cells": [
  {
   "cell_type": "code",
   "execution_count": 46,
   "metadata": {
    "ExecuteTime": {
     "end_time": "2024-03-09T10:52:48.508208Z",
     "start_time": "2024-03-09T10:52:48.233202Z"
    }
   },
   "outputs": [],
   "source": [
    "import numpy as np\n",
    "import pandas as pd\n",
    "import matplotlib.pyplot as plt \n",
    "from sklearn.preprocessing import OneHotEncoder\n",
    "from sklearn.preprocessing import StandardScaler\n",
    "import seaborn as sns\n",
    "import scipy.stats as stats\n",
    "from scipy.stats import beta, gamma, lognorm, norm\n",
    "import warnings\n",
    "\n",
    "warnings.filterwarnings(\"ignore\", message=\"divide by zero encountered in log\")\n",
    "warnings.filterwarnings(\"ignore\", message=\"invalid value encountered in divide\")\n",
    "warnings.filterwarnings(\"ignore\", message=\"divide by zero encountered in divide\")"
   ]
  },
  {
   "cell_type": "code",
   "execution_count": 78,
   "metadata": {
    "ExecuteTime": {
     "end_time": "2024-03-09T10:52:51.158764Z",
     "start_time": "2024-03-09T10:52:48.365796Z"
    },
    "collapsed": false
   },
   "outputs": [
    {
     "name": "stdout",
     "output_type": "stream",
     "text": [
      "<class 'pandas.core.frame.DataFrame'>\n",
      "RangeIndex: 2001666 entries, 0 to 2001665\n",
      "Data columns (total 10 columns):\n",
      " #   Column          Dtype  \n",
      "---  ------          -----  \n",
      " 0   status          object \n",
      " 1   bed             float64\n",
      " 2   bath            float64\n",
      " 3   acre_lot        float64\n",
      " 4   city            object \n",
      " 5   state           object \n",
      " 6   zip_code        float64\n",
      " 7   house_size      float64\n",
      " 8   prev_sold_date  object \n",
      " 9   price           float64\n",
      "dtypes: float64(6), object(4)\n",
      "memory usage: 152.7+ MB\n"
     ]
    }
   ],
   "source": [
    "df = pd.read_csv('Old_Dataset.csv')\n",
    "df.info()"
   ]
  },
  {
   "cell_type": "markdown",
   "metadata": {
    "collapsed": false
   },
   "source": [
    "## Null Percentage:"
   ]
  },
  {
   "cell_type": "code",
   "execution_count": 141,
   "metadata": {
    "ExecuteTime": {
     "end_time": "2024-03-09T10:52:51.446138Z",
     "start_time": "2024-03-09T10:52:51.162057Z"
    },
    "collapsed": false
   },
   "outputs": [
    {
     "name": "stdout",
     "output_type": "stream",
     "text": [
      "status             0.000\n",
      "bed               16.914\n",
      "bath              17.122\n",
      "acre_lot          20.921\n",
      "city               0.015\n",
      "state              0.000\n",
      "zip_code           0.026\n",
      "house_size        32.233\n",
      "prev_sold_date    49.691\n",
      "price              0.014\n",
      "dtype: float64\n"
     ]
    }
   ],
   "source": [
    "nulls_percent = df.isnull().sum()*100 / df.shape[0]\n",
    "print(nulls_percent.round(3))"
   ]
  },
  {
   "cell_type": "markdown",
   "metadata": {
    "collapsed": false
   },
   "source": [
    "There is no feature with a null percentage exceeding 70% which means that the missing values can be dealt with rather than eliminating the column from the dataset"
   ]
  },
  {
   "cell_type": "markdown",
   "metadata": {
    "collapsed": false
   },
   "source": [
    "## Correlation:"
   ]
  },
  {
   "cell_type": "code",
   "execution_count": 142,
   "metadata": {
    "ExecuteTime": {
     "end_time": "2024-03-09T10:52:51.722757Z",
     "start_time": "2024-03-09T10:52:51.452088Z"
    },
    "collapsed": false
   },
   "outputs": [
    {
     "name": "stdout",
     "output_type": "stream",
     "text": [
      "Correlation between bed and the label \"price\":  16.01\n",
      "Correlation between bath and the label \"price\":  27.79\n",
      "Correlation between acre_lot and the label \"price\":  -0.1\n",
      "Correlation between zip_code and the label \"price\":  -7.42\n",
      "Correlation between house_size and the label \"price\":  14.15\n"
     ]
    }
   ],
   "source": [
    "for i in df.columns[:9] :\n",
    "    if df[i].dtype != \"object\":\n",
    "        print(\"Correlation between\",i, \"and the label \\\"price\\\": \", round(df[i].corr(df[\"price\"])*100,2))"
   ]
  },
  {
   "cell_type": "markdown",
   "metadata": {
    "collapsed": false
   },
   "source": [
    "There are no high correlations between the features and the label, so none will be redundant features. It is important to note that there exists a high correlation between the city,state and the zipcode as the city and the state are could be determined through the zip code."
   ]
  },
  {
   "cell_type": "markdown",
   "metadata": {
    "collapsed": false
   },
   "source": [
    "## Fixing Data Types"
   ]
  },
  {
   "cell_type": "code",
   "execution_count": 79,
   "metadata": {
    "ExecuteTime": {
     "end_time": "2024-03-09T10:52:53.823735Z",
     "start_time": "2024-03-09T10:52:51.728313Z"
    },
    "collapsed": false
   },
   "outputs": [
    {
     "data": {
      "text/html": [
       "<div>\n",
       "<style scoped>\n",
       "    .dataframe tbody tr th:only-of-type {\n",
       "        vertical-align: middle;\n",
       "    }\n",
       "\n",
       "    .dataframe tbody tr th {\n",
       "        vertical-align: top;\n",
       "    }\n",
       "\n",
       "    .dataframe thead th {\n",
       "        text-align: right;\n",
       "    }\n",
       "</style>\n",
       "<table border=\"1\" class=\"dataframe\">\n",
       "  <thead>\n",
       "    <tr style=\"text-align: right;\">\n",
       "      <th></th>\n",
       "      <th>status</th>\n",
       "      <th>bed</th>\n",
       "      <th>bath</th>\n",
       "      <th>acre_lot</th>\n",
       "      <th>city</th>\n",
       "      <th>state</th>\n",
       "      <th>zip_code</th>\n",
       "      <th>house_size</th>\n",
       "      <th>prev_sold_date</th>\n",
       "      <th>price</th>\n",
       "    </tr>\n",
       "  </thead>\n",
       "  <tbody>\n",
       "    <tr>\n",
       "      <th>0</th>\n",
       "      <td>for_sale</td>\n",
       "      <td>3</td>\n",
       "      <td>2</td>\n",
       "      <td>0.12</td>\n",
       "      <td>Adjuntas</td>\n",
       "      <td>Puerto Rico</td>\n",
       "      <td>00601</td>\n",
       "      <td>920.0</td>\n",
       "      <td>NaN</td>\n",
       "      <td>105000.0</td>\n",
       "    </tr>\n",
       "    <tr>\n",
       "      <th>1</th>\n",
       "      <td>for_sale</td>\n",
       "      <td>4</td>\n",
       "      <td>2</td>\n",
       "      <td>0.08</td>\n",
       "      <td>Adjuntas</td>\n",
       "      <td>Puerto Rico</td>\n",
       "      <td>00601</td>\n",
       "      <td>1527.0</td>\n",
       "      <td>NaN</td>\n",
       "      <td>80000.0</td>\n",
       "    </tr>\n",
       "    <tr>\n",
       "      <th>2</th>\n",
       "      <td>for_sale</td>\n",
       "      <td>2</td>\n",
       "      <td>1</td>\n",
       "      <td>0.15</td>\n",
       "      <td>Juana Diaz</td>\n",
       "      <td>Puerto Rico</td>\n",
       "      <td>00795</td>\n",
       "      <td>748.0</td>\n",
       "      <td>NaN</td>\n",
       "      <td>67000.0</td>\n",
       "    </tr>\n",
       "    <tr>\n",
       "      <th>3</th>\n",
       "      <td>for_sale</td>\n",
       "      <td>4</td>\n",
       "      <td>2</td>\n",
       "      <td>0.10</td>\n",
       "      <td>Ponce</td>\n",
       "      <td>Puerto Rico</td>\n",
       "      <td>00731</td>\n",
       "      <td>1800.0</td>\n",
       "      <td>NaN</td>\n",
       "      <td>145000.0</td>\n",
       "    </tr>\n",
       "    <tr>\n",
       "      <th>4</th>\n",
       "      <td>for_sale</td>\n",
       "      <td>6</td>\n",
       "      <td>2</td>\n",
       "      <td>0.05</td>\n",
       "      <td>Mayaguez</td>\n",
       "      <td>Puerto Rico</td>\n",
       "      <td>00680</td>\n",
       "      <td>NaN</td>\n",
       "      <td>NaN</td>\n",
       "      <td>65000.0</td>\n",
       "    </tr>\n",
       "  </tbody>\n",
       "</table>\n",
       "</div>"
      ],
      "text/plain": [
       "     status  bed  bath  acre_lot        city        state zip_code  \\\n",
       "0  for_sale    3     2      0.12    Adjuntas  Puerto Rico    00601   \n",
       "1  for_sale    4     2      0.08    Adjuntas  Puerto Rico    00601   \n",
       "2  for_sale    2     1      0.15  Juana Diaz  Puerto Rico    00795   \n",
       "3  for_sale    4     2      0.10       Ponce  Puerto Rico    00731   \n",
       "4  for_sale    6     2      0.05    Mayaguez  Puerto Rico    00680   \n",
       "\n",
       "   house_size prev_sold_date     price  \n",
       "0       920.0            NaN  105000.0  \n",
       "1      1527.0            NaN   80000.0  \n",
       "2       748.0            NaN   67000.0  \n",
       "3      1800.0            NaN  145000.0  \n",
       "4         NaN            NaN   65000.0  "
      ]
     },
     "execution_count": 79,
     "metadata": {},
     "output_type": "execute_result"
    }
   ],
   "source": [
    "df[\"bed\"] = df[\"bed\"].convert_dtypes(int)\n",
    "df[\"bath\"] = df[\"bath\"].convert_dtypes(int)\n",
    "df[\"zip_code\"] = df[\"zip_code\"].convert_dtypes(int)\n",
    "\n",
    "df['zip_code'] = df['zip_code'].astype(str).fillna('')\n",
    "df['zip_code'] = df['zip_code'].apply(lambda x: x.zfill(5))  \n",
    "\n",
    "df.head()"
   ]
  },
  {
   "cell_type": "markdown",
   "metadata": {
    "collapsed": false
   },
   "source": [
    "## Zip_Code\n",
    "Preparing the Zip_code by shortening it to two digits since we don't need the first three digits as they indicate the state and city which are already present in the dataset. We will also set the null values to 100"
   ]
  },
  {
   "cell_type": "code",
   "execution_count": 80,
   "metadata": {
    "ExecuteTime": {
     "end_time": "2024-03-09T10:52:54.410071Z",
     "start_time": "2024-03-09T10:52:53.895311Z"
    },
    "collapsed": false
   },
   "outputs": [
    {
     "data": {
      "text/html": [
       "<div>\n",
       "<style scoped>\n",
       "    .dataframe tbody tr th:only-of-type {\n",
       "        vertical-align: middle;\n",
       "    }\n",
       "\n",
       "    .dataframe tbody tr th {\n",
       "        vertical-align: top;\n",
       "    }\n",
       "\n",
       "    .dataframe thead th {\n",
       "        text-align: right;\n",
       "    }\n",
       "</style>\n",
       "<table border=\"1\" class=\"dataframe\">\n",
       "  <thead>\n",
       "    <tr style=\"text-align: right;\">\n",
       "      <th></th>\n",
       "      <th>status</th>\n",
       "      <th>bed</th>\n",
       "      <th>bath</th>\n",
       "      <th>acre_lot</th>\n",
       "      <th>city</th>\n",
       "      <th>state</th>\n",
       "      <th>zip_code</th>\n",
       "      <th>house_size</th>\n",
       "      <th>prev_sold_date</th>\n",
       "      <th>price</th>\n",
       "    </tr>\n",
       "  </thead>\n",
       "  <tbody>\n",
       "    <tr>\n",
       "      <th>0</th>\n",
       "      <td>for_sale</td>\n",
       "      <td>3</td>\n",
       "      <td>2</td>\n",
       "      <td>0.12</td>\n",
       "      <td>Adjuntas</td>\n",
       "      <td>Puerto Rico</td>\n",
       "      <td>01</td>\n",
       "      <td>920.0</td>\n",
       "      <td>NaN</td>\n",
       "      <td>105000.0</td>\n",
       "    </tr>\n",
       "    <tr>\n",
       "      <th>1</th>\n",
       "      <td>for_sale</td>\n",
       "      <td>4</td>\n",
       "      <td>2</td>\n",
       "      <td>0.08</td>\n",
       "      <td>Adjuntas</td>\n",
       "      <td>Puerto Rico</td>\n",
       "      <td>01</td>\n",
       "      <td>1527.0</td>\n",
       "      <td>NaN</td>\n",
       "      <td>80000.0</td>\n",
       "    </tr>\n",
       "    <tr>\n",
       "      <th>2</th>\n",
       "      <td>for_sale</td>\n",
       "      <td>2</td>\n",
       "      <td>1</td>\n",
       "      <td>0.15</td>\n",
       "      <td>Juana Diaz</td>\n",
       "      <td>Puerto Rico</td>\n",
       "      <td>95</td>\n",
       "      <td>748.0</td>\n",
       "      <td>NaN</td>\n",
       "      <td>67000.0</td>\n",
       "    </tr>\n",
       "    <tr>\n",
       "      <th>3</th>\n",
       "      <td>for_sale</td>\n",
       "      <td>4</td>\n",
       "      <td>2</td>\n",
       "      <td>0.10</td>\n",
       "      <td>Ponce</td>\n",
       "      <td>Puerto Rico</td>\n",
       "      <td>31</td>\n",
       "      <td>1800.0</td>\n",
       "      <td>NaN</td>\n",
       "      <td>145000.0</td>\n",
       "    </tr>\n",
       "    <tr>\n",
       "      <th>4</th>\n",
       "      <td>for_sale</td>\n",
       "      <td>6</td>\n",
       "      <td>2</td>\n",
       "      <td>0.05</td>\n",
       "      <td>Mayaguez</td>\n",
       "      <td>Puerto Rico</td>\n",
       "      <td>80</td>\n",
       "      <td>NaN</td>\n",
       "      <td>NaN</td>\n",
       "      <td>65000.0</td>\n",
       "    </tr>\n",
       "  </tbody>\n",
       "</table>\n",
       "</div>"
      ],
      "text/plain": [
       "     status  bed  bath  acre_lot        city        state zip_code  \\\n",
       "0  for_sale    3     2      0.12    Adjuntas  Puerto Rico       01   \n",
       "1  for_sale    4     2      0.08    Adjuntas  Puerto Rico       01   \n",
       "2  for_sale    2     1      0.15  Juana Diaz  Puerto Rico       95   \n",
       "3  for_sale    4     2      0.10       Ponce  Puerto Rico       31   \n",
       "4  for_sale    6     2      0.05    Mayaguez  Puerto Rico       80   \n",
       "\n",
       "   house_size prev_sold_date     price  \n",
       "0       920.0            NaN  105000.0  \n",
       "1      1527.0            NaN   80000.0  \n",
       "2       748.0            NaN   67000.0  \n",
       "3      1800.0            NaN  145000.0  \n",
       "4         NaN            NaN   65000.0  "
      ]
     },
     "execution_count": 80,
     "metadata": {},
     "output_type": "execute_result"
    }
   ],
   "source": [
    "df['zip_code'] = df['zip_code'].str[3:]\n",
    "df['zip_code'] = df['zip_code'].replace(\"A>\", \"100\")\n",
    "df.head()"
   ]
  },
  {
   "cell_type": "markdown",
   "metadata": {
    "collapsed": false
   },
   "source": [
    "## Prev_Sold_Date\n",
    "Changing the prev_sold_date into a boolean sold feature indicating whether the house was sold or not\n"
   ]
  },
  {
   "cell_type": "code",
   "execution_count": 81,
   "metadata": {
    "ExecuteTime": {
     "end_time": "2024-03-09T10:52:54.677284Z",
     "start_time": "2024-03-09T10:52:54.410308Z"
    },
    "collapsed": false
   },
   "outputs": [
    {
     "data": {
      "text/html": [
       "<div>\n",
       "<style scoped>\n",
       "    .dataframe tbody tr th:only-of-type {\n",
       "        vertical-align: middle;\n",
       "    }\n",
       "\n",
       "    .dataframe tbody tr th {\n",
       "        vertical-align: top;\n",
       "    }\n",
       "\n",
       "    .dataframe thead th {\n",
       "        text-align: right;\n",
       "    }\n",
       "</style>\n",
       "<table border=\"1\" class=\"dataframe\">\n",
       "  <thead>\n",
       "    <tr style=\"text-align: right;\">\n",
       "      <th></th>\n",
       "      <th>status</th>\n",
       "      <th>bed</th>\n",
       "      <th>bath</th>\n",
       "      <th>acre_lot</th>\n",
       "      <th>city</th>\n",
       "      <th>state</th>\n",
       "      <th>zip_code</th>\n",
       "      <th>house_size</th>\n",
       "      <th>price</th>\n",
       "      <th>sold</th>\n",
       "    </tr>\n",
       "  </thead>\n",
       "  <tbody>\n",
       "    <tr>\n",
       "      <th>0</th>\n",
       "      <td>for_sale</td>\n",
       "      <td>3</td>\n",
       "      <td>2</td>\n",
       "      <td>0.12</td>\n",
       "      <td>Adjuntas</td>\n",
       "      <td>Puerto Rico</td>\n",
       "      <td>01</td>\n",
       "      <td>920.0</td>\n",
       "      <td>105000.0</td>\n",
       "      <td>no</td>\n",
       "    </tr>\n",
       "    <tr>\n",
       "      <th>1</th>\n",
       "      <td>for_sale</td>\n",
       "      <td>4</td>\n",
       "      <td>2</td>\n",
       "      <td>0.08</td>\n",
       "      <td>Adjuntas</td>\n",
       "      <td>Puerto Rico</td>\n",
       "      <td>01</td>\n",
       "      <td>1527.0</td>\n",
       "      <td>80000.0</td>\n",
       "      <td>no</td>\n",
       "    </tr>\n",
       "    <tr>\n",
       "      <th>2</th>\n",
       "      <td>for_sale</td>\n",
       "      <td>2</td>\n",
       "      <td>1</td>\n",
       "      <td>0.15</td>\n",
       "      <td>Juana Diaz</td>\n",
       "      <td>Puerto Rico</td>\n",
       "      <td>95</td>\n",
       "      <td>748.0</td>\n",
       "      <td>67000.0</td>\n",
       "      <td>no</td>\n",
       "    </tr>\n",
       "    <tr>\n",
       "      <th>3</th>\n",
       "      <td>for_sale</td>\n",
       "      <td>4</td>\n",
       "      <td>2</td>\n",
       "      <td>0.10</td>\n",
       "      <td>Ponce</td>\n",
       "      <td>Puerto Rico</td>\n",
       "      <td>31</td>\n",
       "      <td>1800.0</td>\n",
       "      <td>145000.0</td>\n",
       "      <td>no</td>\n",
       "    </tr>\n",
       "    <tr>\n",
       "      <th>4</th>\n",
       "      <td>for_sale</td>\n",
       "      <td>6</td>\n",
       "      <td>2</td>\n",
       "      <td>0.05</td>\n",
       "      <td>Mayaguez</td>\n",
       "      <td>Puerto Rico</td>\n",
       "      <td>80</td>\n",
       "      <td>NaN</td>\n",
       "      <td>65000.0</td>\n",
       "      <td>no</td>\n",
       "    </tr>\n",
       "  </tbody>\n",
       "</table>\n",
       "</div>"
      ],
      "text/plain": [
       "     status  bed  bath  acre_lot        city        state zip_code  \\\n",
       "0  for_sale    3     2      0.12    Adjuntas  Puerto Rico       01   \n",
       "1  for_sale    4     2      0.08    Adjuntas  Puerto Rico       01   \n",
       "2  for_sale    2     1      0.15  Juana Diaz  Puerto Rico       95   \n",
       "3  for_sale    4     2      0.10       Ponce  Puerto Rico       31   \n",
       "4  for_sale    6     2      0.05    Mayaguez  Puerto Rico       80   \n",
       "\n",
       "   house_size     price sold  \n",
       "0       920.0  105000.0   no  \n",
       "1      1527.0   80000.0   no  \n",
       "2       748.0   67000.0   no  \n",
       "3      1800.0  145000.0   no  \n",
       "4         NaN   65000.0   no  "
      ]
     },
     "execution_count": 81,
     "metadata": {},
     "output_type": "execute_result"
    }
   ],
   "source": [
    "df['sold'] = df['prev_sold_date'].notnull().map({True: 'yes', False: 'no'})\n",
    "df.drop([\"prev_sold_date\"], axis=1, inplace=True)\n",
    "df.head()"
   ]
  },
  {
   "cell_type": "markdown",
   "metadata": {
    "collapsed": false
   },
   "source": [
    "## Handling the NULLs\n",
    "We will handle the Nulls in the numerical features by setting them to the mean value. However, we will drop the rows with null price as each row needs a label"
   ]
  },
  {
   "cell_type": "code",
   "execution_count": 82,
   "metadata": {
    "ExecuteTime": {
     "end_time": "2024-03-09T10:52:56.120001Z",
     "start_time": "2024-03-09T10:52:54.688440Z"
    },
    "collapsed": false
   },
   "outputs": [
    {
     "name": "stdout",
     "output_type": "stream",
     "text": [
      "status        0.000\n",
      "bed           0.000\n",
      "bath          0.000\n",
      "acre_lot      0.000\n",
      "city          0.012\n",
      "state         0.000\n",
      "zip_code      0.000\n",
      "house_size    0.000\n",
      "price         0.000\n",
      "sold          0.000\n",
      "dtype: float64\n"
     ]
    },
    {
     "data": {
      "text/html": [
       "<div>\n",
       "<style scoped>\n",
       "    .dataframe tbody tr th:only-of-type {\n",
       "        vertical-align: middle;\n",
       "    }\n",
       "\n",
       "    .dataframe tbody tr th {\n",
       "        vertical-align: top;\n",
       "    }\n",
       "\n",
       "    .dataframe thead th {\n",
       "        text-align: right;\n",
       "    }\n",
       "</style>\n",
       "<table border=\"1\" class=\"dataframe\">\n",
       "  <thead>\n",
       "    <tr style=\"text-align: right;\">\n",
       "      <th></th>\n",
       "      <th>status</th>\n",
       "      <th>bed</th>\n",
       "      <th>bath</th>\n",
       "      <th>acre_lot</th>\n",
       "      <th>city</th>\n",
       "      <th>state</th>\n",
       "      <th>zip_code</th>\n",
       "      <th>house_size</th>\n",
       "      <th>price</th>\n",
       "      <th>sold</th>\n",
       "    </tr>\n",
       "  </thead>\n",
       "  <tbody>\n",
       "    <tr>\n",
       "      <th>0</th>\n",
       "      <td>for_sale</td>\n",
       "      <td>3</td>\n",
       "      <td>2</td>\n",
       "      <td>0.12</td>\n",
       "      <td>Adjuntas</td>\n",
       "      <td>Puerto Rico</td>\n",
       "      <td>01</td>\n",
       "      <td>920.00</td>\n",
       "      <td>105000.0</td>\n",
       "      <td>no</td>\n",
       "    </tr>\n",
       "    <tr>\n",
       "      <th>1</th>\n",
       "      <td>for_sale</td>\n",
       "      <td>4</td>\n",
       "      <td>2</td>\n",
       "      <td>0.08</td>\n",
       "      <td>Adjuntas</td>\n",
       "      <td>Puerto Rico</td>\n",
       "      <td>01</td>\n",
       "      <td>1527.00</td>\n",
       "      <td>80000.0</td>\n",
       "      <td>no</td>\n",
       "    </tr>\n",
       "    <tr>\n",
       "      <th>2</th>\n",
       "      <td>for_sale</td>\n",
       "      <td>2</td>\n",
       "      <td>1</td>\n",
       "      <td>0.15</td>\n",
       "      <td>Juana Diaz</td>\n",
       "      <td>Puerto Rico</td>\n",
       "      <td>95</td>\n",
       "      <td>748.00</td>\n",
       "      <td>67000.0</td>\n",
       "      <td>no</td>\n",
       "    </tr>\n",
       "    <tr>\n",
       "      <th>3</th>\n",
       "      <td>for_sale</td>\n",
       "      <td>4</td>\n",
       "      <td>2</td>\n",
       "      <td>0.10</td>\n",
       "      <td>Ponce</td>\n",
       "      <td>Puerto Rico</td>\n",
       "      <td>31</td>\n",
       "      <td>1800.00</td>\n",
       "      <td>145000.0</td>\n",
       "      <td>no</td>\n",
       "    </tr>\n",
       "    <tr>\n",
       "      <th>4</th>\n",
       "      <td>for_sale</td>\n",
       "      <td>6</td>\n",
       "      <td>2</td>\n",
       "      <td>0.05</td>\n",
       "      <td>Mayaguez</td>\n",
       "      <td>Puerto Rico</td>\n",
       "      <td>80</td>\n",
       "      <td>2143.26</td>\n",
       "      <td>65000.0</td>\n",
       "      <td>no</td>\n",
       "    </tr>\n",
       "  </tbody>\n",
       "</table>\n",
       "</div>"
      ],
      "text/plain": [
       "     status  bed  bath  acre_lot        city        state zip_code  \\\n",
       "0  for_sale    3     2      0.12    Adjuntas  Puerto Rico       01   \n",
       "1  for_sale    4     2      0.08    Adjuntas  Puerto Rico       01   \n",
       "2  for_sale    2     1      0.15  Juana Diaz  Puerto Rico       95   \n",
       "3  for_sale    4     2      0.10       Ponce  Puerto Rico       31   \n",
       "4  for_sale    6     2      0.05    Mayaguez  Puerto Rico       80   \n",
       "\n",
       "   house_size     price sold  \n",
       "0      920.00  105000.0   no  \n",
       "1     1527.00   80000.0   no  \n",
       "2      748.00   67000.0   no  \n",
       "3     1800.00  145000.0   no  \n",
       "4     2143.26   65000.0   no  "
      ]
     },
     "execution_count": 82,
     "metadata": {},
     "output_type": "execute_result"
    }
   ],
   "source": [
    "Bed_Mean = int(df['bed'].mean())\n",
    "Bath_Mean = int(df['bath'].mean())\n",
    "Acre_Mean = df['acre_lot'].mean()\n",
    "Size_Mean = df['house_size'].mean()\n",
    "\n",
    "df['bed'] = df['bed'].fillna(Bed_Mean)\n",
    "df['bath'] = df['bath'].fillna(Bath_Mean)\n",
    "df['acre_lot'] = df['acre_lot'].fillna(Acre_Mean)\n",
    "df['house_size'] = df['house_size'].fillna(Size_Mean)\n",
    "\n",
    "df.dropna(subset=[\"price\"], axis = 0, inplace=True)\n",
    "\n",
    "nulls_percent = df.isnull().sum()*100 / df.shape[0]\n",
    "print(nulls_percent.round(3))\n",
    "\n",
    "df['acre_lot'] = df['acre_lot'].round(2)\n",
    "df['house_size'] = df['house_size'].round(2)\n",
    "df.head()"
   ]
  },
  {
   "cell_type": "markdown",
   "metadata": {
    "collapsed": false
   },
   "source": [
    "## Outliers\n",
    "Scatter Plots"
   ]
  },
  {
   "cell_type": "code",
   "execution_count": 94,
   "metadata": {},
   "outputs": [],
   "source": [
    "numeric_df = df.select_dtypes(include=['int64', 'float64'])\n",
    "numeric_df.drop([\"price\"], axis=1, inplace=True)"
   ]
  },
  {
   "cell_type": "code",
   "execution_count": 83,
   "metadata": {
    "ExecuteTime": {
     "end_time": "2024-03-09T10:53:03.876662Z",
     "start_time": "2024-03-09T10:52:56.123774Z"
    },
    "collapsed": false
   },
   "outputs": [
    {
     "data": {
      "image/png": "[encoded data removed]",
      "text/plain": [
       "<Figure size 640x480 with 1 Axes>"
      ]
     },
     "metadata": {},
     "output_type": "display_data"
    },
    {
     "data": {
      "image/png": "[encoded data removed]",
      "text/plain": [
       "<Figure size 640x480 with 1 Axes>"
      ]
     },
     "metadata": {},
     "output_type": "display_data"
    },
    {
     "data": {
      "image/png": "[encoded data removed]",
      "text/plain": [
       "<Figure size 640x480 with 1 Axes>"
      ]
     },
     "metadata": {},
     "output_type": "display_data"
    },
    {
     "data": {
      "image/png": "[encoded data removed]",
      "text/plain": [
       "<Figure size 640x480 with 1 Axes>"
      ]
     },
     "metadata": {},
     "output_type": "display_data"
    }
   ],
   "source": [
    "for i in numeric_df.columns:\n",
    "    plt.scatter(numeric_df[i], df[\"price\"], s = 20)\n",
    "    plt.title(i)\n",
    "    plt.show()"
   ]
  },
  {
   "cell_type": "markdown",
   "metadata": {
    "collapsed": false
   },
   "source": [
    "Box Plots"
   ]
  },
  {
   "cell_type": "code",
   "execution_count": 85,
   "metadata": {
    "ExecuteTime": {
     "end_time": "2024-03-09T10:53:18.581955Z",
     "start_time": "2024-03-09T10:53:03.882139Z"
    },
    "collapsed": false
   },
   "outputs": [
    {
     "data": {
      "image/png": "[encoded data removed]",
      "text/plain": [
       "<Figure size 800x600 with 1 Axes>"
      ]
     },
     "metadata": {},
     "output_type": "display_data"
    },
    {
     "data": {
      "image/png": "[encoded data removed]",
      "text/plain": [
       "<Figure size 800x600 with 1 Axes>"
      ]
     },
     "metadata": {},
     "output_type": "display_data"
    },
    {
     "data": {
      "image/png": "[encoded data removed]",
      "text/plain": [
       "<Figure size 800x600 with 1 Axes>"
      ]
     },
     "metadata": {},
     "output_type": "display_data"
    },
    {
     "data": {
      "image/png": "[encoded data removed]",
      "text/plain": [
       "<Figure size 800x600 with 1 Axes>"
      ]
     },
     "metadata": {},
     "output_type": "display_data"
    }
   ],
   "source": [
    "for column in numeric_df.columns:\n",
    "    plt.figure(figsize=(8,6))\n",
    "    sns.boxplot(data=numeric_df[column], log_scale=True, orient='h')\n",
    "    plt.title(f'Box plot of {column}')\n",
    "    plt.show()"
   ]
  },
  {
   "cell_type": "markdown",
   "metadata": {
    "collapsed": false
   },
   "source": [
    "Interquartile range"
   ]
  },
  {
   "cell_type": "code",
   "execution_count": 149,
   "metadata": {
    "ExecuteTime": {
     "end_time": "2024-03-09T10:53:18.910740Z",
     "start_time": "2024-03-09T10:53:18.588178Z"
    },
    "collapsed": false
   },
   "outputs": [
    {
     "name": "stdout",
     "output_type": "stream",
     "text": [
      "bed              1.0\n",
      "bath             1.0\n",
      "acre_lot       16.58\n",
      "house_size    700.26\n",
      "dtype: Float64\n",
      "\n",
      "- Outlier lower bound:\n",
      "bed              1.5\n",
      "bath             0.5\n",
      "acre_lot      -24.71\n",
      "house_size    392.61\n",
      "dtype: Float64\n",
      "\n",
      "- Outlier upper bound:\n",
      "bed               5.5\n",
      "bath              4.5\n",
      "acre_lot        41.61\n",
      "house_size    3193.65\n",
      "dtype: Float64\n",
      "\n",
      "- Number of outliers:\n",
      "bed : 258215\n",
      "bath : 103210\n",
      "acre_lot : 43214\n",
      "house_size : 183853\n",
      "\n",
      "- Percentage of outliers:\n",
      "bed : 12.901751028657511\n",
      "bath : 5.156903060115569\n",
      "acre_lot : 2.1591939622113574\n",
      "house_size : 9.186242595789437\n"
     ]
    }
   ],
   "source": [
    "Q1 = numeric_df.quantile(0.25)\n",
    "Q3 = numeric_df.quantile(0.75)\n",
    "IQR = Q3 - Q1\n",
    "outlier = (numeric_df < (Q1 - 1.5 * IQR)) | (numeric_df > (Q3 + 1.5 * IQR))\n",
    "print(IQR)\n",
    "print()\n",
    "print(\"- Outlier lower bound:\")\n",
    "print(Q1- 1.5 * IQR)\n",
    "print()\n",
    "print(\"- Outlier upper bound:\")\n",
    "print(Q3 + 1.5 * IQR)\n",
    "\n",
    "print()\n",
    "print(\"- Number of outliers:\")\n",
    "for i in numeric_df.columns:\n",
    "    print(i, \":\", outlier[i].sum())\n",
    "print()\n",
    "print(\"- Percentage of outliers:\")\n",
    "for i in numeric_df.columns:\n",
    "    print(i, \":\", (outlier[i].sum()*100/len(outlier[i])))"
   ]
  },
  {
   "cell_type": "markdown",
   "metadata": {
    "collapsed": false
   },
   "source": [
    "## Distribution"
   ]
  },
  {
   "cell_type": "code",
   "execution_count": 53,
   "metadata": {
    "ExecuteTime": {
     "end_time": "2024-03-09T10:53:18.917013Z",
     "start_time": "2024-03-09T10:53:18.911368Z"
    },
    "collapsed": false
   },
   "outputs": [
    {
     "name": "stdout",
     "output_type": "stream",
     "text": [
      "- Statistical Overview\n",
      "             bed       bath      acre_lot    house_size\n",
      "count  2001395.0  2001395.0  2.001395e+06  2.001395e+06\n",
      "mean    3.320771   2.355072  2.758145e+01  2.143248e+03\n",
      "std     1.726139   1.573349  1.080575e+03  2.489143e+03\n",
      "min          1.0        1.0  0.000000e+00  4.000000e+00\n",
      "25%          3.0        2.0  1.600000e-01  1.443000e+03\n",
      "50%          3.0        2.0  5.400000e-01  2.143260e+03\n",
      "75%          4.0        3.0  1.674000e+01  2.143260e+03\n",
      "max        142.0      198.0  1.000000e+05  1.450112e+06\n",
      "\n",
      "- Mean\n",
      "bed              3.320771\n",
      "bath             2.355072\n",
      "acre_lot        27.581445\n",
      "house_size    2143.248242\n",
      "dtype: Float64\n",
      "\n",
      "- Median\n",
      "bed               3.0\n",
      "bath              2.0\n",
      "acre_lot         0.54\n",
      "house_size    2143.26\n",
      "dtype: Float64\n",
      "\n",
      "- Mode\n",
      "   bed  bath  acre_lot  house_size\n",
      "0    3     2     27.58     2143.26\n",
      "\n",
      "- Standard Deviation\n",
      "bed              1.726139\n",
      "bath             1.573349\n",
      "acre_lot       1080.57518\n",
      "house_size    2489.143188\n",
      "dtype: Float64\n",
      "\n",
      "- Skewness\n",
      "bed            10.800485\n",
      "bath           29.280694\n",
      "acre_lot       76.600359\n",
      "house_size    155.135159\n",
      "dtype: Float64\n"
     ]
    },
    {
     "data": {
      "image/png": "[encoded data removed]",
      "text/plain": [
       "<Figure size 500x500 with 1 Axes>"
      ]
     },
     "metadata": {},
     "output_type": "display_data"
    },
    {
     "data": {
      "image/png": "[encoded data removed]",
      "text/plain": [
       "<Figure size 500x500 with 1 Axes>"
      ]
     },
     "metadata": {},
     "output_type": "display_data"
    },
    {
     "data": {
      "image/png": "[encoded data removed]",
      "text/plain": [
       "<Figure size 500x500 with 1 Axes>"
      ]
     },
     "metadata": {},
     "output_type": "display_data"
    },
    {
     "data": {
      "image/png": "[encoded data removed]",
      "text/plain": [
       "<Figure size 500x500 with 1 Axes>"
      ]
     },
     "metadata": {},
     "output_type": "display_data"
    }
   ],
   "source": [
    "print(\"- Statistical Overview\")\n",
    "print(numeric_df.describe())\n",
    "print()\n",
    "print(\"- Mean\")\n",
    "print(numeric_df.mean())\n",
    "print()\n",
    "print(\"- Median\")\n",
    "print(numeric_df.median())\n",
    "print()\n",
    "print(\"- Mode\")\n",
    "print(numeric_df.mode())\n",
    "print()\n",
    "print(\"- Standard Deviation\")\n",
    "print(numeric_df.std())\n",
    "print()\n",
    "print(\"- Skewness\")\n",
    "print(numeric_df.skew())\n",
    "\n",
    "for i in numeric_df.columns:\n",
    "  sns.displot(data=numeric_df, x=i, bins=100, log_scale=True)"
   ]
  },
  {
   "cell_type": "markdown",
   "metadata": {
    "collapsed": false
   },
   "source": [
    "Histograms"
   ]
  },
  {
   "cell_type": "markdown",
   "metadata": {
    "collapsed": false
   },
   "source": [
    "## Scaling"
   ]
  },
  {
   "cell_type": "code",
   "execution_count": 95,
   "metadata": {
    "ExecuteTime": {
     "end_time": "2024-03-09T10:53:18.927122Z",
     "start_time": "2024-03-09T10:53:18.924521Z"
    },
    "collapsed": false
   },
   "outputs": [
    {
     "data": {
      "text/html": [
       "<div>\n",
       "<style scoped>\n",
       "    .dataframe tbody tr th:only-of-type {\n",
       "        vertical-align: middle;\n",
       "    }\n",
       "\n",
       "    .dataframe tbody tr th {\n",
       "        vertical-align: top;\n",
       "    }\n",
       "\n",
       "    .dataframe thead th {\n",
       "        text-align: right;\n",
       "    }\n",
       "</style>\n",
       "<table border=\"1\" class=\"dataframe\">\n",
       "  <thead>\n",
       "    <tr style=\"text-align: right;\">\n",
       "      <th></th>\n",
       "      <th>bed</th>\n",
       "      <th>bath</th>\n",
       "      <th>acre_lot</th>\n",
       "      <th>house_size</th>\n",
       "    </tr>\n",
       "  </thead>\n",
       "  <tbody>\n",
       "    <tr>\n",
       "      <th>count</th>\n",
       "      <td>2.001395e+06</td>\n",
       "      <td>2.001395e+06</td>\n",
       "      <td>2.001395e+06</td>\n",
       "      <td>2.001395e+06</td>\n",
       "    </tr>\n",
       "    <tr>\n",
       "      <th>mean</th>\n",
       "      <td>-2.835930e-17</td>\n",
       "      <td>-1.348522e-16</td>\n",
       "      <td>1.764468e-18</td>\n",
       "      <td>-1.510981e-17</td>\n",
       "    </tr>\n",
       "    <tr>\n",
       "      <th>std</th>\n",
       "      <td>1.000000e+00</td>\n",
       "      <td>1.000000e+00</td>\n",
       "      <td>1.000000e+00</td>\n",
       "      <td>1.000000e+00</td>\n",
       "    </tr>\n",
       "    <tr>\n",
       "      <th>min</th>\n",
       "      <td>-1.344487e+00</td>\n",
       "      <td>-8.612666e-01</td>\n",
       "      <td>-2.552479e-02</td>\n",
       "      <td>-8.594318e-01</td>\n",
       "    </tr>\n",
       "    <tr>\n",
       "      <th>25%</th>\n",
       "      <td>-1.858314e-01</td>\n",
       "      <td>-2.256794e-01</td>\n",
       "      <td>-2.537672e-02</td>\n",
       "      <td>-2.813211e-01</td>\n",
       "    </tr>\n",
       "    <tr>\n",
       "      <th>50%</th>\n",
       "      <td>-1.858314e-01</td>\n",
       "      <td>-2.256794e-01</td>\n",
       "      <td>-2.502505e-02</td>\n",
       "      <td>4.723759e-06</td>\n",
       "    </tr>\n",
       "    <tr>\n",
       "      <th>75%</th>\n",
       "      <td>3.934964e-01</td>\n",
       "      <td>4.099077e-01</td>\n",
       "      <td>-1.003303e-02</td>\n",
       "      <td>4.723759e-06</td>\n",
       "    </tr>\n",
       "    <tr>\n",
       "      <th>max</th>\n",
       "      <td>8.034074e+01</td>\n",
       "      <td>1.243494e+02</td>\n",
       "      <td>9.251780e+01</td>\n",
       "      <td>5.817139e+02</td>\n",
       "    </tr>\n",
       "  </tbody>\n",
       "</table>\n",
       "</div>"
      ],
      "text/plain": [
       "                bed          bath      acre_lot    house_size\n",
       "count  2.001395e+06  2.001395e+06  2.001395e+06  2.001395e+06\n",
       "mean  -2.835930e-17 -1.348522e-16  1.764468e-18 -1.510981e-17\n",
       "std    1.000000e+00  1.000000e+00  1.000000e+00  1.000000e+00\n",
       "min   -1.344487e+00 -8.612666e-01 -2.552479e-02 -8.594318e-01\n",
       "25%   -1.858314e-01 -2.256794e-01 -2.537672e-02 -2.813211e-01\n",
       "50%   -1.858314e-01 -2.256794e-01 -2.502505e-02  4.723759e-06\n",
       "75%    3.934964e-01  4.099077e-01 -1.003303e-02  4.723759e-06\n",
       "max    8.034074e+01  1.243494e+02  9.251780e+01  5.817139e+02"
      ]
     },
     "execution_count": 95,
     "metadata": {},
     "output_type": "execute_result"
    }
   ],
   "source": [
    "scaler = StandardScaler()\n",
    "numeric_df = pd.DataFrame(scaler.fit_transform(numeric_df), columns=numeric_df.columns)\n",
    "\n",
    "numeric_df.head()\n",
    "numeric_df.describe()"
   ]
  },
  {
   "cell_type": "markdown",
   "metadata": {
    "collapsed": false
   },
   "source": [
    "## One-Hot Encoding"
   ]
  },
  {
   "cell_type": "code",
   "execution_count": 96,
   "metadata": {
    "ExecuteTime": {
     "end_time": "2024-03-09T10:53:19.409138Z",
     "start_time": "2024-03-09T10:53:19.001075Z"
    },
    "collapsed": false
   },
   "outputs": [
    {
     "name": "stdout",
     "output_type": "stream",
     "text": [
      "Num of status:  2\n",
      "Num of cities:  5000\n",
      "Num of states:  24\n",
      "Num of zipcodes:  101\n",
      "Num of sold:  2\n"
     ]
    }
   ],
   "source": [
    "print(\"Num of status: \",len(df[\"status\"].unique()))\n",
    "print(\"Num of cities: \",len(df[\"city\"].unique()))\n",
    "print(\"Num of states: \",len(df[\"state\"].unique()))\n",
    "print(\"Num of zipcodes: \",len(df[\"zip_code\"].unique()))\n",
    "print(\"Num of sold: \",len(df[\"sold\"].unique()))"
   ]
  },
  {
   "cell_type": "code",
   "execution_count": null,
   "metadata": {
    "ExecuteTime": {
     "end_time": "2024-03-09T10:53:49.878314Z",
     "start_time": "2024-03-09T10:53:19.410453Z"
    },
    "collapsed": false
   },
   "outputs": [],
   "source": [
    "OHE = OneHotEncoder(handle_unknown='ignore', sparse_output=False).set_output(transform='pandas')\n",
    "cols = [\"city\", \"state\", \"zip_code\", \"status\", \"sold\"]\n",
    "NewDF = OHE.fit_transform(df[cols])\n",
    "print(NewDF)"
   ]
  },
  {
   "cell_type": "markdown",
   "metadata": {
    "collapsed": false
   },
   "source": [
    "## Finalizing the Dataframe"
   ]
  },
  {
   "cell_type": "code",
   "execution_count": null,
   "metadata": {
    "ExecuteTime": {
     "start_time": "2024-03-09T10:54:47.135087Z"
    },
    "collapsed": false
   },
   "outputs": [],
   "source": [
    "NewDF['bed'] = df['bed']\n",
    "NewDF['bath'] = df['bath']\n",
    "NewDF['acre_lot'] = df['acre_lot']\n",
    "NewDF['house_size'] = df['house_size']\n",
    "NewDF['price'] = df['price']\n",
    "\n",
    "\n",
    "\n",
    "NewDF.info()"
   ]
  }
 ],
 "metadata": {
  "kernelspec": {
   "display_name": "Python 3",
   "language": "python",
   "name": "python3"
  },
  "language_info": {
   "codemirror_mode": {
    "name": "ipython",
    "version": 3
   },
   "file_extension": ".py",
   "mimetype": "text/x-python",
   "name": "python",
   "nbconvert_exporter": "python",
   "pygments_lexer": "ipython3",
   "version": "3.11.4"
  }
 },
 "nbformat": 4,
 "nbformat_minor": 2
}
