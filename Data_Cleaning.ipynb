{
 "cells": [
  {
   "cell_type": "code",
   "execution_count": 236,
   "metadata": {},
   "outputs": [],
   "source": [
    "import numpy as np\n",
    "import pandas as pd\n",
    "import matplotlib.pyplot as plt\n",
    "import seaborn as sns"
   ]
  },
  {
   "cell_type": "code",
   "execution_count": 237,
   "metadata": {},
   "outputs": [
    {
     "name": "stdout",
     "output_type": "stream",
     "text": [
      "<class 'pandas.core.frame.DataFrame'>\n",
      "RangeIndex: 1401066 entries, 0 to 1401065\n",
      "Data columns (total 10 columns):\n",
      " #   Column          Non-Null Count    Dtype  \n",
      "---  ------          --------------    -----  \n",
      " 0   status          1401066 non-null  object \n",
      " 1   bed             1184538 non-null  float64\n",
      " 2   bath            1206853 non-null  float64\n",
      " 3   acre_lot        1043599 non-null  float64\n",
      " 4   city            1400875 non-null  object \n",
      " 5   state           1401066 non-null  object \n",
      " 6   zip_code        1400587 non-null  float64\n",
      " 7   house_size      950954 non-null   float64\n",
      " 8   prev_sold_date  714773 non-null   object \n",
      " 9   price           1400958 non-null  float64\n",
      "dtypes: float64(6), object(4)\n",
      "memory usage: 106.9+ MB\n"
     ]
    }
   ],
   "source": [
    "df = pd.read_csv('USA_dataset.csv')\n",
    "df.info()"
   ]
  },
  {
   "cell_type": "markdown",
   "metadata": {},
   "source": [
    "## Null Percentage"
   ]
  },
  {
   "cell_type": "code",
   "execution_count": 238,
   "metadata": {},
   "outputs": [
    {
     "name": "stdout",
     "output_type": "stream",
     "text": [
      "status             0.000000\n",
      "bed               15.454518\n",
      "bath              13.861802\n",
      "acre_lot          25.513930\n",
      "city               0.013632\n",
      "state              0.000000\n",
      "zip_code           0.034188\n",
      "house_size        32.126395\n",
      "prev_sold_date    48.983631\n",
      "price              0.007708\n",
      "dtype: float64\n"
     ]
    }
   ],
   "source": [
    "nulls_percent = df.isnull().sum()*100 / df.shape[0]\n",
    "print(nulls_percent)"
   ]
  },
  {
   "cell_type": "markdown",
   "metadata": {},
   "source": [
    " No feature has a null percentage >=70% which means that the missing values can be dealt with rather than eliminating the coloumn from the dataset "
   ]
  },
  {
   "cell_type": "markdown",
   "metadata": {},
   "source": [
    "## Unique Values"
   ]
  },
  {
   "cell_type": "code",
   "execution_count": 239,
   "metadata": {},
   "outputs": [
    {
     "name": "stdout",
     "output_type": "stream",
     "text": [
      "Num of status:  2\n",
      "Num of cities:  3513\n",
      "Num of states:  19\n",
      "Num of zipcodes:  4221\n"
     ]
    }
   ],
   "source": [
    "print(\"Num of status: \",len(df[\"status\"].unique()))\n",
    "print(\"Num of cities: \",len(df[\"city\"].unique()))\n",
    "print(\"Num of states: \",len(df[\"state\"].unique()))\n",
    "print(\"Num of zipcodes: \",len(df[\"zip_code\"].unique()))"
   ]
  },
  {
   "cell_type": "markdown",
   "metadata": {},
   "source": [
    "These statistics will be useful for encoding the categorical data (OHE)"
   ]
  },
  {
   "cell_type": "markdown",
   "metadata": {},
   "source": [
    "## Correlation"
   ]
  },
  {
   "cell_type": "code",
   "execution_count": 240,
   "metadata": {},
   "outputs": [
    {
     "name": "stdout",
     "output_type": "stream",
     "text": [
      "Correlation between bed and the label \"price\":  16.67\n",
      "Correlation between bath and the label \"price\":  27.9\n",
      "Correlation between acre_lot and the label \"price\":  -0.26\n",
      "Correlation between zip_code and the label \"price\":  0.48\n",
      "Correlation between house_size and the label \"price\":  13.48\n"
     ]
    }
   ],
   "source": [
    "for i in df.columns[:9] :\n",
    "    if df[i].dtype != \"object\":\n",
    "        print(\"Correlation between\",i, \"and the label \\\"price\\\": \", round(df[i].corr(df[\"price\"])*100,2))"
   ]
  },
  {
   "cell_type": "markdown",
   "metadata": {},
   "source": [
    "No high correlations exist between the features and the label, so none will be redundant features. It is important to note that there exists a high correlation between the city,state and the zipcode as the city and the state are could be determined through the zip code. This will be dealt with later on."
   ]
  },
  {
   "cell_type": "markdown",
   "metadata": {},
   "source": [
    "## Removing Redundancies and Outliers"
   ]
  },
  {
   "cell_type": "markdown",
   "metadata": {},
   "source": [
    "### Redundancies"
   ]
  },
  {
   "cell_type": "code",
   "execution_count": 241,
   "metadata": {},
   "outputs": [
    {
     "name": "stdout",
     "output_type": "stream",
     "text": [
      "status\n",
      "for_sale          1399134\n",
      "ready_to_build       1932\n",
      "Name: count, dtype: int64\n",
      "\n",
      "Averge price by status:\n",
      "status\n",
      "for_sale          818471.244103\n",
      "ready_to_build    917575.797958\n",
      "Name: price, dtype: float64\n"
     ]
    }
   ],
   "source": [
    "print(df[\"status\"].value_counts())\n",
    "print()\n",
    "avg_price_status = df.groupby(\"status\")[\"price\"].mean()\n",
    "print(\"Averge price by status:\")\n",
    "print(avg_price_status)"
   ]
  },
  {
   "cell_type": "code",
   "execution_count": 242,
   "metadata": {},
   "outputs": [
    {
     "data": {
      "image/png": "[encoded data removed]",
      "text/plain": [
       "<Figure size 600x600 with 1 Axes>"
      ]
     },
     "metadata": {},
     "output_type": "display_data"
    }
   ],
   "source": [
    "plt.figure(figsize=(6, 6))\n",
    "sns.countplot(data=df, x= df[\"status\"])\n",
    "plt.title('Distribution of ' + df[\"status\"].name)\n",
    "plt.xlabel(i)\n",
    "plt.ylabel('Fequency')\n",
    "plt.xticks(rotation=45)\n",
    "plt.show()\n"
   ]
  },
  {
   "cell_type": "markdown",
   "metadata": {},
   "source": [
    "As can be seen, the number of \"ready_to_build\" data points is much less than the number of \"for_sale\" to build. It can also be seen that the status does not have an effect on the price though the avergae price by status calculated. Thus, we can remove the \"ready_to_build\" data points and after doing so the whole coloumn would be redundant as it will only contain one value which is \"for_sale\"."
   ]
  },
  {
   "cell_type": "code",
   "execution_count": 243,
   "metadata": {},
   "outputs": [
    {
     "name": "stdout",
     "output_type": "stream",
     "text": [
      "Original length:  1401066\n",
      "New length:  1399134\n",
      "1932 rows were removed\n"
     ]
    }
   ],
   "source": [
    "original_length = len(df)\n",
    "print(\"Original length: \", original_length)\n",
    "try:\n",
    "    df.drop(df[df[\"status\"] == \"ready_to_build\"].index, axis = 0, inplace=True)\n",
    "except Exception as e:\n",
    "    print(e)\n",
    "new_length = len(df)\n",
    "print(\"New length: \", new_length)\n",
    "print(original_length - new_length, \"rows were removed\")"
   ]
  },
  {
   "cell_type": "code",
   "execution_count": 244,
   "metadata": {},
   "outputs": [
    {
     "name": "stdout",
     "output_type": "stream",
     "text": [
      "9\n"
     ]
    }
   ],
   "source": [
    "df.drop([\"status\"], axis=1, inplace=True)\n",
    "print(len(df.columns))\n"
   ]
  },
  {
   "cell_type": "code",
   "execution_count": 245,
   "metadata": {},
   "outputs": [
    {
     "data": {
      "text/html": [
       "<div>\n",
       "<style scoped>\n",
       "    .dataframe tbody tr th:only-of-type {\n",
       "        vertical-align: middle;\n",
       "    }\n",
       "\n",
       "    .dataframe tbody tr th {\n",
       "        vertical-align: top;\n",
       "    }\n",
       "\n",
       "    .dataframe thead th {\n",
       "        text-align: right;\n",
       "    }\n",
       "</style>\n",
       "<table border=\"1\" class=\"dataframe\">\n",
       "  <thead>\n",
       "    <tr style=\"text-align: right;\">\n",
       "      <th></th>\n",
       "      <th>bed</th>\n",
       "      <th>bath</th>\n",
       "      <th>acre_lot</th>\n",
       "      <th>city</th>\n",
       "      <th>state</th>\n",
       "      <th>zip_code</th>\n",
       "      <th>house_size</th>\n",
       "      <th>prev_sold_date</th>\n",
       "      <th>price</th>\n",
       "    </tr>\n",
       "  </thead>\n",
       "  <tbody>\n",
       "    <tr>\n",
       "      <th>0</th>\n",
       "      <td>3.0</td>\n",
       "      <td>2.0</td>\n",
       "      <td>0.12</td>\n",
       "      <td>Adjuntas</td>\n",
       "      <td>Puerto Rico</td>\n",
       "      <td>601.0</td>\n",
       "      <td>920.0</td>\n",
       "      <td>NaN</td>\n",
       "      <td>105000.0</td>\n",
       "    </tr>\n",
       "    <tr>\n",
       "      <th>1</th>\n",
       "      <td>4.0</td>\n",
       "      <td>2.0</td>\n",
       "      <td>0.08</td>\n",
       "      <td>Adjuntas</td>\n",
       "      <td>Puerto Rico</td>\n",
       "      <td>601.0</td>\n",
       "      <td>1527.0</td>\n",
       "      <td>NaN</td>\n",
       "      <td>80000.0</td>\n",
       "    </tr>\n",
       "    <tr>\n",
       "      <th>2</th>\n",
       "      <td>2.0</td>\n",
       "      <td>1.0</td>\n",
       "      <td>0.15</td>\n",
       "      <td>Juana Diaz</td>\n",
       "      <td>Puerto Rico</td>\n",
       "      <td>795.0</td>\n",
       "      <td>748.0</td>\n",
       "      <td>NaN</td>\n",
       "      <td>67000.0</td>\n",
       "    </tr>\n",
       "    <tr>\n",
       "      <th>3</th>\n",
       "      <td>4.0</td>\n",
       "      <td>2.0</td>\n",
       "      <td>0.10</td>\n",
       "      <td>Ponce</td>\n",
       "      <td>Puerto Rico</td>\n",
       "      <td>731.0</td>\n",
       "      <td>1800.0</td>\n",
       "      <td>NaN</td>\n",
       "      <td>145000.0</td>\n",
       "    </tr>\n",
       "    <tr>\n",
       "      <th>4</th>\n",
       "      <td>6.0</td>\n",
       "      <td>2.0</td>\n",
       "      <td>0.05</td>\n",
       "      <td>Mayaguez</td>\n",
       "      <td>Puerto Rico</td>\n",
       "      <td>680.0</td>\n",
       "      <td>NaN</td>\n",
       "      <td>NaN</td>\n",
       "      <td>65000.0</td>\n",
       "    </tr>\n",
       "  </tbody>\n",
       "</table>\n",
       "</div>"
      ],
      "text/plain": [
       "   bed  bath  acre_lot        city        state  zip_code  house_size  \\\n",
       "0  3.0   2.0      0.12    Adjuntas  Puerto Rico     601.0       920.0   \n",
       "1  4.0   2.0      0.08    Adjuntas  Puerto Rico     601.0      1527.0   \n",
       "2  2.0   1.0      0.15  Juana Diaz  Puerto Rico     795.0       748.0   \n",
       "3  4.0   2.0      0.10       Ponce  Puerto Rico     731.0      1800.0   \n",
       "4  6.0   2.0      0.05    Mayaguez  Puerto Rico     680.0         NaN   \n",
       "\n",
       "  prev_sold_date     price  \n",
       "0            NaN  105000.0  \n",
       "1            NaN   80000.0  \n",
       "2            NaN   67000.0  \n",
       "3            NaN  145000.0  \n",
       "4            NaN   65000.0  "
      ]
     },
     "execution_count": 245,
     "metadata": {},
     "output_type": "execute_result"
    }
   ],
   "source": [
    "df.head()"
   ]
  },
  {
   "cell_type": "markdown",
   "metadata": {},
   "source": [
    "### Outliers"
   ]
  },
  {
   "cell_type": "code",
   "execution_count": 246,
   "metadata": {},
   "outputs": [
    {
     "name": "stdout",
     "output_type": "stream",
     "text": [
      "<class 'pandas.core.frame.DataFrame'>\n",
      "Index: 1399134 entries, 0 to 1401065\n",
      "Data columns (total 9 columns):\n",
      " #   Column          Non-Null Count    Dtype  \n",
      "---  ------          --------------    -----  \n",
      " 0   bed             1182606 non-null  Int64  \n",
      " 1   bath            1206853 non-null  Int64  \n",
      " 2   acre_lot        1043599 non-null  Float64\n",
      " 3   city            1398943 non-null  object \n",
      " 4   state           1399134 non-null  object \n",
      " 5   zip_code        1399134 non-null  object \n",
      " 6   house_size      949022 non-null   float64\n",
      " 7   prev_sold_date  714773 non-null   object \n",
      " 8   price           1399097 non-null  float64\n",
      "dtypes: Float64(1), Int64(2), float64(2), object(4)\n",
      "memory usage: 110.7+ MB\n"
     ]
    },
    {
     "data": {
      "text/html": [
       "<div>\n",
       "<style scoped>\n",
       "    .dataframe tbody tr th:only-of-type {\n",
       "        vertical-align: middle;\n",
       "    }\n",
       "\n",
       "    .dataframe tbody tr th {\n",
       "        vertical-align: top;\n",
       "    }\n",
       "\n",
       "    .dataframe thead th {\n",
       "        text-align: right;\n",
       "    }\n",
       "</style>\n",
       "<table border=\"1\" class=\"dataframe\">\n",
       "  <thead>\n",
       "    <tr style=\"text-align: right;\">\n",
       "      <th></th>\n",
       "      <th>bed</th>\n",
       "      <th>bath</th>\n",
       "      <th>acre_lot</th>\n",
       "      <th>city</th>\n",
       "      <th>state</th>\n",
       "      <th>zip_code</th>\n",
       "      <th>house_size</th>\n",
       "      <th>prev_sold_date</th>\n",
       "      <th>price</th>\n",
       "    </tr>\n",
       "  </thead>\n",
       "  <tbody>\n",
       "    <tr>\n",
       "      <th>0</th>\n",
       "      <td>3</td>\n",
       "      <td>2</td>\n",
       "      <td>0.12</td>\n",
       "      <td>Adjuntas</td>\n",
       "      <td>Puerto Rico</td>\n",
       "      <td>00601</td>\n",
       "      <td>920.0</td>\n",
       "      <td>NaN</td>\n",
       "      <td>105000.0</td>\n",
       "    </tr>\n",
       "    <tr>\n",
       "      <th>1</th>\n",
       "      <td>4</td>\n",
       "      <td>2</td>\n",
       "      <td>0.08</td>\n",
       "      <td>Adjuntas</td>\n",
       "      <td>Puerto Rico</td>\n",
       "      <td>00601</td>\n",
       "      <td>1527.0</td>\n",
       "      <td>NaN</td>\n",
       "      <td>80000.0</td>\n",
       "    </tr>\n",
       "    <tr>\n",
       "      <th>2</th>\n",
       "      <td>2</td>\n",
       "      <td>1</td>\n",
       "      <td>0.15</td>\n",
       "      <td>Juana Diaz</td>\n",
       "      <td>Puerto Rico</td>\n",
       "      <td>00795</td>\n",
       "      <td>748.0</td>\n",
       "      <td>NaN</td>\n",
       "      <td>67000.0</td>\n",
       "    </tr>\n",
       "    <tr>\n",
       "      <th>3</th>\n",
       "      <td>4</td>\n",
       "      <td>2</td>\n",
       "      <td>0.1</td>\n",
       "      <td>Ponce</td>\n",
       "      <td>Puerto Rico</td>\n",
       "      <td>00731</td>\n",
       "      <td>1800.0</td>\n",
       "      <td>NaN</td>\n",
       "      <td>145000.0</td>\n",
       "    </tr>\n",
       "    <tr>\n",
       "      <th>4</th>\n",
       "      <td>6</td>\n",
       "      <td>2</td>\n",
       "      <td>0.05</td>\n",
       "      <td>Mayaguez</td>\n",
       "      <td>Puerto Rico</td>\n",
       "      <td>00680</td>\n",
       "      <td>NaN</td>\n",
       "      <td>NaN</td>\n",
       "      <td>65000.0</td>\n",
       "    </tr>\n",
       "  </tbody>\n",
       "</table>\n",
       "</div>"
      ],
      "text/plain": [
       "   bed  bath  acre_lot        city        state zip_code  house_size  \\\n",
       "0    3     2      0.12    Adjuntas  Puerto Rico    00601       920.0   \n",
       "1    4     2      0.08    Adjuntas  Puerto Rico    00601      1527.0   \n",
       "2    2     1      0.15  Juana Diaz  Puerto Rico    00795       748.0   \n",
       "3    4     2       0.1       Ponce  Puerto Rico    00731      1800.0   \n",
       "4    6     2      0.05    Mayaguez  Puerto Rico    00680         NaN   \n",
       "\n",
       "  prev_sold_date     price  \n",
       "0            NaN  105000.0  \n",
       "1            NaN   80000.0  \n",
       "2            NaN   67000.0  \n",
       "3            NaN  145000.0  \n",
       "4            NaN   65000.0  "
      ]
     },
     "execution_count": 246,
     "metadata": {},
     "output_type": "execute_result"
    }
   ],
   "source": [
    "# fixing data types\n",
    "df[\"bed\"] = df[\"bed\"].convert_dtypes(int)\n",
    "df[\"bath\"] = df[\"bath\"].convert_dtypes(int)\n",
    "df[\"acre_lot\"] = df[\"acre_lot\"].convert_dtypes(float)\n",
    "df[\"zip_code\"] = df[\"zip_code\"].convert_dtypes(int)\n",
    "\n",
    "df['zip_code'] = df['zip_code'].astype(str).fillna('')\n",
    "df['zip_code'] = df['zip_code'].apply(lambda x: x.zfill(5))  \n",
    "\n",
    "# check for null zipcodes -> 0<NA> not if not ot '' \n",
    "\n",
    "df.info()\n",
    "df.head()\n",
    "\n",
    "# draw scatter graph between every feature and the label \"price\"\n",
    "\n",
    "# find outliers\n",
    "\n",
    "\n",
    "# Iterate over the columns of the DataFrame\n",
    "\n"
   ]
  },
  {
   "cell_type": "code",
   "execution_count": 247,
   "metadata": {},
   "outputs": [
    {
     "name": "stdout",
     "output_type": "stream",
     "text": [
      "bed               15.475859\n",
      "bath              13.742858\n",
      "acre_lot          25.411076\n",
      "city               0.013651\n",
      "state              0.000000\n",
      "zip_code           0.000000\n",
      "house_size        32.170757\n",
      "prev_sold_date    48.913185\n",
      "price              0.002644\n",
      "dtype: float64\n"
     ]
    }
   ],
   "source": [
    "nulls_percent = df.isnull().sum()*100 / df.shape[0]\n",
    "print(nulls_percent)"
   ]
  },
  {
   "cell_type": "code",
   "execution_count": 252,
   "metadata": {},
   "outputs": [
    {
     "name": "stdout",
     "output_type": "stream",
     "text": [
      "          bed  bath  acre_lot         city        state zip_code  house_size  \\\n",
      "679         3     1      0.05        Ponce  Puerto Rico    0<NA>       790.0   \n",
      "917         3     1      0.05        Ponce  Puerto Rico    0<NA>       790.0   \n",
      "1022        3     1      0.05        Ponce  Puerto Rico    0<NA>       790.0   \n",
      "1195     <NA>  <NA>       1.4       Rincon  Puerto Rico    0<NA>         NaN   \n",
      "1451        3     1      0.05        Ponce  Puerto Rico    0<NA>       790.0   \n",
      "...       ...   ...       ...          ...          ...      ...         ...   \n",
      "1387546  <NA>  <NA>      9.46  Anderson Rd     New York    0<NA>         NaN   \n",
      "1388009  <NA>  <NA>      30.0    Spisak Rd     New York    0<NA>         NaN   \n",
      "1389490  <NA>  <NA>      30.0    Spisak Rd     New York    0<NA>         NaN   \n",
      "1392619     5     2     200.0          NaN     New York    0<NA>      3136.0   \n",
      "1392814  <NA>  <NA>     53.51        Andes     New York    0<NA>         NaN   \n",
      "\n",
      "        prev_sold_date     price  \n",
      "679                NaN   58000.0  \n",
      "917                NaN   58000.0  \n",
      "1022               NaN   58000.0  \n",
      "1195               NaN  650000.0  \n",
      "1451               NaN   58000.0  \n",
      "...                ...       ...  \n",
      "1387546            NaN  119000.0  \n",
      "1388009            NaN   65000.0  \n",
      "1389490            NaN   65000.0  \n",
      "1392619            NaN  699000.0  \n",
      "1392814     2021-12-31  225000.0  \n",
      "\n",
      "[479 rows x 9 columns]\n"
     ]
    }
   ],
   "source": [
    "print(df[df[\"zip_code\"]=='0<NA>'])"
   ]
  },
  {
   "cell_type": "code",
   "execution_count": 249,
   "metadata": {},
   "outputs": [],
   "source": [
    "df.to_csv('Cleaned_Dataset.csv', index=False)"
   ]
  },
  {
   "cell_type": "code",
   "execution_count": 250,
   "metadata": {},
   "outputs": [
    {
     "data": {
      "text/plain": [
       "1399134"
      ]
     },
     "execution_count": 250,
     "metadata": {},
     "output_type": "execute_result"
    }
   ],
   "source": [
    "len(df)"
   ]
  }
 ],
 "metadata": {
  "kernelspec": {
   "display_name": "Python 3",
   "language": "python",
   "name": "python3"
  },
  "language_info": {
   "codemirror_mode": {
    "name": "ipython",
    "version": 3
   },
   "file_extension": ".py",
   "mimetype": "text/x-python",
   "name": "python",
   "nbconvert_exporter": "python",
   "pygments_lexer": "ipython3",
   "version": "3.11.4"
  }
 },
 "nbformat": 4,
 "nbformat_minor": 2
}
