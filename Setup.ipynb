{
 "cells": [
  {
   "cell_type": "code",
   "execution_count": 1,
   "id": "initial_id",
   "metadata": {
    "collapsed": true,
    "ExecuteTime": {
     "end_time": "2024-05-03T00:40:17.271745Z",
     "start_time": "2024-05-03T00:39:58.362273Z"
    }
   },
   "outputs": [],
   "source": [
    "import numpy as np\n",
    "import pandas as pd\n",
    "from sqlalchemy import create_engine\n",
    "from sklearn.model_selection import train_test_split"
   ]
  },
  {
   "cell_type": "markdown",
   "source": [
    "## Dummy Cleaning"
   ],
   "metadata": {
    "collapsed": false
   },
   "id": "d41a195386e7f13"
  },
  {
   "cell_type": "code",
   "execution_count": 3,
   "outputs": [],
   "source": [
    "df = pd.read_csv('Dummy.csv')"
   ],
   "metadata": {
    "collapsed": false,
    "ExecuteTime": {
     "end_time": "2024-04-26T22:44:40.576884Z",
     "start_time": "2024-04-26T22:44:40.567516Z"
    }
   },
   "id": "f9afa9a949cf1585"
  },
  {
   "cell_type": "code",
   "execution_count": 7,
   "outputs": [],
   "source": [
    "Train = pd.read_csv(\"Train_Set.csv\")\n",
    "Train.drop(['Unnamed: 0'], axis=1, inplace=True)\n",
    "Train.drop(['zip_code_A>'], axis=1, inplace=True)\n",
    "\n",
    "int64_cols = Train.shape[1] - 6\n",
    "cols_convert = Train.columns[:int64_cols]\n",
    "dtype_dict = {col: np.int8 for col in cols_convert}\n",
    "Train[cols_convert] = Train[cols_convert].astype(dtype_dict)"
   ],
   "metadata": {
    "collapsed": false,
    "ExecuteTime": {
     "end_time": "2024-04-26T22:48:04.816192Z",
     "start_time": "2024-04-26T22:47:08.646641Z"
    }
   },
   "id": "830f754e42ae4463"
  },
  {
   "cell_type": "code",
   "execution_count": 18,
   "outputs": [],
   "source": [
    "copy = Train\n",
    "copy = copy.iloc[[]]"
   ],
   "metadata": {
    "collapsed": false,
    "ExecuteTime": {
     "end_time": "2024-04-26T22:52:31.499263Z",
     "start_time": "2024-04-26T22:52:31.488841Z"
    }
   },
   "id": "4285add44d218d5e"
  },
  {
   "cell_type": "code",
   "execution_count": null,
   "outputs": [],
   "source": [
    "copy.drop(['binned_label'], axis=1, inplace=True)"
   ],
   "metadata": {
    "collapsed": false
   },
   "id": "c838cedbe007ec8b"
  },
  {
   "cell_type": "code",
   "execution_count": null,
   "outputs": [],
   "source": [
    "copy['bed'] = df['bed']\n",
    "copy['bath'] = df['bath']\n",
    "copy['acre_lot'] = df['acre_lot']\n",
    "copy['house_size'] = df['house_size']\n",
    "copy['label'] = df['price'].round(0)"
   ],
   "metadata": {
    "collapsed": false
   },
   "id": "5897fdcb4d8fe58a"
  },
  {
   "cell_type": "code",
   "execution_count": null,
   "outputs": [],
   "source": [
    "copy = copy.reset_index(drop=True)"
   ],
   "metadata": {
    "collapsed": false
   },
   "id": "6403541dc3831e49"
  },
  {
   "cell_type": "code",
   "execution_count": null,
   "outputs": [],
   "source": [
    "New_DF = copy.iloc[:12]"
   ],
   "metadata": {
    "collapsed": false
   },
   "id": "86c069dfa98b233c"
  },
  {
   "cell_type": "code",
   "execution_count": 26,
   "outputs": [],
   "source": [
    "New_DF.to_csv(\"Final_Dummy.csv\")"
   ],
   "metadata": {
    "collapsed": false,
    "ExecuteTime": {
     "end_time": "2024-04-26T23:00:11.176223Z",
     "start_time": "2024-04-26T23:00:11.145251Z"
    }
   },
   "id": "c52bc501c10f0406"
  },
  {
   "cell_type": "markdown",
   "source": [
    "## Making the Train Set"
   ],
   "metadata": {
    "collapsed": false
   },
   "id": "9e874d37e3ace74d"
  },
  {
   "cell_type": "code",
   "execution_count": 9,
   "outputs": [],
   "source": [
    "df = pd.read_csv('Old_Dataset.csv')"
   ],
   "metadata": {
    "collapsed": false,
    "ExecuteTime": {
     "end_time": "2024-05-03T00:51:56.209459Z",
     "start_time": "2024-05-03T00:51:53.481894Z"
    }
   },
   "id": "f70e976d9c8630c"
  },
  {
   "cell_type": "code",
   "execution_count": 10,
   "outputs": [],
   "source": [
    "city_counts = df['city'].value_counts()\n",
    "df = df[df['city'].isin(city_counts[city_counts >= 1000].index)]"
   ],
   "metadata": {
    "collapsed": false,
    "ExecuteTime": {
     "end_time": "2024-05-03T00:51:57.852831Z",
     "start_time": "2024-05-03T00:51:57.180547Z"
    }
   },
   "id": "956ba487742b4677"
  },
  {
   "cell_type": "code",
   "execution_count": 11,
   "outputs": [],
   "source": [
    "df[\"bed\"] = df[\"bed\"].convert_dtypes(int)\n",
    "df[\"bath\"] = df[\"bath\"].convert_dtypes(int)\n",
    "df[\"zip_code\"] = df[\"zip_code\"].convert_dtypes(int)\n",
    "\n",
    "df['zip_code'] = df['zip_code'].astype(str).fillna('')\n",
    "df['zip_code'] = df['zip_code'].apply(lambda x: x.zfill(5)) "
   ],
   "metadata": {
    "collapsed": false,
    "ExecuteTime": {
     "end_time": "2024-05-03T00:52:00.345529Z",
     "start_time": "2024-05-03T00:51:58.553457Z"
    }
   },
   "id": "bf8b60e6b69e3571"
  },
  {
   "cell_type": "code",
   "execution_count": 12,
   "outputs": [],
   "source": [
    "df['zip_code'] = df['zip_code'].replace(\"<NA>\", \"100\")\n",
    "df['zip_code'] = df['zip_code'].str[3:]\n",
    "\n",
    "df['sold'] = df['prev_sold_date'].notnull().map({True: 'yes', False: 'no'})\n",
    "df.drop([\"prev_sold_date\"], axis=1, inplace=True)"
   ],
   "metadata": {
    "collapsed": false,
    "ExecuteTime": {
     "end_time": "2024-05-03T00:52:01.928754Z",
     "start_time": "2024-05-03T00:52:01.191408Z"
    }
   },
   "id": "f36e59e377832587"
  },
  {
   "cell_type": "code",
   "execution_count": 13,
   "outputs": [
    {
     "name": "stderr",
     "output_type": "stream",
     "text": [
      "/var/folders/j9/nrpllg2s5fx8xthz6hx8jr6h0000gn/T/ipykernel_7521/1582166319.py:14: FutureWarning: The default of observed=False is deprecated and will be changed to True in a future version of pandas. Pass observed=False to retain current behavior or observed=True to adopt the future default and silence this warning.\n",
      "  price_category_bed_means = df.groupby('price_category')['bed'].mean().astype(int)\n",
      "/var/folders/j9/nrpllg2s5fx8xthz6hx8jr6h0000gn/T/ipykernel_7521/1582166319.py:15: FutureWarning: The default of observed=False is deprecated and will be changed to True in a future version of pandas. Pass observed=False to retain current behavior or observed=True to adopt the future default and silence this warning.\n",
      "  price_category_bath_means = df.groupby('price_category')['bath'].mean().astype(int)\n",
      "/var/folders/j9/nrpllg2s5fx8xthz6hx8jr6h0000gn/T/ipykernel_7521/1582166319.py:16: FutureWarning: The default of observed=False is deprecated and will be changed to True in a future version of pandas. Pass observed=False to retain current behavior or observed=True to adopt the future default and silence this warning.\n",
      "  price_category_size_means = df.groupby('price_category')['house_size'].mean()\n",
      "/var/folders/j9/nrpllg2s5fx8xthz6hx8jr6h0000gn/T/ipykernel_7521/1582166319.py:17: FutureWarning: The default of observed=False is deprecated and will be changed to True in a future version of pandas. Pass observed=False to retain current behavior or observed=True to adopt the future default and silence this warning.\n",
      "  price_category_acre_means = df.groupby('price_category')['acre_lot'].mean()\n",
      "/var/folders/j9/nrpllg2s5fx8xthz6hx8jr6h0000gn/T/ipykernel_7521/1582166319.py:47: FutureWarning: The default of observed=False is deprecated and will be changed to True in a future version of pandas. Pass observed=False to retain current behavior or observed=True to adopt the future default and silence this warning.\n",
      "  bed_category_size_means = df.groupby('bed_category')['house_size'].mean()\n",
      "/var/folders/j9/nrpllg2s5fx8xthz6hx8jr6h0000gn/T/ipykernel_7521/1582166319.py:48: FutureWarning: The default of observed=False is deprecated and will be changed to True in a future version of pandas. Pass observed=False to retain current behavior or observed=True to adopt the future default and silence this warning.\n",
      "  bed_category_acre_means = df.groupby('bed_category')['acre_lot'].mean()\n",
      "/var/folders/j9/nrpllg2s5fx8xthz6hx8jr6h0000gn/T/ipykernel_7521/1582166319.py:54: FutureWarning: The default of observed=False is deprecated and will be changed to True in a future version of pandas. Pass observed=False to retain current behavior or observed=True to adopt the future default and silence this warning.\n",
      "  bath_category_size_means = df.groupby('bath_category')['house_size'].mean()\n",
      "/var/folders/j9/nrpllg2s5fx8xthz6hx8jr6h0000gn/T/ipykernel_7521/1582166319.py:55: FutureWarning: The default of observed=False is deprecated and will be changed to True in a future version of pandas. Pass observed=False to retain current behavior or observed=True to adopt the future default and silence this warning.\n",
      "  bath_category_acre_means = df.groupby('bath_category')['acre_lot'].mean()\n"
     ]
    }
   ],
   "source": [
    "df.dropna(subset=[\"price\"], axis = 0, inplace=True)\n",
    "df.drop(df[df[\"price\"] <= 1000].index, axis = 0, inplace=True)\n",
    "\n",
    "n_bins = 50\n",
    "quantiles = df['price'].quantile(np.linspace(0, 1, n_bins + 1)[1:])\n",
    "min_price = df['price'].min() \n",
    "\n",
    "bins = quantiles.tolist()\n",
    "bins.insert(0, min_price)\n",
    "\n",
    "price_categories = pd.cut(df['price'], bins=bins, include_lowest=True)\n",
    "df['price_category'] = price_categories\n",
    "\n",
    "price_category_bed_means = df.groupby('price_category')['bed'].mean().astype(int)\n",
    "price_category_bath_means = df.groupby('price_category')['bath'].mean().astype(int)\n",
    "price_category_size_means = df.groupby('price_category')['house_size'].mean()\n",
    "price_category_acre_means = df.groupby('price_category')['acre_lot'].mean()\n",
    "\n",
    "\n",
    "def fill_bed(row):\n",
    "    category = row['price_category']\n",
    "    if pd.isna(row['bed']):\n",
    "        return price_category_bed_means.loc[category]\n",
    "    else:\n",
    "        return row['bed']\n",
    "\n",
    "\n",
    "df[\"bed\"] = df.apply(fill_bed, axis=1)\n",
    "\n",
    "\n",
    "def fill_bath(row):\n",
    "    category = row['price_category']\n",
    "    if pd.isna(row['bath']):\n",
    "        return price_category_bath_means.loc[category]\n",
    "    else:\n",
    "        return row['bath']\n",
    "\n",
    "\n",
    "df[\"bath\"] = df.apply(fill_bath, axis=1)\n",
    "\n",
    "n_bins = 10\n",
    "\n",
    "bins2 = [1, 2, 3, 4, 5, 6, 10, 15, 25, 142]\n",
    "bed_categories = pd.cut(df['bed'], bins=bins2, include_lowest=True)\n",
    "df['bed_category'] = bed_categories\n",
    "\n",
    "bed_category_size_means = df.groupby('bed_category')['house_size'].mean()\n",
    "bed_category_acre_means = df.groupby('bed_category')['acre_lot'].mean()\n",
    "\n",
    "bins3 = [1, 2, 3, 4, 5, 6, 10, 15, 25, 198]\n",
    "bath_categories = pd.cut(df['bath'], bins=bins3, include_lowest=True)\n",
    "df['bath_category'] = bath_categories\n",
    "\n",
    "bath_category_size_means = df.groupby('bath_category')['house_size'].mean()\n",
    "bath_category_acre_means = df.groupby('bath_category')['acre_lot'].mean()\n",
    "\n",
    "\n",
    "def fill_house_size(row):\n",
    "    category1 = row['price_category']\n",
    "    category2 = row['bed_category']\n",
    "    category3 = row['bath_category']\n",
    "    if pd.isna(row['house_size']):\n",
    "        return (price_category_size_means.loc[category1] + bed_category_size_means.loc[category2] +\n",
    "                bath_category_size_means.loc[category3]) / 3\n",
    "    else:\n",
    "        return row['house_size']\n",
    "\n",
    "\n",
    "df[\"house_size\"] = df.apply(fill_house_size, axis=1)\n",
    "\n",
    "\n",
    "def fill_acre_lot(row):\n",
    "    category1 = row['price_category']\n",
    "    category2 = row['bed_category']\n",
    "    category3 = row['bath_category']\n",
    "    if pd.isna(row['acre_lot']):\n",
    "        return (price_category_acre_means.loc[category1] + bed_category_acre_means.loc[category2] +\n",
    "                bath_category_acre_means.loc[category3]) / 3\n",
    "    else:\n",
    "        return row['acre_lot']\n",
    "\n",
    "\n",
    "df[\"acre_lot\"] = df.apply(fill_acre_lot, axis=1)\n",
    "\n",
    "df.drop([\"price_category\"], axis=1, inplace=True)\n",
    "df.drop([\"bed_category\"], axis=1, inplace=True)\n",
    "df.drop([\"bath_category\"], axis=1, inplace=True)"
   ],
   "metadata": {
    "collapsed": false,
    "ExecuteTime": {
     "end_time": "2024-05-03T00:56:09.669552Z",
     "start_time": "2024-05-03T00:52:04.613415Z"
    }
   },
   "id": "85e8498f8858c1cb"
  },
  {
   "cell_type": "code",
   "execution_count": 14,
   "outputs": [],
   "source": [
    "def create_bins(df):\n",
    "    quantiles = df.quantile([0, 0.1, 0.25, 0.5, 0.75, 0.9, 1])\n",
    "    bins_df = pd.cut(df, bins=quantiles,\n",
    "                     labels=[\"1k - 89k\", \"90k - 187k\", \"188k - 373k\", \"374k - 699k\", \"700k - 1424k\", \"1425k - 875000k\"])\n",
    "    bins_df = bins_df.fillna(\"1k - 89k\")\n",
    "    return bins_df\n",
    "\n",
    "\n",
    "features = df.drop(columns=['price'])\n",
    "label = df[\"price\"]\n",
    "\n",
    "X_train, X_test, y_train, y_test = train_test_split(features, label, test_size=0.2, random_state=42)\n",
    "\n",
    "X_train = X_train.reset_index(drop=True)\n",
    "y_train = y_train.reset_index(drop=True)\n",
    "\n",
    "y_train_binned = create_bins(y_train)\n",
    "Train = X_train\n",
    "Train['binned_label'] = y_train_binned\n",
    "\n",
    "Train.to_csv(\"Final_Train_Set.csv\")"
   ],
   "metadata": {
    "collapsed": false,
    "ExecuteTime": {
     "end_time": "2024-05-03T00:56:38.732686Z",
     "start_time": "2024-05-03T00:56:31.129722Z"
    }
   },
   "id": "c2c69db73fb4fc17"
  },
  {
   "cell_type": "markdown",
   "source": [
    "## Adding the train data to the database"
   ],
   "metadata": {
    "collapsed": false
   },
   "id": "eb1da490c3d1f0a4"
  },
  {
   "cell_type": "code",
   "execution_count": 16,
   "outputs": [],
   "source": [
    "db_user = \"root\"\n",
    "db_password = \"Heggi_2002\"\n",
    "db_host = \"localhost\"\n",
    "db_port = \"3306\"\n",
    "db_name = \"Home_Scout\"\n",
    "\n",
    "engine_str = f\"mysql+pymysql://{db_user}:{db_password}@{db_host}:{db_port}/{db_name}\"\n",
    "engine = create_engine(engine_str)\n",
    "\n",
    "Train.to_sql('Train', con=engine, index=False)\n",
    "engine.dispose()"
   ],
   "metadata": {
    "collapsed": false,
    "ExecuteTime": {
     "end_time": "2024-05-03T00:57:44.859691Z",
     "start_time": "2024-05-03T00:57:00.788027Z"
    }
   },
   "id": "a8e3dcfa8e29e01"
  },
  {
   "cell_type": "code",
   "execution_count": null,
   "outputs": [],
   "source": [],
   "metadata": {
    "collapsed": false
   },
   "id": "e526961c7b9a2411"
  }
 ],
 "metadata": {
  "kernelspec": {
   "display_name": "Python 3",
   "language": "python",
   "name": "python3"
  },
  "language_info": {
   "codemirror_mode": {
    "name": "ipython",
    "version": 2
   },
   "file_extension": ".py",
   "mimetype": "text/x-python",
   "name": "python",
   "nbconvert_exporter": "python",
   "pygments_lexer": "ipython2",
   "version": "2.7.6"
  }
 },
 "nbformat": 4,
 "nbformat_minor": 5
}
