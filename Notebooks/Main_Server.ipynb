{
 "cells": [
  {
   "cell_type": "code",
   "execution_count": 2,
   "metadata": {},
   "outputs": [],
   "source": [
    "import pickle\n",
    "from flask import Flask, request, jsonify\n",
    "import pandas as pd\n",
    "import mysql.connector\n"
   ]
  },
  {
   "cell_type": "code",
   "execution_count": 3,
   "metadata": {},
   "outputs": [
    {
     "name": "stdout",
     "output_type": "stream",
     "text": [
      " * Serving Flask app '__main__'\n",
      " * Debug mode: off\n"
     ]
    },
    {
     "name": "stderr",
     "output_type": "stream",
     "text": [
      "WARNING: This is a development server. Do not use it in a production deployment. Use a production WSGI server instead.\n",
      " * Running on http://127.0.0.1:5000\n",
      "Press CTRL+C to quit\n",
      "127.0.0.1 - - [09/May/2024 13:31:48] \"POST /predict HTTP/1.1\" 200 -\n"
     ]
    },
    {
     "name": "stdout",
     "output_type": "stream",
     "text": [
      "Label Predcted\n"
     ]
    },
    {
     "name": "stderr",
     "output_type": "stream",
     "text": [
      "127.0.0.1 - - [09/May/2024 13:31:50] \"GET /Get_Predictions HTTP/1.1\" 200 -\n"
     ]
    },
    {
     "name": "stdout",
     "output_type": "stream",
     "text": [
      "Prediction list has been retrieved\n"
     ]
    },
    {
     "name": "stderr",
     "output_type": "stream",
     "text": [
      "127.0.0.1 - - [09/May/2024 13:31:52] \"POST /Add_Prediction HTTP/1.1\" 200 -\n"
     ]
    },
    {
     "name": "stdout",
     "output_type": "stream",
     "text": [
      "Prediction Added\n"
     ]
    },
    {
     "name": "stderr",
     "output_type": "stream",
     "text": [
      "127.0.0.1 - - [09/May/2024 13:32:04] \"POST /Add_Train HTTP/1.1\" 200 -\n"
     ]
    },
    {
     "name": "stdout",
     "output_type": "stream",
     "text": [
      "Data point Added to train set\n"
     ]
    },
    {
     "name": "stderr",
     "output_type": "stream",
     "text": [
      "127.0.0.1 - - [09/May/2024 13:32:59] \"POST /predict HTTP/1.1\" 200 -\n"
     ]
    },
    {
     "name": "stdout",
     "output_type": "stream",
     "text": [
      "Label Predcted\n"
     ]
    },
    {
     "name": "stderr",
     "output_type": "stream",
     "text": [
      "127.0.0.1 - - [09/May/2024 13:33:01] \"GET /Get_Predictions HTTP/1.1\" 200 -\n"
     ]
    },
    {
     "name": "stdout",
     "output_type": "stream",
     "text": [
      "Prediction list has been retrieved\n"
     ]
    },
    {
     "name": "stderr",
     "output_type": "stream",
     "text": [
      "127.0.0.1 - - [09/May/2024 13:33:03] \"POST /Add_Prediction HTTP/1.1\" 200 -\n"
     ]
    },
    {
     "name": "stdout",
     "output_type": "stream",
     "text": [
      "Prediction Added\n"
     ]
    },
    {
     "name": "stderr",
     "output_type": "stream",
     "text": [
      "127.0.0.1 - - [09/May/2024 13:33:07] \"POST /Add_Train HTTP/1.1\" 200 -\n"
     ]
    },
    {
     "name": "stdout",
     "output_type": "stream",
     "text": [
      "Data point Added to train set\n"
     ]
    },
    {
     "name": "stderr",
     "output_type": "stream",
     "text": [
      "127.0.0.1 - - [09/May/2024 13:35:27] \"POST /predict HTTP/1.1\" 200 -\n"
     ]
    },
    {
     "name": "stdout",
     "output_type": "stream",
     "text": [
      "Label Predcted\n"
     ]
    },
    {
     "name": "stderr",
     "output_type": "stream",
     "text": [
      "127.0.0.1 - - [09/May/2024 13:35:29] \"GET /Get_Predictions HTTP/1.1\" 200 -\n"
     ]
    },
    {
     "name": "stdout",
     "output_type": "stream",
     "text": [
      "Prediction list has been retrieved\n"
     ]
    },
    {
     "name": "stderr",
     "output_type": "stream",
     "text": [
      "127.0.0.1 - - [09/May/2024 13:35:31] \"POST /Add_Prediction HTTP/1.1\" 200 -\n"
     ]
    },
    {
     "name": "stdout",
     "output_type": "stream",
     "text": [
      "Prediction Added\n"
     ]
    },
    {
     "name": "stderr",
     "output_type": "stream",
     "text": [
      "127.0.0.1 - - [09/May/2024 13:36:00] \"POST /Add_Train HTTP/1.1\" 200 -\n"
     ]
    },
    {
     "name": "stdout",
     "output_type": "stream",
     "text": [
      "Data point Added to train set\n"
     ]
    },
    {
     "name": "stderr",
     "output_type": "stream",
     "text": [
      "127.0.0.1 - - [09/May/2024 13:37:41] \"POST /predict HTTP/1.1\" 200 -\n"
     ]
    },
    {
     "name": "stdout",
     "output_type": "stream",
     "text": [
      "Label Predcted\n"
     ]
    },
    {
     "name": "stderr",
     "output_type": "stream",
     "text": [
      "127.0.0.1 - - [09/May/2024 13:37:43] \"GET /Get_Predictions HTTP/1.1\" 200 -\n"
     ]
    },
    {
     "name": "stdout",
     "output_type": "stream",
     "text": [
      "Prediction list has been retrieved\n"
     ]
    },
    {
     "name": "stderr",
     "output_type": "stream",
     "text": [
      "127.0.0.1 - - [09/May/2024 13:37:45] \"POST /Add_Prediction HTTP/1.1\" 200 -\n"
     ]
    },
    {
     "name": "stdout",
     "output_type": "stream",
     "text": [
      "Prediction Added\n"
     ]
    },
    {
     "name": "stderr",
     "output_type": "stream",
     "text": [
      "127.0.0.1 - - [09/May/2024 13:37:52] \"POST /Add_Reported HTTP/1.1\" 200 -\n"
     ]
    },
    {
     "name": "stdout",
     "output_type": "stream",
     "text": [
      "Data point reported\n"
     ]
    },
    {
     "name": "stderr",
     "output_type": "stream",
     "text": [
      "127.0.0.1 - - [09/May/2024 13:38:07] \"POST /Add_Train HTTP/1.1\" 200 -\n"
     ]
    },
    {
     "name": "stdout",
     "output_type": "stream",
     "text": [
      "Data point Added to train set\n"
     ]
    },
    {
     "name": "stderr",
     "output_type": "stream",
     "text": [
      "127.0.0.1 - - [09/May/2024 13:41:31] \"POST /predict HTTP/1.1\" 200 -\n"
     ]
    },
    {
     "name": "stdout",
     "output_type": "stream",
     "text": [
      "Label Predcted\n"
     ]
    },
    {
     "name": "stderr",
     "output_type": "stream",
     "text": [
      "127.0.0.1 - - [09/May/2024 13:41:33] \"GET /Get_Predictions HTTP/1.1\" 200 -\n"
     ]
    },
    {
     "name": "stdout",
     "output_type": "stream",
     "text": [
      "Prediction list has been retrieved\n"
     ]
    },
    {
     "name": "stderr",
     "output_type": "stream",
     "text": [
      "[2024-05-09 13:41:35,402] ERROR in app: Exception on /Add_Prediction [POST]\n",
      "Traceback (most recent call last):\n",
      "  File \"c:\\Python311\\Lib\\site-packages\\mysql\\connector\\connection_cext.py\", line 639, in cmd_query\n",
      "    self._cmysql.query(\n",
      "_mysql_connector.MySQLInterfaceError: Duplicate entry 'nour-3-3-3333.00-0.3000-Auburn-Georgia-30' for key 'predictions.PRIMARY'\n",
      "\n",
      "The above exception was the direct cause of the following exception:\n",
      "\n",
      "Traceback (most recent call last):\n",
      "  File \"c:\\Python311\\Lib\\site-packages\\flask\\app.py\", line 1473, in wsgi_app\n",
      "    response = self.full_dispatch_request()\n",
      "               ^^^^^^^^^^^^^^^^^^^^^^^^^^^^\n",
      "  File \"c:\\Python311\\Lib\\site-packages\\flask\\app.py\", line 882, in full_dispatch_request\n",
      "    rv = self.handle_user_exception(e)\n",
      "         ^^^^^^^^^^^^^^^^^^^^^^^^^^^^^\n",
      "  File \"c:\\Python311\\Lib\\site-packages\\flask\\app.py\", line 880, in full_dispatch_request\n",
      "    rv = self.dispatch_request()\n",
      "         ^^^^^^^^^^^^^^^^^^^^^^^\n",
      "  File \"c:\\Python311\\Lib\\site-packages\\flask\\app.py\", line 865, in dispatch_request\n",
      "    return self.ensure_sync(self.view_functions[rule.endpoint])(**view_args)  # type: ignore[no-any-return]\n",
      "           ^^^^^^^^^^^^^^^^^^^^^^^^^^^^^^^^^^^^^^^^^^^^^^^^^^^^^^^^^^^^^^^^^\n",
      "  File \"C:\\Users\\nkasa\\AppData\\Local\\Temp\\ipykernel_21976\\1002606860.py\", line 103, in Add_Prediction\n",
      "    cursor.execute(QI, val)\n",
      "  File \"c:\\Python311\\Lib\\site-packages\\mysql\\connector\\cursor_cext.py\", line 330, in execute\n",
      "    result = self._cnx.cmd_query(\n",
      "             ^^^^^^^^^^^^^^^^^^^^\n",
      "  File \"c:\\Python311\\Lib\\site-packages\\mysql\\connector\\opentelemetry\\context_propagation.py\", line 77, in wrapper\n",
      "    return method(cnx, *args, **kwargs)\n",
      "           ^^^^^^^^^^^^^^^^^^^^^^^^^^^^\n",
      "  File \"c:\\Python311\\Lib\\site-packages\\mysql\\connector\\connection_cext.py\", line 647, in cmd_query\n",
      "    raise get_mysql_exception(\n",
      "mysql.connector.errors.IntegrityError: 1062 (23000): Duplicate entry 'nour-3-3-3333.00-0.3000-Auburn-Georgia-30' for key 'predictions.PRIMARY'\n",
      "127.0.0.1 - - [09/May/2024 13:41:35] \"POST /Add_Prediction HTTP/1.1\" 500 -\n"
     ]
    },
    {
     "ename": "",
     "evalue": "",
     "output_type": "error",
     "traceback": [
      "\u001b[1;31mThe Kernel crashed while executing code in the current cell or a previous cell. \n",
      "\u001b[1;31mPlease review the code in the cell(s) to identify a possible cause of the failure. \n",
      "\u001b[1;31mClick <a href='https://aka.ms/vscodeJupyterKernelCrash'>here</a> for more info. \n",
      "\u001b[1;31mView Jupyter <a href='command:jupyter.viewOutput'>log</a> for further details."
     ]
    }
   ],
   "source": [
    "connection = mysql.connector.connect(host = \"localhost\", user = \"root\", password = \"*****\", database = \"Home_Scout\")\n",
    "\n",
    "\n",
    "app = Flask(__name__)\n",
    "\n",
    "def process_data(data, query_flag=False):\n",
    "    if query_flag == False:\n",
    "        df = pd.DataFrame(data, index=[0])\n",
    "    else:\n",
    "        df = data\n",
    "        \n",
    "    with open('../Pickle/encoder.pkl', 'rb') as f:\n",
    "        encoder = pickle.load(f)\n",
    "\n",
    "    cols = [\"city\", \"state\", \"zip_code\", \"status\", \"sold\"]\n",
    "    encoded_user_data = encoder.transform(df[cols])\n",
    "\n",
    "    encoded_user_data['bed'] = df['bed']\n",
    "    encoded_user_data['bath'] = df['bath']\n",
    "    encoded_user_data['acre_lot'] = df['acre_lot']\n",
    "    encoded_user_data['house_size'] = df['house_size']\n",
    "    encoded_user_data.drop(columns=['zip_code_A>'], inplace=True)\n",
    "\n",
    "    return encoded_user_data\n",
    "\n",
    "@app.route('/Add_User', methods=['POST'])\n",
    "def Add_User():\n",
    "    name = request.get_json()\n",
    "    cursor = connection.cursor()\n",
    "    QI = \"INSERT INTO Users (Username) VALUES (%s);\"\n",
    "    val = (name,)\n",
    "    cursor.execute(QI, val)\n",
    "    connection.commit()\n",
    "    cursor.close()\n",
    "    print(\"User Added\")\n",
    "    \n",
    "    return 'User Added'\n",
    "\n",
    "@app.route('/Get_Users', methods=['GET'])\n",
    "def Get_Users():\n",
    "    Users = []\n",
    "    QE = \"SELECT Username FROM Users;\"\n",
    "    cursor = connection.cursor()\n",
    "    cursor.execute(QE,)\n",
    "    values = cursor.fetchall()\n",
    "    for x in values:\n",
    "        for y in x:\n",
    "            Users.append(y)\n",
    "    cursor.close()\n",
    "    print(\"User list has been retrieved\")\n",
    "    return Users\n",
    "\n",
    "@app.route('/Get_Predictions', methods=['GET'])\n",
    "def Get_Predictions():\n",
    "    QP = \"SELECT * FROM Predictions;\"\n",
    "    cursor = connection.cursor()\n",
    "    cursor.execute(QP,)\n",
    "    Preds = cursor.fetchall()\n",
    "    cursor.close()\n",
    "    print(\"Prediction list has been retrieved\")\n",
    "    return Preds\n",
    "\n",
    "@app.route('/Get_Reports', methods=['GET'])\n",
    "def Get_Reports():\n",
    "    QP = \"SELECT * FROM Reported;\"\n",
    "    cursor = connection.cursor()\n",
    "    cursor.execute(QP,)\n",
    "    Reports = cursor.fetchall()\n",
    "    cursor.close()\n",
    "    print(\"Reports list has been retrieved\")\n",
    "    return Reports\n",
    "\n",
    "@app.route('/View_Past_Predictions', methods=['GET'])\n",
    "def View_Past_Predictions():\n",
    "    Username = request.get_json()\n",
    "    QS = \"Select bed, bath, hsize, acre, city, state, zip, price FROM Predictions WHERE Username = %s\"\n",
    "    val = (Username,)\n",
    "    cursor = connection.cursor()\n",
    "    cursor.execute(QS, val)\n",
    "    values = cursor.fetchall()\n",
    "    cursor.close()\n",
    "    print(\"Reported list has been retrieved\")\n",
    "    return values\n",
    "\n",
    "@app.route('/predict', methods=['POST'])\n",
    "def predict():\n",
    "    RF = pickle.load(open('../Pickle/RandomForest.pkl', 'rb'))\n",
    "\n",
    "    data = request.get_json()\n",
    "    data = process_data(data)\n",
    "    df = pd.DataFrame.from_dict(data)\n",
    "    prediction = RF.predict(df)\n",
    "    print(\"Label Predcted\")\n",
    "    return jsonify(prediction.tolist())\n",
    "\n",
    "@app.route('/Add_Prediction', methods=['POST'])\n",
    "def Add_Prediction():\n",
    "    data = request.get_json()\n",
    "    val = tuple(data)\n",
    "    cursor = connection.cursor()\n",
    "    QI = \"INSERT INTO Predictions (Username, status, bed, bath, acre, city, state, zip, hsize, sold, price) VALUES (%s,%s,%s,%s,%s,%s,%s,%s,%s,%s,%s);\"       \n",
    "    cursor.execute(QI, val)\n",
    "    connection.commit()\n",
    "    cursor.close()\n",
    "    print('Prediction Added')\n",
    "    return 'Prediction Added'\n",
    "\n",
    "@app.route('/Add_Train', methods=['POST'])\n",
    "def Add_Train():\n",
    "    data = request.get_json()\n",
    "    Val = tuple(data)\n",
    "    cursor = connection.cursor()\n",
    "    QT = \"INSERT INTO Train (status, bed, bath, acre_lot, city, state, zip_code, house_size, sold, binned_label) VALUES (%s,%s,%s,%s,%s,%s,%s,%s,%s,%s);\"\n",
    "    cursor.execute(QT, Val)\n",
    "    connection.commit()\n",
    "    cursor.close()\n",
    "    print('Data point Added to train set')\n",
    "    return 'Data point Added to train'\n",
    "\n",
    "@app.route('/Add_Reported', methods=['POST'])\n",
    "def Add_Reported():\n",
    "    data = request.get_json()\n",
    "    Val = tuple(data)\n",
    "    cursor = connection.cursor()\n",
    "    QI = \"INSERT INTO Reported (Username, bed, bath, hsize, acre, city, state, zip, price) VALUES (%s,%s,%s,%s,%s,%s,%s,%s,%s);\"\n",
    "    cursor.execute(QI, Val)\n",
    "    connection.commit()\n",
    "    cursor.close()\n",
    "    print('Data point reported')\n",
    "    return 'Data point reported'\n",
    "\n",
    "try:\n",
    "    if __name__ == '__main__':\n",
    "        app.run(port=5000, debug= False)\n",
    "except Exception as e:\n",
    "    print('Error:', e)\n"
   ]
  }
 ],
 "metadata": {
  "kernelspec": {
   "display_name": "Python 3",
   "language": "python",
   "name": "python3"
  },
  "language_info": {
   "codemirror_mode": {
    "name": "ipython",
    "version": 3
   },
   "file_extension": ".py",
   "mimetype": "text/x-python",
   "name": "python",
   "nbconvert_exporter": "python",
   "pygments_lexer": "ipython3",
   "version": "3.11.4"
  }
 },
 "nbformat": 4,
 "nbformat_minor": 2
}
