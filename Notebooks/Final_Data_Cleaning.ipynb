{
 "cells": [
  {
   "cell_type": "code",
   "execution_count": 1,
   "id": "initial_id",
   "metadata": {
    "ExecuteTime": {
     "end_time": "2024-03-31T14:12:22.456817Z",
     "start_time": "2024-03-31T14:12:22.443284Z"
    },
    "collapsed": true
   },
   "outputs": [],
   "source": [
    "import numpy as np\n",
    "import pandas as pd\n",
    "from sklearn.preprocessing import OneHotEncoder\n",
    "from sklearn.preprocessing import StandardScaler\n",
    "from sklearn.model_selection import train_test_split\n",
    "import warnings\n",
    "import pickle\n",
    "\n",
    "warnings.filterwarnings(\"ignore\", message=\"divide by zero encountered in log\")\n",
    "warnings.filterwarnings(\"ignore\", message=\"invalid value encountered in divide\")\n",
    "warnings.filterwarnings(\"ignore\", message=\"divide by zero encountered in divide\")"
   ]
  },
  {
   "cell_type": "code",
   "execution_count": 2,
   "id": "513e61ccd1afbb23",
   "metadata": {
    "ExecuteTime": {
     "end_time": "2024-03-31T14:12:25.204050Z",
     "start_time": "2024-03-31T14:12:22.939747Z"
    },
    "collapsed": false
   },
   "outputs": [],
   "source": [
    "df = pd.read_csv('../csv/Old_Dataset.csv')"
   ]
  },
  {
   "cell_type": "markdown",
   "id": "73db9633c683a8e",
   "metadata": {
    "collapsed": false
   },
   "source": [
    "## Data Cleaning"
   ]
  },
  {
   "cell_type": "code",
   "execution_count": 3,
   "id": "b87b8dea995d02a3",
   "metadata": {
    "ExecuteTime": {
     "end_time": "2024-03-31T14:12:27.403825Z",
     "start_time": "2024-03-31T14:12:27.174386Z"
    },
    "collapsed": false
   },
   "outputs": [],
   "source": [
    "city_counts = df['city'].value_counts()\n",
    "df = df[df['city'].isin(city_counts[city_counts >= 1000].index)]"
   ]
  },
  {
   "cell_type": "code",
   "execution_count": 4,
   "id": "c644d65cea926473",
   "metadata": {
    "ExecuteTime": {
     "end_time": "2024-03-31T14:12:29.125016Z",
     "start_time": "2024-03-31T14:12:27.949999Z"
    },
    "collapsed": false
   },
   "outputs": [],
   "source": [
    "df[\"bed\"] = df[\"bed\"].convert_dtypes(int)\n",
    "df[\"bath\"] = df[\"bath\"].convert_dtypes(int)\n",
    "df[\"zip_code\"] = df[\"zip_code\"].convert_dtypes(int)\n",
    "\n",
    "df['zip_code'] = df['zip_code'].astype(str).fillna('')\n",
    "df['zip_code'] = df['zip_code'].apply(lambda x: x.zfill(5))"
   ]
  },
  {
   "cell_type": "code",
   "execution_count": 5,
   "id": "c0a84b5148f36d4",
   "metadata": {
    "ExecuteTime": {
     "end_time": "2024-03-31T14:12:30.274444Z",
     "start_time": "2024-03-31T14:12:30.062433Z"
    },
    "collapsed": false
   },
   "outputs": [],
   "source": [
    "df['zip_code'] = df['zip_code'].str[3:]"
   ]
  },
  {
   "cell_type": "code",
   "execution_count": 6,
   "id": "7c1ce45b96ae40f5",
   "metadata": {
    "ExecuteTime": {
     "end_time": "2024-03-31T14:12:30.894352Z",
     "start_time": "2024-03-31T14:12:30.782072Z"
    },
    "collapsed": false
   },
   "outputs": [],
   "source": [
    "df['sold'] = df['prev_sold_date'].notnull().map({True: 'yes', False: 'no'})\n",
    "df.drop([\"prev_sold_date\"], axis=1, inplace=True)"
   ]
  },
  {
   "cell_type": "code",
   "execution_count": 48,
   "id": "3ba4c85a1bcc1b2c",
   "metadata": {
    "ExecuteTime": {
     "end_time": "2024-03-31T14:12:32.104104Z",
     "start_time": "2024-03-31T14:12:31.372570Z"
    },
    "collapsed": false
   },
   "outputs": [],
   "source": [
    "df.dropna(subset=[\"price\"], axis = 0, inplace=True)\n",
    "df.drop(df[df[\"price\"] <= 1000].index, axis = 0, inplace=True)\n",
    "\n",
    "spec_cols = ['bed', 'bath', 'house_size', 'acre_lot']\n",
    "df.dropna(subset=spec_cols, axis = 0, inplace=True, how='all')\n",
    "\n",
    "n_bins = 50\n",
    "quantiles = df['price'].quantile(np.linspace(0, 1, n_bins + 1)[1:])\n",
    "min_price = df['price'].min() \n",
    "\n",
    "bins = quantiles.tolist()\n",
    "bins.insert(0, min_price)\n",
    "\n",
    "price_categories = pd.cut(df['price'], bins=bins, include_lowest=True)\n",
    "df['price_category'] = price_categories\n",
    "\n",
    "price_category_bed_means = df.groupby('price_category')['bed'].mean().astype(int)\n",
    "price_category_bath_means = df.groupby('price_category')['bath'].mean().astype(int)\n",
    "price_category_size_means = df.groupby('price_category')['house_size'].mean()\n",
    "price_category_acre_means = df.groupby('price_category')['acre_lot'].mean()"
   ]
  },
  {
   "cell_type": "code",
   "execution_count": 49,
   "id": "6e2372cb1f5820cb",
   "metadata": {
    "ExecuteTime": {
     "end_time": "2024-03-31T14:13:18.678805Z",
     "start_time": "2024-03-31T14:12:32.785062Z"
    },
    "collapsed": false
   },
   "outputs": [],
   "source": [
    "def fill_bed(row):\n",
    "    category = row['price_category']\n",
    "    if pd.isna(row['bed']):\n",
    "      return price_category_bed_means.loc[category]\n",
    "    else:\n",
    "      return row['bed']\n",
    "\n",
    "df[\"bed\"] = df.apply(fill_bed, axis=1)\n",
    "\n",
    "def fill_bath(row):\n",
    "    category = row['price_category']\n",
    "    if pd.isna(row['bath']):\n",
    "      return price_category_bath_means.loc[category]\n",
    "    else:\n",
    "      return row['bath']\n",
    "    \n",
    "df[\"bath\"] = df.apply(fill_bath, axis=1)\n"
   ]
  },
  {
   "cell_type": "code",
   "execution_count": 50,
   "id": "eea39539fd64d1a0",
   "metadata": {
    "ExecuteTime": {
     "end_time": "2024-03-31T14:13:21.767255Z",
     "start_time": "2024-03-31T14:13:21.636401Z"
    },
    "collapsed": false
   },
   "outputs": [],
   "source": [
    "n_bins = 10\n",
    "\n",
    "bins2 = [1,2,3,4,5,6,10,15,25,142]\n",
    "bed_categories = pd.cut(df['bed'], bins=bins2, include_lowest=True)\n",
    "df['bed_category'] = bed_categories\n",
    "\n",
    "bed_category_size_means = df.groupby('bed_category')['house_size'].mean()\n",
    "bed_category_acre_means = df.groupby('bed_category')['acre_lot'].mean()\n",
    "\n",
    "bins3 = [1,2,3,4,5,6,10,15,25,198]\n",
    "bath_categories = pd.cut(df['bath'], bins=bins3, include_lowest=True)\n",
    "df['bath_category'] = bath_categories\n",
    "\n",
    "bath_category_size_means = df.groupby('bath_category')['house_size'].mean()\n",
    "bath_category_acre_means = df.groupby('bath_category')['acre_lot'].mean()"
   ]
  },
  {
   "cell_type": "code",
   "execution_count": 51,
   "id": "4d1d25a75e576c08",
   "metadata": {
    "ExecuteTime": {
     "end_time": "2024-03-31T14:16:26.306173Z",
     "start_time": "2024-03-31T14:13:22.597173Z"
    },
    "collapsed": false
   },
   "outputs": [],
   "source": [
    "def fill_house_size(row):\n",
    "    category1 = row['price_category']\n",
    "    category2 = row['bed_category']\n",
    "    category3 = row['bath_category']\n",
    "    if pd.isna(row['house_size']):\n",
    "      return (price_category_size_means.loc[category1] + bed_category_size_means.loc[category2] + bath_category_size_means.loc[category3])/3\n",
    "    else:\n",
    "      return row['house_size']\n",
    "\n",
    "df[\"house_size\"] = df.apply(fill_house_size, axis=1)\n",
    "\n",
    "def fill_acre_lot(row):\n",
    "    category1 = row['price_category']\n",
    "    category2 = row['bed_category']\n",
    "    category3 = row['bath_category']\n",
    "    if pd.isna(row['acre_lot']):\n",
    "      return (price_category_acre_means.loc[category1] + bed_category_acre_means.loc[category2] + bath_category_acre_means.loc[category3])/3\n",
    "    else:\n",
    "      return row['acre_lot']\n",
    "    \n",
    "df[\"acre_lot\"] = df.apply(fill_acre_lot, axis=1)\n",
    "df.drop(df[df[\"acre_lot\"] == 0].index, axis = 0, inplace=True)\n",
    "\n",
    "df.drop([\"price_category\"], axis=1, inplace=True)\n",
    "df.drop([\"bed_category\"], axis=1, inplace=True)\n",
    "df.drop([\"bath_category\"], axis=1, inplace=True)"
   ]
  },
  {
   "cell_type": "markdown",
   "id": "a2d5963b2724b75c",
   "metadata": {
    "collapsed": false
   },
   "source": [
    "## Scaling"
   ]
  },
  {
   "cell_type": "code",
   "execution_count": 61,
   "id": "77b9317abfa9ec3b",
   "metadata": {
    "ExecuteTime": {
     "end_time": "2024-03-31T14:18:09.960830Z",
     "start_time": "2024-03-31T14:18:09.864494Z"
    },
    "collapsed": false
   },
   "outputs": [],
   "source": [
    "numeric_df = df.select_dtypes(include=['int64', 'float64'])\n",
    "numeric_df.drop([\"price\"], axis=1, inplace=True)\n",
    "\n",
    "scaler = StandardScaler()\n",
    "columns = ['bed', 'bath']\n",
    "numeric_df = pd.DataFrame(scaler.fit_transform(numeric_df[columns]), columns=columns)\n",
    "\n",
    "np.seterr(all='warn')\n",
    "numeric_df[\"acre_lot\"] = np.log10(df[\"acre_lot\"])\n",
    "numeric_df[\"house_size\"] = np.log10(df[\"house_size\"])"
   ]
  },
  {
   "cell_type": "code",
   "execution_count": 62,
   "id": "53a883a5d5296e46",
   "metadata": {
    "ExecuteTime": {
     "end_time": "2024-03-31T14:18:13.262431Z",
     "start_time": "2024-03-31T14:18:13.179093Z"
    },
    "collapsed": false
   },
   "outputs": [],
   "source": [
    "numeric_df = numeric_df.reset_index(drop=True)\n",
    "df = df.reset_index(drop=True)"
   ]
  },
  {
   "cell_type": "code",
   "execution_count": 71,
   "id": "bed9a103eae34567",
   "metadata": {
    "ExecuteTime": {
     "end_time": "2024-03-31T14:35:04.843832Z",
     "start_time": "2024-03-31T14:35:04.820385Z"
    },
    "collapsed": false
   },
   "outputs": [],
   "source": [
    "df[\"bed\"] = numeric_df['bed']\n",
    "df[\"bath\"] = numeric_df['bath']\n",
    "df[\"house_size\"] = numeric_df['house_size']\n",
    "df[\"acre_lot\"] = numeric_df['acre_lot']"
   ]
  },
  {
   "cell_type": "markdown",
   "id": "b06e559d1406e0ff",
   "metadata": {
    "collapsed": false
   },
   "source": [
    "## One-Hot Encoding"
   ]
  },
  {
   "cell_type": "code",
   "execution_count": 73,
   "id": "a8e98c4783e0dd89",
   "metadata": {
    "ExecuteTime": {
     "end_time": "2024-03-31T14:35:27.798842Z",
     "start_time": "2024-03-31T14:35:27.514306Z"
    },
    "collapsed": false
   },
   "outputs": [
    {
     "name": "stdout",
     "output_type": "stream",
     "text": [
      "Num of status:  2\n",
      "Num of cities:  415\n",
      "Num of states:  17\n",
      "Num of zipcodes:  100\n",
      "Num of sold:  2\n"
     ]
    }
   ],
   "source": [
    "print(\"Num of status: \",len(df[\"status\"].unique()))\n",
    "print(\"Num of cities: \",len(df[\"city\"].unique()))\n",
    "print(\"Num of states: \",len(df[\"state\"].unique()))\n",
    "print(\"Num of zipcodes: \",len(df[\"zip_code\"].unique()))\n",
    "print(\"Num of sold: \",len(df[\"sold\"].unique()))"
   ]
  },
  {
   "cell_type": "code",
   "execution_count": 8,
   "id": "c776a8945d237e46",
   "metadata": {
    "ExecuteTime": {
     "end_time": "2024-03-31T14:35:31.042631Z",
     "start_time": "2024-03-31T14:35:29.057451Z"
    },
    "collapsed": false
   },
   "outputs": [],
   "source": [
    "OHE = OneHotEncoder(handle_unknown='ignore', sparse_output=False, dtype='int8').set_output(transform='pandas')\n",
    "cols = [\"city\", \"state\", \"zip_code\", \"status\", \"sold\"]\n",
    "NewDF = OHE.fit_transform(df[cols])"
   ]
  },
  {
   "cell_type": "code",
   "execution_count": 9,
   "id": "43e18ff3",
   "metadata": {},
   "outputs": [],
   "source": [
    "with open('encoder.pkl', 'wb') as f:\n",
    "  pickle.dump(OHE, f)"
   ]
  },
  {
   "cell_type": "markdown",
   "id": "f24842624102173d",
   "metadata": {
    "collapsed": false
   },
   "source": [
    "## Finalizing the Dataframe"
   ]
  },
  {
   "cell_type": "code",
   "execution_count": 75,
   "id": "1384114dca7f495d",
   "metadata": {
    "ExecuteTime": {
     "end_time": "2024-03-31T14:35:39.217771Z",
     "start_time": "2024-03-31T14:35:34.884690Z"
    },
    "collapsed": false
   },
   "outputs": [],
   "source": [
    "NewDF['bed'] = df['bed']\n",
    "NewDF['bath'] = df['bath']\n",
    "NewDF['acre_lot'] = df['acre_lot']\n",
    "NewDF['house_size'] = df['house_size']\n",
    "NewDF['price'] = df['price'].round(0)\n",
    "\n",
    "NewDF = NewDF.reset_index(drop=True)"
   ]
  },
  {
   "cell_type": "markdown",
   "id": "98a6ef2aee91753f",
   "metadata": {
    "collapsed": false
   },
   "source": [
    "## Training & Test sets"
   ]
  },
  {
   "cell_type": "code",
   "execution_count": 81,
   "id": "af341543caf77468",
   "metadata": {
    "ExecuteTime": {
     "end_time": "2024-03-31T14:37:05.009369Z",
     "start_time": "2024-03-31T14:37:04.997008Z"
    },
    "collapsed": false
   },
   "outputs": [],
   "source": [
    "def create_bins(df):\n",
    "    quantiles = df.quantile([0,0.1, 0.25, 0.5, 0.75, 0.9,1])\n",
    "    bins_df = pd.cut(df, bins=quantiles, labels=[\"1k - 89k\", \"90k - 187k\", \"188k - 373k\", \"374k - 699k\", \"700k - 1424k\", \"1425k - 875000k\"])\n",
    "    bins_df = bins_df.fillna(\"1k - 89k\")\n",
    "    return bins_df"
   ]
  },
  {
   "cell_type": "code",
   "execution_count": 82,
   "id": "28292fdfb148d916",
   "metadata": {
    "ExecuteTime": {
     "end_time": "2024-03-31T14:37:12.528052Z",
     "start_time": "2024-03-31T14:37:09.082163Z"
    },
    "collapsed": false
   },
   "outputs": [],
   "source": [
    "features = NewDF.drop(columns=['price'])\n",
    "label = NewDF[\"price\"]\n",
    "\n",
    "X_train , X_test , y_train , y_test = train_test_split(features, label, test_size=0.2, random_state=42)\n",
    "\n",
    "X_train = X_train.reset_index(drop=True)\n",
    "X_test = X_test.reset_index(drop=True)\n",
    "y_train = y_train.reset_index(drop=True)\n",
    "y_test = y_test.reset_index(drop=True)\n",
    "\n",
    "y_test_binned = create_bins(y_test)\n",
    "y_train_binned = create_bins(y_train)"
   ]
  },
  {
   "cell_type": "code",
   "execution_count": 85,
   "id": "3db3c125c25b79c6",
   "metadata": {
    "ExecuteTime": {
     "end_time": "2024-03-31T14:37:53.406310Z",
     "start_time": "2024-03-31T14:37:53.396068Z"
    },
    "collapsed": false
   },
   "outputs": [],
   "source": [
    "Train = X_train\n",
    "Train['label'] = y_train\n",
    "Train['binned_label'] = y_train_binned\n",
    "\n",
    "Test = X_test\n",
    "Test['label'] = y_test\n",
    "Test['binned_label'] = y_test_binned"
   ]
  },
  {
   "cell_type": "code",
   "execution_count": 86,
   "id": "27388c24e91c0248",
   "metadata": {
    "ExecuteTime": {
     "end_time": "2024-03-31T14:39:42.327270Z",
     "start_time": "2024-03-31T14:38:17.358342Z"
    },
    "collapsed": false
   },
   "outputs": [],
   "source": [
    "Train.to_csv(\"Train_Set.csv\")\n",
    "Test.to_csv(\"Test_Set.csv\")"
   ]
  }
 ],
 "metadata": {
  "kernelspec": {
   "display_name": "Python 3",
   "language": "python",
   "name": "python3"
  },
  "language_info": {
   "codemirror_mode": {
    "name": "ipython",
    "version": 3
   },
   "file_extension": ".py",
   "mimetype": "text/x-python",
   "name": "python",
   "nbconvert_exporter": "python",
   "pygments_lexer": "ipython3",
   "version": "3.11.4"
  }
 },
 "nbformat": 4,
 "nbformat_minor": 5
}
