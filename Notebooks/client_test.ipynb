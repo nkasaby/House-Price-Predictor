{
 "cells": [
  {
   "cell_type": "code",
   "execution_count": 42,
   "metadata": {},
   "outputs": [],
   "source": [
    "import requests\n",
    "from sklearn.preprocessing import OneHotEncoder\n",
    "import pandas as pd\n",
    "import pickle"
   ]
  },
  {
   "cell_type": "code",
   "execution_count": 43,
   "metadata": {},
   "outputs": [],
   "source": [
    "status = input(\"Status: \")\n",
    "bed = input(\"Bed: \")\n",
    "bath = input(\"Bath: \")\n",
    "acre_lot = input(\"Acre_lot: \")\n",
    "city = input(\"city: \")\n",
    "state = input(\"state: \")\n",
    "zipcode = input(\"last 2 nums of zipcode: \")\n",
    "house_size = input(\"sqft: \")\n",
    "sold = input(\"sold or not:\")\n",
    "\n",
    "user_input = {\n",
    "    \"status\": status,\n",
    "    \"bed\": bed,\n",
    "    \"bath\": bath,\n",
    "    \"acre_lot\": acre_lot,\n",
    "    \"city\": city,\n",
    "    \"state\": state,\n",
    "    \"zip_code\": zipcode,\n",
    "    \"house_size\": house_size,\n",
    "    \"sold\": sold\n",
    "}\n"
   ]
  },
  {
   "cell_type": "code",
   "execution_count": 44,
   "metadata": {},
   "outputs": [],
   "source": [
    "user_input = pd.DataFrame(user_input, index=[0])"
   ]
  },
  {
   "cell_type": "code",
   "execution_count": 45,
   "metadata": {},
   "outputs": [
    {
     "name": "stdout",
     "output_type": "stream",
     "text": [
      "Predicted house price: ['374k - 699k']\n"
     ]
    }
   ],
   "source": [
    "# send this data to the server using API\n",
    "response = requests.post(\"http://localhost:5000/predict\", json=user_input.to_dict(orient='records'))\n",
    "if response.status_code == 200:\n",
    "    data = response.json()\n",
    "    print(\"Predicted house price:\", data)\n",
    "else:\n",
    "    print(\"Error:\", response.text)\n"
   ]
  }
 ],
 "metadata": {
  "kernelspec": {
   "display_name": "Python 3",
   "language": "python",
   "name": "python3"
  },
  "language_info": {
   "codemirror_mode": {
    "name": "ipython",
    "version": 3
   },
   "file_extension": ".py",
   "mimetype": "text/x-python",
   "name": "python",
   "nbconvert_exporter": "python",
   "pygments_lexer": "ipython3",
   "version": "3.11.4"
  }
 },
 "nbformat": 4,
 "nbformat_minor": 2
}
