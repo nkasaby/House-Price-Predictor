{
 "cells": [
  {
   "cell_type": "code",
   "execution_count": 2,
   "metadata": {},
   "outputs": [],
   "source": [
    "import pickle\n",
    "from flask import Flask, request, jsonify\n",
    "import pandas as pd"
   ]
  },
  {
   "cell_type": "code",
   "execution_count": 3,
   "metadata": {},
   "outputs": [
    {
     "name": "stdout",
     "output_type": "stream",
     "text": [
      " * Serving Flask app '__main__'\n",
      " * Debug mode: off\n"
     ]
    },
    {
     "name": "stderr",
     "output_type": "stream",
     "text": [
      "WARNING: This is a development server. Do not use it in a production deployment. Use a production WSGI server instead.\n",
      " * Running on http://127.0.0.1:5000\n",
      "Press CTRL+C to quit\n"
     ]
    }
   ],
   "source": [
    "RF = pickle.load(open('../Pickle/RandomForest.pkl', 'rb'))\n",
    "\n",
    "app = Flask(__name__)\n",
    "\n",
    "def process_data(data):\n",
    "\n",
    "    df = pd.DataFrame(data, index=[0])\n",
    "\n",
    "    with open('encoder.pkl', 'rb') as f:\n",
    "        encoder = pickle.load(f)\n",
    "\n",
    "    cols = [\"city\", \"state\", \"zip_code\", \"status\", \"sold\"]\n",
    "    encoded_user_data = encoder.transform(df[cols])\n",
    "\n",
    "    encoded_user_data['bed'] = df['bed']\n",
    "    encoded_user_data['bath'] = df['bath']\n",
    "    encoded_user_data['acre_lot'] = df['acre_lot']\n",
    "    encoded_user_data['house_size'] = df['house_size']\n",
    "    encoded_user_data.drop(columns=['zip_code_A>'], inplace=True)\n",
    "\n",
    "    return encoded_user_data\n",
    "\n",
    "\n",
    "@app.route('/predict', methods=['POST'])\n",
    "def predict():\n",
    "    data = request.get_json()\n",
    "    data = process_data(data)\n",
    "    df = pd.DataFrame.from_dict(data)\n",
    "    prediction = RF.predict(df)\n",
    "    return jsonify(prediction.tolist())\n",
    "\n",
    "@app.route('/retrain', methods=['POST'])\n",
    "def retrain():\n",
    "    # read data from database\n",
    "    # assign X_train adn y_train\n",
    "    # RF.fit(X_train, y_train)\n",
    "\n",
    "    # overwrite the pickle to save the new training\n",
    "    with open('RandomForest.pkl', 'wb') as model_pkl:\n",
    "        pickle.dump(RF, model_pkl)\n",
    "\n",
    "try:\n",
    "    if __name__ == '__main__':\n",
    "        app.run(port=5000, debug= False)\n",
    "except Exception as e:\n",
    "    print('Error:', e)\n"
   ]
  }
 ],
 "metadata": {
  "kernelspec": {
   "display_name": "Python 3",
   "language": "python",
   "name": "python3"
  },
  "language_info": {
   "codemirror_mode": {
    "name": "ipython",
    "version": 3
   },
   "file_extension": ".py",
   "mimetype": "text/x-python",
   "name": "python",
   "nbconvert_exporter": "python",
   "pygments_lexer": "ipython3",
   "version": "3.11.4"
  }
 },
 "nbformat": 4,
 "nbformat_minor": 2
}
