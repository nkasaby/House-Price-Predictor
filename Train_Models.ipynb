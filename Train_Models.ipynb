{
 "cells": [
  {
   "cell_type": "code",
   "execution_count": 22,
   "id": "initial_id",
   "metadata": {
    "collapsed": true,
    "ExecuteTime": {
     "end_time": "2024-04-01T23:18:02.668553Z",
     "start_time": "2024-04-01T23:18:02.660261Z"
    }
   },
   "outputs": [],
   "source": [
    "import numpy as np\n",
    "import pandas as pd\n",
    "from sklearn.naive_bayes import GaussianNB\n",
    "from sklearn.model_selection import GridSearchCV\n",
    "from sklearn.model_selection import KFold\n",
    "from sklearn.metrics import classification_report\n",
    "from sklearn.neighbors import KNeighborsClassifier\n",
    "from sklearn.tree import DecisionTreeClassifier\n",
    "from sklearn.ensemble import RandomForestClassifier\n",
    "from sklearn.linear_model import LogisticRegression\n",
    "from sklearn.multiclass import OneVsRestClassifier\n",
    "from sklearn.svm import LinearSVC\n",
    "from sklearn.linear_model import LinearRegression\n",
    "from sklearn.metrics import r2_score\n",
    "from sklearn.tree import DecisionTreeRegressor\n",
    "from sklearn.ensemble import RandomForestRegressor\n",
    "from sklearn.svm import LinearSVR\n",
    "from sklearn.preprocessing import LabelEncoder\n",
    "from tensorflow.keras.callbacks import EarlyStopping\n",
    "from tensorflow.keras.models import Sequential\n",
    "from tensorflow.keras.layers import Dense, Dropout"
   ]
  },
  {
   "cell_type": "code",
   "execution_count": 5,
   "outputs": [],
   "source": [
    "Train = pd.read_csv(\"Train_Set.csv\")\n",
    "Test = pd.read_csv(\"Test_Set.csv\")\n",
    "\n",
    "Train.drop(['Unnamed: 0'], axis=1, inplace=True)\n",
    "Test.drop(['Unnamed: 0'], axis=1, inplace=True)"
   ],
   "metadata": {
    "collapsed": false,
    "ExecuteTime": {
     "end_time": "2024-04-01T21:53:46.636764Z",
     "start_time": "2024-04-01T21:52:42.575659Z"
    }
   },
   "id": "4245291402f6d5a9"
  },
  {
   "cell_type": "code",
   "execution_count": 6,
   "outputs": [],
   "source": [
    "int64_cols = Train.shape[1] - 6\n",
    "cols_convert = Train.columns[:int64_cols]\n",
    "dtype_dict = {col: np.int8 for col in cols_convert}\n",
    "Train[cols_convert] = Train[cols_convert].astype(dtype_dict)\n",
    "\n",
    "int64_cols = Test.shape[1] - 6\n",
    "cols_convert = Test.columns[:int64_cols]\n",
    "dtype_dict = {col: np.int8 for col in cols_convert}\n",
    "Test[cols_convert] = Test[cols_convert].astype(dtype_dict)"
   ],
   "metadata": {
    "collapsed": false,
    "ExecuteTime": {
     "end_time": "2024-04-01T21:54:29.762044Z",
     "start_time": "2024-04-01T21:54:12.408374Z"
    }
   },
   "id": "994d52112ab652b7"
  },
  {
   "cell_type": "code",
   "execution_count": 7,
   "outputs": [],
   "source": [
    "label_cols = [\"label\", \"binned_label\"]\n",
    "\n",
    "X_Train = Train.drop(columns=label_cols)\n",
    "y_binned_Train = Train['binned_label']\n",
    "y_Train = Train['label']\n",
    "\n",
    "X_Test = Test.drop(columns=label_cols)\n",
    "y_binned_Test = Test['binned_label']\n",
    "y_Test = Test['label']"
   ],
   "metadata": {
    "collapsed": false,
    "ExecuteTime": {
     "end_time": "2024-04-01T21:54:51.008005Z",
     "start_time": "2024-04-01T21:54:48.281678Z"
    }
   },
   "id": "1f5df3a26db7ebb7"
  },
  {
   "cell_type": "code",
   "execution_count": 8,
   "outputs": [],
   "source": [
    "KF = KFold(n_splits=5)\n",
    "def Model_Train(Model, X, Y):\n",
    "    Preds = []\n",
    "    for i,j in KF.split(X):\n",
    "        Train_X = X.iloc[i]\n",
    "        Test_X = X.iloc[j]\n",
    "        Train_Y = Y.iloc[i]\n",
    "        \n",
    "        Model.fit(Train_X, Train_Y)\n",
    "        Pred_Y = Model.predict(Test_X)\n",
    "        Preds.append(Pred_Y)"
   ],
   "metadata": {
    "collapsed": false,
    "ExecuteTime": {
     "end_time": "2024-04-01T21:54:53.650202Z",
     "start_time": "2024-04-01T21:54:53.564751Z"
    }
   },
   "id": "b979431b54d59a60"
  },
  {
   "cell_type": "markdown",
   "source": [
    "## Classification:"
   ],
   "metadata": {
    "collapsed": false
   },
   "id": "3e96e70c58588c56"
  },
  {
   "cell_type": "markdown",
   "source": [
    "## KNN"
   ],
   "metadata": {
    "collapsed": false
   },
   "id": "fecf83ec7649e441"
  },
  {
   "cell_type": "code",
   "execution_count": 27,
   "outputs": [
    {
     "name": "stdout",
     "output_type": "stream",
     "text": [
      "Metrics: \n",
      "                  precision    recall  f1-score   support\n",
      "\n",
      "1425k - 875000k       0.99      0.99      0.99     23365\n",
      "    188k - 373k       0.98      0.99      0.99     58034\n",
      "       1k - 89k       0.99      1.00      1.00     23646\n",
      "    374k - 699k       0.99      0.99      0.99     58602\n",
      "   700k - 1424k       0.99      0.99      0.99     35088\n",
      "     90k - 187k       0.99      0.98      0.99     35385\n",
      "\n",
      "       accuracy                           0.99    234120\n",
      "      macro avg       0.99      0.99      0.99    234120\n",
      "   weighted avg       0.99      0.99      0.99    234120\n"
     ]
    }
   ],
   "source": [
    "Range = list(range(1, 6))\n",
    "Param_grid = dict(n_neighbors=Range)    \n",
    "KNN = KNeighborsClassifier()    \n",
    "Grid = GridSearchCV(KNN, Param_grid, cv=5, scoring='accuracy', verbose=3, n_jobs=2)\n",
    "Grid.fit(X_Train, y_binned_Train)\n",
    "best_k = Grid.best_params_['n_neighbors']\n",
    "best_model = Grid.best_estimator_\n",
    "\n",
    "y_pred = best_model.predict(X_Test)\n",
    "print(\"Metrics: \\n\", classification_report(y_binned_Test, y_pred))"
   ],
   "metadata": {
    "collapsed": false,
    "ExecuteTime": {
     "end_time": "2024-04-01T13:21:33.716386Z",
     "start_time": "2024-04-01T10:38:41.001965Z"
    }
   },
   "id": "940f63930bba8265"
  },
  {
   "cell_type": "markdown",
   "source": [
    "## Naive Bayes"
   ],
   "metadata": {
    "collapsed": false
   },
   "id": "7ad5c9a880d58569"
  },
  {
   "cell_type": "code",
   "execution_count": 43,
   "outputs": [
    {
     "name": "stdout",
     "output_type": "stream",
     "text": [
      "Metrics: \n",
      "                  precision    recall  f1-score   support\n",
      "\n",
      "1425k - 875000k       0.20      0.95      0.33     23365\n",
      "    188k - 373k       0.55      0.04      0.08     58034\n",
      "       1k - 89k       0.23      0.83      0.36     23646\n",
      "    374k - 699k       0.63      0.14      0.23     58602\n",
      "   700k - 1424k       0.24      0.09      0.13     35088\n",
      "     90k - 187k       0.26      0.07      0.11     35385\n",
      "\n",
      "       accuracy                           0.25    234120\n",
      "      macro avg       0.35      0.35      0.21    234120\n",
      "   weighted avg       0.41      0.25      0.18    234120\n"
     ]
    }
   ],
   "source": [
    "NB = GaussianNB()\n",
    "Model_Train(NB, X_Train, y_binned_Train)\n",
    "\n",
    "y_pred = NB.predict(X_Test)\n",
    "print(\"Metrics: \\n\", classification_report(y_binned_Test, y_pred))"
   ],
   "metadata": {
    "collapsed": false,
    "ExecuteTime": {
     "end_time": "2024-04-01T15:22:23.549631Z",
     "start_time": "2024-04-01T15:22:16.970028Z"
    }
   },
   "id": "8d6f0972b2344568"
  },
  {
   "cell_type": "markdown",
   "source": [
    "## CART"
   ],
   "metadata": {
    "collapsed": false
   },
   "id": "a08cc4fc3b5bc7f8"
  },
  {
   "cell_type": "code",
   "execution_count": 46,
   "outputs": [
    {
     "name": "stdout",
     "output_type": "stream",
     "text": [
      "Metrics: \n",
      "                  precision    recall  f1-score   support\n",
      "\n",
      "1425k - 875000k       0.99      0.99      0.99     23365\n",
      "    188k - 373k       0.98      0.99      0.99     58034\n",
      "       1k - 89k       1.00      1.00      1.00     23646\n",
      "    374k - 699k       0.99      0.99      0.99     58602\n",
      "   700k - 1424k       0.99      0.99      0.99     35088\n",
      "     90k - 187k       0.99      0.98      0.99     35385\n",
      "\n",
      "       accuracy                           0.99    234120\n",
      "      macro avg       0.99      0.99      0.99    234120\n",
      "   weighted avg       0.99      0.99      0.99    234120\n"
     ]
    }
   ],
   "source": [
    "Cart = DecisionTreeClassifier()\n",
    "Model_Train(Cart, X_Train, y_binned_Train)\n",
    "\n",
    "y_pred = Cart.predict(X_Test)\n",
    "print(\"Metrics: \\n\", classification_report(y_binned_Test, y_pred))"
   ],
   "metadata": {
    "collapsed": false,
    "ExecuteTime": {
     "end_time": "2024-04-01T15:30:08.437962Z",
     "start_time": "2024-04-01T15:26:19.079883Z"
    }
   },
   "id": "e5925c589fa5cdce"
  },
  {
   "cell_type": "markdown",
   "source": [
    "## Random Forest"
   ],
   "metadata": {
    "collapsed": false
   },
   "id": "b403d57301d2c426"
  },
  {
   "cell_type": "code",
   "execution_count": 48,
   "outputs": [
    {
     "name": "stdout",
     "output_type": "stream",
     "text": [
      "Metrics: \n",
      "                  precision    recall  f1-score   support\n",
      "\n",
      "1425k - 875000k       0.99      0.99      0.99     23365\n",
      "    188k - 373k       0.98      0.99      0.99     58034\n",
      "       1k - 89k       1.00      1.00      1.00     23646\n",
      "    374k - 699k       0.99      0.99      0.99     58602\n",
      "   700k - 1424k       0.99      0.99      0.99     35088\n",
      "     90k - 187k       1.00      0.98      0.99     35385\n",
      "\n",
      "       accuracy                           0.99    234120\n",
      "      macro avg       0.99      0.99      0.99    234120\n",
      "   weighted avg       0.99      0.99      0.99    234120\n"
     ]
    }
   ],
   "source": [
    "RF = RandomForestClassifier(n_estimators=10, random_state=42)\n",
    "Model_Train(RF, X_Train, y_binned_Train)\n",
    "\n",
    "y_pred = RF.predict(X_Test)\n",
    "print(\"Metrics: \\n\", classification_report(y_binned_Test, y_pred))"
   ],
   "metadata": {
    "collapsed": false,
    "ExecuteTime": {
     "end_time": "2024-04-01T15:36:03.437291Z",
     "start_time": "2024-04-01T15:30:54.248013Z"
    }
   },
   "id": "aff17b3004eae4fa"
  },
  {
   "cell_type": "markdown",
   "source": [
    "## Logistic Regression"
   ],
   "metadata": {
    "collapsed": false
   },
   "id": "3cda2d8eccac887b"
  },
  {
   "cell_type": "code",
   "execution_count": 49,
   "outputs": [
    {
     "name": "stdout",
     "output_type": "stream",
     "text": [
      "Metrics: \n",
      "                  precision    recall  f1-score   support\n",
      "\n",
      "1425k - 875000k       0.70      0.78      0.74     23365\n",
      "    188k - 373k       0.50      0.64      0.56     58034\n",
      "       1k - 89k       0.62      0.55      0.58     23646\n",
      "    374k - 699k       0.54      0.53      0.54     58602\n",
      "   700k - 1424k       0.53      0.43      0.48     35088\n",
      "     90k - 187k       0.51      0.39      0.45     35385\n",
      "\n",
      "       accuracy                           0.55    234120\n",
      "      macro avg       0.57      0.55      0.56    234120\n",
      "   weighted avg       0.55      0.55      0.55    234120\n"
     ]
    }
   ],
   "source": [
    "LogR = OneVsRestClassifier(LogisticRegression(solver='liblinear',  max_iter=10000))\n",
    "Model_Train(LogR, X_Train, y_binned_Train)\n",
    "\n",
    "y_pred = LogR.predict(X_Test)\n",
    "print(\"Metrics: \\n\", classification_report(y_binned_Test, y_pred))"
   ],
   "metadata": {
    "collapsed": false,
    "ExecuteTime": {
     "end_time": "2024-04-01T15:51:47.010235Z",
     "start_time": "2024-04-01T15:42:14.144284Z"
    }
   },
   "id": "8681255dc60c8b85"
  },
  {
   "cell_type": "markdown",
   "source": [
    "## SVM"
   ],
   "metadata": {
    "collapsed": false
   },
   "id": "b6a5d4f1c2f403f8"
  },
  {
   "cell_type": "code",
   "execution_count": 63,
   "outputs": [
    {
     "name": "stdout",
     "output_type": "stream",
     "text": [
      "Metrics: \n",
      "                  precision    recall  f1-score   support\n",
      "\n",
      "1425k - 875000k       0.65      0.80      0.72     23365\n",
      "    188k - 373k       0.49      0.62      0.55     58034\n",
      "       1k - 89k       0.58      0.57      0.58     23646\n",
      "    374k - 699k       0.55      0.49      0.52     58602\n",
      "   700k - 1424k       0.51      0.41      0.46     35088\n",
      "     90k - 187k       0.50      0.38      0.43     35385\n",
      "\n",
      "       accuracy                           0.54    234120\n",
      "      macro avg       0.55      0.55      0.54    234120\n",
      "   weighted avg       0.53      0.54      0.53    234120\n"
     ]
    }
   ],
   "source": [
    "SVM = LinearSVC(max_iter=5000, dual= False)\n",
    "Model_Train(SVM, X_Train, y_binned_Train)\n",
    "\n",
    "y_pred = SVM.predict(X_Test)\n",
    "print(\"Metrics: \\n\", classification_report(y_binned_Test, y_pred))"
   ],
   "metadata": {
    "collapsed": false,
    "ExecuteTime": {
     "end_time": "2024-04-01T20:33:51.593250Z",
     "start_time": "2024-04-01T20:24:52.872302Z"
    }
   },
   "id": "7f3525e9a60b50d"
  },
  {
   "cell_type": "markdown",
   "source": [
    "## Neural Network"
   ],
   "metadata": {
    "collapsed": false
   },
   "id": "148b4a5c7acba467"
  },
  {
   "cell_type": "code",
   "execution_count": 9,
   "outputs": [],
   "source": [
    "encoder = LabelEncoder()\n",
    "y_binned_encoded = pd.Series(encoder.fit_transform(y_binned_Train))\n",
    "early_stopping = EarlyStopping(monitor='loss', patience=5)"
   ],
   "metadata": {
    "collapsed": false,
    "ExecuteTime": {
     "end_time": "2024-04-01T21:55:04.584382Z",
     "start_time": "2024-04-01T21:55:04.430075Z"
    }
   },
   "id": "8febc9f2aca3fe7b"
  },
  {
   "cell_type": "code",
   "execution_count": 10,
   "outputs": [],
   "source": [
    "nn = Sequential()\n",
    "nn.add(Dense(128, activation='relu'))\n",
    "nn.add(Dropout(0.2)) \n",
    "nn.add(Dense(64, activation='relu'))\n",
    "nn.add(Dropout(0.2)) \n",
    "nn.add(Dense(6, activation='softmax'))\n",
    "\n",
    "nn.compile(optimizer='adam', loss='sparse_categorical_crossentropy', metrics=['accuracy'])"
   ],
   "metadata": {
    "collapsed": false,
    "ExecuteTime": {
     "end_time": "2024-04-01T21:55:07.430531Z",
     "start_time": "2024-04-01T21:55:07.241972Z"
    }
   },
   "id": "3bedf93e3f526c1c"
  },
  {
   "cell_type": "code",
   "execution_count": null,
   "outputs": [],
   "source": [
    "for i,j in KF.split(X_Train):\n",
    "        Train_X = X_Train.iloc[i]\n",
    "        Val_X = X_Train.iloc[j]\n",
    "        Train_Y = y_binned_encoded.iloc[i]\n",
    "        \n",
    "        nn.fit(Train_X, Train_Y, epochs=200, batch_size=256, callbacks=[early_stopping])"
   ],
   "metadata": {
    "collapsed": false
   },
   "id": "458d288dbb760bf0"
  },
  {
   "cell_type": "code",
   "execution_count": 13,
   "outputs": [
    {
     "name": "stdout",
     "output_type": "stream",
     "text": [
      "\u001B[1m7317/7317\u001B[0m \u001B[32m━━━━━━━━━━━━━━━━━━━━\u001B[0m\u001B[37m\u001B[0m \u001B[1m8s\u001B[0m 1ms/step\n",
      "Metrics: \n",
      "               precision    recall  f1-score   support\n",
      "\n",
      "           0       0.91      0.91      0.91     23365\n",
      "           1       0.82      0.87      0.85     58034\n",
      "           2       0.87      0.83      0.85     23646\n",
      "           3       0.86      0.86      0.86     58602\n",
      "           4       0.84      0.83      0.84     35088\n",
      "           5       0.82      0.79      0.80     35385\n",
      "\n",
      "    accuracy                           0.85    234120\n",
      "   macro avg       0.85      0.85      0.85    234120\n",
      "weighted avg       0.85      0.85      0.85    234120\n"
     ]
    }
   ],
   "source": [
    "y_pred = nn.predict(X_Test)\n",
    "y_pred = np.argmax(y_pred, axis=1)\n",
    "y_binned_encoded_test = pd.Series(encoder.fit_transform(y_binned_Test))\n",
    "\n",
    "print(\"Metrics: \\n\", classification_report(y_binned_encoded_test, y_pred))"
   ],
   "metadata": {
    "collapsed": false,
    "ExecuteTime": {
     "end_time": "2024-04-01T22:29:25.902063Z",
     "start_time": "2024-04-01T22:29:13.457098Z"
    }
   },
   "id": "48ea657682a92cfa"
  },
  {
   "cell_type": "markdown",
   "source": [
    "## Regression"
   ],
   "metadata": {
    "collapsed": false
   },
   "id": "d5b5fb849de6a13a"
  },
  {
   "cell_type": "markdown",
   "source": [
    "## Linear Regression"
   ],
   "metadata": {
    "collapsed": false
   },
   "id": "7ca973ff453947bb"
  },
  {
   "cell_type": "code",
   "execution_count": 16,
   "outputs": [
    {
     "name": "stdout",
     "output_type": "stream",
     "text": [
      "R-squared: 0.2070\n"
     ]
    }
   ],
   "source": [
    "LR = LinearRegression()\n",
    "Model_Train(LR, X_Train, y_Train)\n",
    "\n",
    "y_pred = LR.predict(X_Test)\n",
    "print(f\"R-squared: {r2_score(y_Test, y_pred):.4f}\")"
   ],
   "metadata": {
    "collapsed": false,
    "ExecuteTime": {
     "end_time": "2024-04-01T22:36:13.920623Z",
     "start_time": "2024-04-01T22:33:28.116946Z"
    }
   },
   "id": "d1713dc491db4fa6"
  },
  {
   "cell_type": "markdown",
   "source": [
    "## CART"
   ],
   "metadata": {
    "collapsed": false
   },
   "id": "40adf8fa91816805"
  },
  {
   "cell_type": "code",
   "execution_count": 18,
   "outputs": [
    {
     "name": "stdout",
     "output_type": "stream",
     "text": [
      "R-squared: 0.9798\n"
     ]
    }
   ],
   "source": [
    "CartReg = DecisionTreeRegressor(ccp_alpha=0.01, criterion='squared_error') \n",
    "Model_Train(CartReg, X_Train, y_Train)\n",
    "\n",
    "y_pred = CartReg.predict(X_Test)\n",
    "print(f\"R-squared: {r2_score(y_Test, y_pred):.4f}\")"
   ],
   "metadata": {
    "collapsed": false,
    "ExecuteTime": {
     "end_time": "2024-04-01T22:43:06.045592Z",
     "start_time": "2024-04-01T22:37:11.273695Z"
    }
   },
   "id": "f40e96ce5972cd20"
  },
  {
   "cell_type": "markdown",
   "source": [
    "## Random Forrest"
   ],
   "metadata": {
    "collapsed": false
   },
   "id": "88f1a0a4390052e2"
  },
  {
   "cell_type": "code",
   "execution_count": 20,
   "outputs": [
    {
     "name": "stdout",
     "output_type": "stream",
     "text": [
      "R-squared: 0.9758\n"
     ]
    }
   ],
   "source": [
    "RFReg = RandomForestRegressor(n_estimators=10, random_state=42)\n",
    "Model_Train(RFReg, X_Train, y_Train)\n",
    "\n",
    "y_pred = RFReg.predict(X_Test)\n",
    "print(f\"R-squared: {r2_score(y_Test, y_pred):.4f}\")"
   ],
   "metadata": {
    "collapsed": false,
    "ExecuteTime": {
     "end_time": "2024-04-01T23:17:08.437231Z",
     "start_time": "2024-04-01T22:43:11.397740Z"
    }
   },
   "id": "3f97b3c0192d8775"
  },
  {
   "cell_type": "markdown",
   "source": [
    "## SVM"
   ],
   "metadata": {
    "collapsed": false
   },
   "id": "7418e4abe2d21d4e"
  },
  {
   "cell_type": "code",
   "execution_count": 23,
   "outputs": [
    {
     "name": "stdout",
     "output_type": "stream",
     "text": [
      "R-squared: 0.0376\n"
     ]
    }
   ],
   "source": [
    "SVMReg = LinearSVR(dual = 'auto')\n",
    "Model_Train(SVMReg, X_Train, y_Train)\n",
    "\n",
    "y_pred = SVMReg.predict(X_Test)\n",
    "print(f\"R-squared: {r2_score(y_Test, y_pred):.4f}\")"
   ],
   "metadata": {
    "collapsed": false,
    "ExecuteTime": {
     "end_time": "2024-04-01T23:19:19.480294Z",
     "start_time": "2024-04-01T23:18:10.215657Z"
    }
   },
   "id": "80247334c75f4758"
  },
  {
   "cell_type": "markdown",
   "source": [
    "## Neural Network"
   ],
   "metadata": {
    "collapsed": false
   },
   "id": "839363379a889413"
  },
  {
   "cell_type": "code",
   "execution_count": 24,
   "outputs": [],
   "source": [
    "nnReg = Sequential()\n",
    "nnReg.add(Dense(128, activation='relu'))\n",
    "nnReg.add(Dropout(0.2)) \n",
    "nnReg.add(Dense(64, activation='relu'))\n",
    "nnReg.add(Dropout(0.2)) \n",
    "nnReg.add(Dense(1))\n",
    "\n",
    "nnReg.compile(optimizer='adam', loss='mean_squared_error', metrics=['mean_absolute_error'])"
   ],
   "metadata": {
    "collapsed": false,
    "ExecuteTime": {
     "end_time": "2024-04-01T23:22:40.800920Z",
     "start_time": "2024-04-01T23:22:40.652110Z"
    }
   },
   "id": "f1f9ca17d9de799f"
  },
  {
   "cell_type": "code",
   "execution_count": null,
   "outputs": [],
   "source": [
    "for i,j in KF.split(X_Train):\n",
    "        Train_X = X_Train.iloc[i]\n",
    "        Val_X = X_Train.iloc[j]\n",
    "        Train_Y = y_Train.iloc[i]\n",
    "        \n",
    "        nnReg.fit(Train_X, Train_Y, epochs=200, batch_size=256, callbacks=[early_stopping])"
   ],
   "metadata": {
    "collapsed": false
   },
   "id": "48bd6ad9e0e529cf"
  },
  {
   "cell_type": "code",
   "execution_count": 27,
   "outputs": [
    {
     "name": "stdout",
     "output_type": "stream",
     "text": [
      "\u001B[1m7317/7317\u001B[0m \u001B[32m━━━━━━━━━━━━━━━━━━━━\u001B[0m\u001B[37m\u001B[0m \u001B[1m8s\u001B[0m 1ms/step\n",
      "R-squared: 0.2911\n"
     ]
    }
   ],
   "source": [
    "y_pred = nnReg.predict(X_Test)\n",
    "print(f\"R-squared: {r2_score(y_Test, y_pred):.4f}\")"
   ],
   "metadata": {
    "collapsed": false,
    "ExecuteTime": {
     "end_time": "2024-04-01T23:28:34.161794Z",
     "start_time": "2024-04-01T23:28:22.192335Z"
    }
   },
   "id": "dda11173fb1ad88c"
  }
 ],
 "metadata": {
  "kernelspec": {
   "display_name": "Python 3",
   "language": "python",
   "name": "python3"
  },
  "language_info": {
   "codemirror_mode": {
    "name": "ipython",
    "version": 2
   },
   "file_extension": ".py",
   "mimetype": "text/x-python",
   "name": "python",
   "nbconvert_exporter": "python",
   "pygments_lexer": "ipython2",
   "version": "2.7.6"
  }
 },
 "nbformat": 4,
 "nbformat_minor": 5
}
